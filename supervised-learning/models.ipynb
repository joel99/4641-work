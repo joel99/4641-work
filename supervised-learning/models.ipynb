{
 "cells": [
  {
   "cell_type": "code",
   "execution_count": 58,
   "metadata": {},
   "outputs": [],
   "source": [
    "%matplotlib inline\n",
    "from load_data import load_abalone, load_heart_disease\n",
    "from datetime import datetime\n",
    "from sklearn.model_selection import cross_val_score, KFold, train_test_split\n",
    "from sklearn.metrics import accuracy_score, confusion_matrix\n",
    "import numpy as np\n",
    "import matplotlib.pyplot as plt\n",
    "\n",
    "\n",
    "seed = 1\n",
    "np.random.seed(seed)\n",
    "test_ratios = np.arange(10) / 20 + 0.05 # from 0.05 to .5 \n",
    "test_ratio = .2\n",
    "\n",
    "x, y = load_heart_disease()\n",
    "x, y = load_abalone()\n",
    "x_tr, x_te, y_tr, y_te = train_test_split(x, y, test_size=test_ratio, random_state=seed)\n",
    "split_presets = [train_test_split(x, y, test_size=ratio, random_state=seed) for ratio in test_ratios]\n",
    "# Other visualization notes: confusion matrix\n",
    "# 60 20 20 best split\n",
    "# Consider oversampling/undersampling to balance bias: https://www.datascience.com/blog/imbalanced-data\n",
    "def r_err(y_te, y_pred): # return error\n",
    "    return round(1 - accuracy_score(y_te, y_pred), 3)"
   ]
  },
  {
   "cell_type": "code",
   "execution_count": 59,
   "metadata": {},
   "outputs": [
    {
     "name": "stdout",
     "output_type": "stream",
     "text": [
      "Train KFold k=3\n"
     ]
    }
   ],
   "source": [
    "# Hyperparameters\n",
    "validation_splits = 3\n",
    "kf = KFold(n_splits=validation_splits)\n",
    "print(\"Train KFold k={}\".format(validation_splits))"
   ]
  },
  {
   "cell_type": "code",
   "execution_count": 41,
   "metadata": {},
   "outputs": [
    {
     "name": "stdout",
     "output_type": "stream",
     "text": [
      "0.8263493353937444\n",
      "Decision tree trained in 0:00:00.012869\n",
      "0.8325358851674641\n"
     ]
    }
   ],
   "source": [
    "# Decision Tree: https://scikit-learn.org/stable/modules/tree.html\n",
    "# Pruning: https://stackoverflow.com/questions/49428469/pruning-decision-trees\n",
    "from sklearn.tree import DecisionTreeClassifier, export_graphviz\n",
    "clf = DecisionTreeClassifier(random_state=seed, max_depth=7)\n",
    "accuracy = cross_val_score(clf, x_tr, y_tr, scoring='accuracy', cv=kf)\n",
    "print(accuracy.mean()) # Easy graph over number of classes here\n",
    "time_start = datetime.now()\n",
    "clf = clf.fit(x_tr, y_tr)\n",
    "print(\"Decision tree trained in {}\".format(datetime.now() - time_start))\n",
    "y_pred = clf.predict(x_te)\n",
    "print(accuracy_score(y_te, y_pred))"
   ]
  },
  {
   "cell_type": "code",
   "execution_count": 42,
   "metadata": {},
   "outputs": [],
   "source": [
    "dt_hyperparams = {\"criterion\": [\"gini\", \"entropy\"],\n",
    "                  \"max_depth\": range(1, 30),\n",
    "                  \"max_leaf_nodes\": range(10, 50),\n",
    "                  \"min_weight_fraction\": np.arange(20) * 0.01}\n",
    "dt_results = {}\n",
    "\n",
    "for key in dt_hyperparams:\n",
    "    dt_results[key] = []\n",
    "    dt_results[\"tr_{}\".format(key)] = []"
   ]
  },
  {
   "cell_type": "code",
   "execution_count": 76,
   "metadata": {},
   "outputs": [
    {
     "name": "stdout",
     "output_type": "stream",
     "text": [
      "[0.196, 0.227, 0.247, 0.208, 0.221, 0.225, 0.228, 0.224, 0.223, 0.239]\n"
     ]
    }
   ],
   "source": [
    "clf = DecisionTreeClassifier(random_state=seed)\n",
    "for splits in split_presets:\n",
    "    split_x_tr, split_x_te, split_y_tr, split_y_te = splits\n",
    "    clf = clf.fit(split_x_tr, split_y_tr)\n",
    "    y_pred = clf.predict(split_x_te)\n",
    "    dt_results[\"tr_size\"].append(r_acc(split_y_te, y_pred))\n",
    "    y_tr_pred = clf.predict(split_x_tr)\n",
    "    dt_results[\"tr_tr_size\"].append(r_acc(split_y_tr, y_tr_pred))\n",
    "print(dt_results[\"tr_size\"])"
   ]
  },
  {
   "cell_type": "code",
   "execution_count": 44,
   "metadata": {},
   "outputs": [
    {
     "name": "stdout",
     "output_type": "stream",
     "text": [
      "[0.833, 0.807]\n"
     ]
    }
   ],
   "source": [
    "for crit in dt_hyperparams[\"criterion\"]:\n",
    "    clf = DecisionTreeClassifier(criterion=crit, max_depth=10)\n",
    "    clf = clf.fit(x_tr, y_tr)\n",
    "    y_pred = clf.predict(x_te)\n",
    "    dt_results[\"criterion\"].append(r_acc(y_te, y_pred))\n",
    "    y_tr_pred = clf.predict(split_x_tr)\n",
    "    dt_results[\"tr_criterion\"].append(r_acc(split_y_tr, y_tr_pred))\n",
    "print(dt_results[\"criterion\"])"
   ]
  },
  {
   "cell_type": "code",
   "execution_count": 45,
   "metadata": {},
   "outputs": [
    {
     "name": "stdout",
     "output_type": "stream",
     "text": [
      "[0.831, 0.831, 0.836, 0.842, 0.847, 0.841, 0.837, 0.833, 0.829, 0.83, 0.815, 0.805, 0.804, 0.799, 0.788, 0.787, 0.783, 0.793, 0.792, 0.795, 0.785, 0.788, 0.785, 0.779, 0.774, 0.779, 0.786, 0.788, 0.791]\n"
     ]
    }
   ],
   "source": [
    "for depth in dt_hyperparams[\"max_depth\"]:\n",
    "    clf = DecisionTreeClassifier(max_depth=depth)\n",
    "    clf = clf.fit(x_tr, y_tr)\n",
    "    y_pred = clf.predict(x_te)\n",
    "    dt_results[\"max_depth\"].append(r_acc(y_te, y_pred))\n",
    "    y_tr_pred = clf.predict(split_x_tr)\n",
    "    dt_results[\"tr_max_depth\"].append(r_acc(split_y_tr, y_tr_pred))\n",
    "print(dt_results[\"max_depth\"])"
   ]
  },
  {
   "cell_type": "code",
   "execution_count": 46,
   "metadata": {},
   "outputs": [
    {
     "name": "stdout",
     "output_type": "stream",
     "text": [
      "[0.846, 0.843, 0.843, 0.842, 0.842, 0.842, 0.843, 0.843, 0.843, 0.842, 0.84, 0.841, 0.833, 0.834, 0.833, 0.83, 0.83, 0.83, 0.836, 0.836, 0.837, 0.836, 0.837, 0.837, 0.837, 0.837, 0.837, 0.837, 0.837, 0.837, 0.837, 0.836, 0.836, 0.836, 0.835, 0.835, 0.835, 0.835, 0.834, 0.833]\n"
     ]
    }
   ],
   "source": [
    "for mln in dt_hyperparams[\"max_leaf_nodes\"]:\n",
    "    clf = DecisionTreeClassifier(max_depth=10, max_leaf_nodes=mln)\n",
    "    clf = clf.fit(x_tr, y_tr)\n",
    "    y_pred = clf.predict(x_te)\n",
    "    dt_results[\"max_leaf_nodes\"].append(r_acc(y_te, y_pred))\n",
    "    y_tr_pred = clf.predict(split_x_tr)\n",
    "    dt_results[\"tr_max_leaf_nodes\"].append(r_acc(split_y_tr, y_tr_pred))\n",
    "print(dt_results[\"max_leaf_nodes\"])"
   ]
  },
  {
   "cell_type": "code",
   "execution_count": 47,
   "metadata": {},
   "outputs": [
    {
     "name": "stdout",
     "output_type": "stream",
     "text": [
      "[0.83, 0.839, 0.834, 0.83, 0.836, 0.836, 0.831, 0.831, 0.831, 0.831, 0.831, 0.831, 0.831, 0.831, 0.831, 0.831, 0.831, 0.831, 0.831, 0.831]\n"
     ]
    }
   ],
   "source": [
    "for frac in dt_hyperparams[\"min_weight_fraction\"]:\n",
    "    clf = DecisionTreeClassifier(max_depth=10, min_weight_fraction_leaf=frac)\n",
    "    clf = clf.fit(x_tr, y_tr)\n",
    "    y_pred = clf.predict(x_te)\n",
    "    dt_results[\"min_weight_fraction\"].append(r_acc(y_te, y_pred))\n",
    "    y_tr_pred = clf.predict(split_x_tr)\n",
    "    dt_results[\"tr_min_weight_fraction\"].append(r_acc(split_y_tr, y_tr_pred))\n",
    "print(dt_results[\"min_weight_fraction\"])"
   ]
  },
  {
   "cell_type": "code",
   "execution_count": 48,
   "metadata": {},
   "outputs": [
    {
     "data": {
      "text/plain": [
       "'abalone.pdf.pdf'"
      ]
     },
     "execution_count": 48,
     "metadata": {},
     "output_type": "execute_result"
    }
   ],
   "source": [
    "import graphviz \n",
    "dot_data = export_graphviz(clf, out_file=None) \n",
    "graph = graphviz.Source(dot_data) \n",
    "graph.render(\"abalone\") \n",
    "graph.view()"
   ]
  },
  {
   "cell_type": "code",
   "execution_count": 60,
   "metadata": {},
   "outputs": [
    {
     "name": "stdout",
     "output_type": "stream",
     "text": [
      "0.8389252633180685\n",
      "Neural net trained in 0:00:00.766695\n",
      "0.8480861244019139\n"
     ]
    }
   ],
   "source": [
    "# Neural Net: https://scikit-learn.org/stable/modules/neural_networks_supervised.html\n",
    "# Sample sanity run\n",
    "from sklearn.neural_network import MLPClassifier\n",
    "clf = MLPClassifier(solver='lbfgs', alpha=1e-3,\n",
    "                     hidden_layer_sizes=(10, 10), random_state=seed)\n",
    "accuracy = cross_val_score(clf, x_tr, y_tr, scoring='accuracy', cv=kf)\n",
    "print(accuracy.mean()) # Easy graph over number of classes here\n",
    "time_start = datetime.now()\n",
    "clf = clf.fit(x_tr, y_tr)\n",
    "print(\"Neural net trained in {}\".format(datetime.now() - time_start))\n",
    "y_pred = clf.predict(x_te)\n",
    "print(accuracy_score(y_te, y_pred))"
   ]
  },
  {
   "cell_type": "code",
   "execution_count": 61,
   "metadata": {},
   "outputs": [],
   "source": [
    "# Neural net hyperparams\n",
    "from sklearn.utils.extmath import cartesian\n",
    "net_hyperparams = {\"activation\": ['identity','relu', 'logistic', 'tanh'],\n",
    "               \"epochs\": np.arange(200) + 1, # iterations - when testing iterations set tol to 1e-8 or something\n",
    "               \"arch1\": [()] + [(i) for i in (np.arange(100) + 1)],\n",
    "               \"arch2\": cartesian((np.arange(1, 21), np.arange(1, 21))), # 2d plane search - reshape 20x20x2 for graph\n",
    "               \"arch3\": [[10] * i for i in range(3, 10)], # Deeper architectures with 10 per layer\n",
    "               \"alpha\": (np.arange(100) + 1) * 1e-5} # 1e-5 -> 1e-3\n",
    "# Base params: relu, max_iter: 200 (==> convergence), lbfgs (good for smaller datasets), standard alpha\n",
    "net_results = {}\n",
    "\n",
    "for key in net_hyperparams:\n",
    "    net_results[key] = []\n",
    "    net_results[\"tr_{}\".format(key)] = []"
   ]
  },
  {
   "cell_type": "code",
   "execution_count": 73,
   "metadata": {},
   "outputs": [
    {
     "name": "stdout",
     "output_type": "stream",
     "text": [
      "\n",
      "[0.167, 0.175, 0.159, 0.15, 0.149, 0.156, 0.157, 0.157, 0.156, 0.156]\n"
     ]
    }
   ],
   "source": [
    "clf = MLPClassifier(solver='lbfgs', hidden_layer_sizes=(10, 10), random_state=seed)\n",
    "for splits in split_presets:\n",
    "    split_x_tr, split_x_te, split_y_tr, split_y_te = splits\n",
    "    clf = clf.fit(split_x_tr, split_y_tr)\n",
    "    y_pred = clf.predict(split_x_te)\n",
    "    net_results[\"tr_size\"].append(r_acc(split_y_te, y_pred))\n",
    "    y_tr_pred = clf.predict(split_x_tr)\n",
    "    net_results[\"tr_tr_size\"].append(r_acc(split_y_tr, y_tr_pred))\n",
    "print(net_results[\"tr_size\"])"
   ]
  },
  {
   "cell_type": "code",
   "execution_count": 75,
   "metadata": {},
   "outputs": [
    {
     "data": {
      "image/png": "[encoded data removed]",
      "text/plain": [
       "<matplotlib.figure.Figure at 0x7fcfd610b6a0>"
      ]
     },
     "metadata": {},
     "output_type": "display_data"
    }
   ],
   "source": [
    "plt.plot(test_ratios, net_results[\"tr_size\"], label=\"Test\")\n",
    "plt.plot(test_ratios, net_results[\"tr_tr_size\"], label=\"Train\")\n",
    "plt.legend()\n",
    "plt.ylabel(\"Error\")\n",
    "plt.xlabel(\"Test ratio\")\n",
    "plt.savefig(\"net_tr_size.png\")"
   ]
  },
  {
   "cell_type": "code",
   "execution_count": null,
   "metadata": {},
   "outputs": [],
   "source": [
    "for act in net_hyperparams[\"activation\"]:\n",
    "    clf = MLPClassifier(solver='lbfgs', hidden_layer_sizes=(10, 10), activation=act, random_state=seed)\n",
    "    clf = clf.fit(x_tr, y_tr)\n",
    "    y_pred = clf.predict(x_te)\n",
    "    net_results[\"activation\"].append(r_acc(y_te, y_pred))\n",
    "    y_tr_pred = clf.predict(split_x_tr)\n",
    "    net_results[\"tr_activation\"].append(r_acc(split_y_tr, y_tr_pred))\n",
    "print(net_results[\"activation\"])\n"
   ]
  },
  {
   "cell_type": "code",
   "execution_count": 63,
   "metadata": {},
   "outputs": [
    {
     "ename": "KeyError",
     "evalue": "'activation'",
     "output_type": "error",
     "traceback": [
      "\u001b[0;31m---------------------------------------------------------------------------\u001b[0m",
      "\u001b[0;31mKeyError\u001b[0m                                  Traceback (most recent call last)",
      "\u001b[0;32m<ipython-input-63-fd9ac595b149>\u001b[0m in \u001b[0;36m<module>\u001b[0;34m()\u001b[0m\n\u001b[0;32m----> 1\u001b[0;31m \u001b[0mplt\u001b[0m\u001b[0;34m.\u001b[0m\u001b[0mplot\u001b[0m\u001b[0;34m(\u001b[0m\u001b[0mnp\u001b[0m\u001b[0;34m.\u001b[0m\u001b[0marange\u001b[0m\u001b[0;34m(\u001b[0m\u001b[0mlen\u001b[0m\u001b[0;34m(\u001b[0m\u001b[0mnet_hyperparams\u001b[0m\u001b[0;34m[\u001b[0m\u001b[0;34m\"activation\"\u001b[0m\u001b[0;34m]\u001b[0m\u001b[0;34m)\u001b[0m\u001b[0;34m)\u001b[0m\u001b[0;34m,\u001b[0m \u001b[0mnet_results\u001b[0m\u001b[0;34m[\u001b[0m\u001b[0;34m\"activation\"\u001b[0m\u001b[0;34m]\u001b[0m\u001b[0;34m)\u001b[0m\u001b[0;34m\u001b[0m\u001b[0m\n\u001b[0m",
      "\u001b[0;31mKeyError\u001b[0m: 'activation'"
     ]
    }
   ],
   "source": [
    "plt.plot(np.arange(len(net_hyperparams[\"activation\"])), net_results[\"activation\"])"
   ]
  },
  {
   "cell_type": "code",
   "execution_count": 55,
   "metadata": {},
   "outputs": [
    {
     "data": {
      "text/plain": [
       "[<matplotlib.lines.Line2D at 0x7fcfd64a6080>]"
      ]
     },
     "execution_count": 55,
     "metadata": {},
     "output_type": "execute_result"
    },
    {
     "data": {
      "image/png": "[encoded data removed]",
      "text/plain": [
       "<matplotlib.figure.Figure at 0x7fcfd64a63c8>"
      ]
     },
     "metadata": {},
     "output_type": "display_data"
    }
   ],
   "source": [
    "net_results[\"epochs_time\"] = []\n",
    "for ep in net_hyperparams[\"epochs\"]:\n",
    "    clf = MLPClassifier(solver='lbfgs', hidden_layer_sizes=(10, 10), max_iter=ep, tol=1e-10, random_state=seed)\n",
    "    time_start = datetime.now()\n",
    "    clf = clf.fit(x_tr, y_tr)\n",
    "    time_elapsed = (datetime.now() - time_start).microseconds\n",
    "    y_pred = clf.predict(x_te)    \n",
    "    net_results[\"epochs\"].append(r_acc(y_te, y_pred))\n",
    "    net_results[\"epochs_time\"].append(round(time_elapsed, 3))\n",
    "    y_tr_pred = clf.predict(split_x_tr)\n",
    "    net_results[\"tr_epochs\"].append(r_acc(split_y_tr, y_tr_pred))\n",
    "net_results[\"epochs_time\"] = np.asarray(net_results[\"epochs_time\"]) * 1e-3 # Microseconds -> ms"
   ]
  },
  {
   "cell_type": "code",
   "execution_count": 56,
   "metadata": {},
   "outputs": [
    {
     "data": {
      "text/plain": [
       "[<matplotlib.lines.Line2D at 0x7fcfd6425780>]"
      ]
     },
     "execution_count": 56,
     "metadata": {},
     "output_type": "execute_result"
    },
    {
     "data": {
      "image/png": "[encoded data removed]",
      "text/plain": [
       "<matplotlib.figure.Figure at 0x7fcfd6470518>"
      ]
     },
     "metadata": {},
     "output_type": "display_data"
    }
   ],
   "source": [
    "fig, axes = plt.subplots(1, 2)\n",
    "axes[0].plot(net_hyperparams[\"epochs\"], net_results[\"epochs\"])\n",
    "axes[1].plot(net_hyperparams[\"epochs\"], net_results[\"epochs_time\"])\n"
   ]
  },
  {
   "cell_type": "code",
   "execution_count": 31,
   "metadata": {},
   "outputs": [
    {
     "name": "stdout",
     "output_type": "stream",
     "text": [
      "{'alpha': [0.7868852459016393, 0.7868852459016393, 0.7704918032786885, 0.8032786885245902, 0.8032786885245902, 0.8032786885245902, 0.8032786885245902, 0.8032786885245902, 0.7868852459016393, 0.7868852459016393, 0.8032786885245902, 0.8032786885245902, 0.819672131147541, 0.819672131147541, 0.7868852459016393, 0.819672131147541, 0.7868852459016393, 0.7868852459016393, 0.7868852459016393, 0.7704918032786885, 0.7868852459016393, 0.7868852459016393, 0.7868852459016393, 0.7868852459016393, 0.7868852459016393, 0.7868852459016393, 0.8032786885245902, 0.7868852459016393, 0.8032786885245902, 0.8032786885245902, 0.819672131147541, 0.8032786885245902, 0.8032786885245902, 0.819672131147541, 0.819672131147541, 0.819672131147541, 0.8360655737704918, 0.819672131147541, 0.8360655737704918, 0.819672131147541, 0.8360655737704918, 0.819672131147541, 0.819672131147541, 0.819672131147541, 0.819672131147541, 0.819672131147541, 0.819672131147541, 0.819672131147541, 0.8360655737704918, 0.819672131147541, 0.819672131147541, 0.819672131147541, 0.819672131147541, 0.819672131147541, 0.8360655737704918, 0.8032786885245902, 0.819672131147541, 0.819672131147541, 0.819672131147541, 0.8524590163934426, 0.819672131147541, 0.819672131147541, 0.819672131147541, 0.8524590163934426, 0.8360655737704918, 0.8524590163934426, 0.8524590163934426, 0.8360655737704918, 0.8524590163934426, 0.819672131147541, 0.8360655737704918, 0.8360655737704918, 0.819672131147541, 0.8032786885245902, 0.7868852459016393, 0.819672131147541, 0.8032786885245902, 0.8032786885245902, 0.819672131147541, 0.8032786885245902, 0.8524590163934426, 0.819672131147541, 0.819672131147541, 0.8032786885245902, 0.8524590163934426, 0.8360655737704918, 0.7868852459016393, 0.8360655737704918, 0.8032786885245902, 0.819672131147541, 0.819672131147541, 0.8032786885245902, 0.8032786885245902, 0.8360655737704918, 0.8360655737704918, 0.819672131147541, 0.819672131147541, 0.8360655737704918, 0.8032786885245902, 0.8360655737704918]}\n"
     ]
    }
   ],
   "source": [
    "for a in net_hyperparams[\"alpha\"]:\n",
    "    clf = MLPClassifier(solver='lbfgs', hidden_layer_sizes=(10, 10), alpha=a, random_state=seed)\n",
    "    clf = clf.fit(x_tr, y_tr)\n",
    "    y_pred = clf.predict(x_te)\n",
    "    net_results[\"alpha\"].append(r_acc(y_te, y_pred))\n",
    "    y_tr_pred = clf.predict(split_x_tr)\n",
    "    net_results[\"tr_alpha\"].append(r_acc(split_y_tr, y_tr_pred))\n",
    "print(net_results[\"alpha\"])"
   ]
  },
  {
   "cell_type": "code",
   "execution_count": 48,
   "metadata": {},
   "outputs": [
    {
     "name": "stdout",
     "output_type": "stream",
     "text": [
      "{'arch2': [0.82, 0.82, 0.836, 0.869, 0.803, 0.82, 0.836, 0.852, 0.82, 0.836, 0.836, 0.836, 0.852, 0.836, 0.803, 0.869, 0.82, 0.836, 0.82, 0.852, 0.787, 0.787, 0.82, 0.803, 0.803, 0.852, 0.82, 0.803, 0.836, 0.803, 0.82, 0.787, 0.787, 0.754, 0.787, 0.803, 0.82, 0.82, 0.787, 0.82, 0.59, 0.82, 0.82, 0.82, 0.82, 0.787, 0.803, 0.803, 0.738, 0.77, 0.738, 0.738, 0.754, 0.77, 0.803, 0.721, 0.82, 0.787, 0.738, 0.754, 0.721, 0.77, 0.803, 0.77, 0.787, 0.787, 0.77, 0.787, 0.787, 0.689, 0.754, 0.672, 0.705, 0.787, 0.689, 0.803, 0.738, 0.836, 0.738, 0.738, 0.59, 0.77, 0.738, 0.738, 0.754, 0.77, 0.721, 0.721, 0.82, 0.803, 0.836, 0.721, 0.787, 0.77, 0.738, 0.82, 0.82, 0.77, 0.754, 0.738, 0.59, 0.836, 0.754, 0.754, 0.787, 0.754, 0.721, 0.754, 0.705, 0.721, 0.705, 0.672, 0.836, 0.754, 0.754, 0.82, 0.803, 0.77, 0.738, 0.77, 0.787, 0.754, 0.672, 0.787, 0.82, 0.787, 0.705, 0.803, 0.672, 0.754, 0.77, 0.82, 0.738, 0.672, 0.787, 0.77, 0.787, 0.738, 0.787, 0.738, 0.803, 0.754, 0.738, 0.787, 0.754, 0.738, 0.836, 0.672, 0.672, 0.738, 0.721, 0.787, 0.787, 0.721, 0.803, 0.787, 0.77, 0.787, 0.721, 0.738, 0.754, 0.82, 0.803, 0.721, 0.77, 0.77, 0.77, 0.721, 0.738, 0.787, 0.754, 0.721, 0.738, 0.754, 0.803, 0.82, 0.721, 0.754, 0.738, 0.754, 0.59, 0.738, 0.738, 0.787, 0.803, 0.738, 0.787, 0.77, 0.82, 0.787, 0.803, 0.705, 0.754, 0.721, 0.672, 0.77, 0.754, 0.689, 0.754, 0.77, 0.836, 0.836, 0.82, 0.77, 0.77, 0.754, 0.787, 0.836, 0.738, 0.721, 0.738, 0.787, 0.787, 0.803, 0.738, 0.803, 0.803, 0.689, 0.787, 0.689, 0.738, 0.77, 0.738, 0.803, 0.738, 0.77, 0.738, 0.77, 0.705, 0.787, 0.754, 0.787, 0.705, 0.754, 0.787, 0.77, 0.852, 0.738, 0.721, 0.77, 0.82, 0.754, 0.836, 0.77, 0.787, 0.721, 0.77, 0.721, 0.705, 0.82, 0.754, 0.77, 0.721, 0.787, 0.738, 0.787, 0.787, 0.738, 0.738, 0.77, 0.754, 0.787, 0.836, 0.82, 0.754, 0.787, 0.803, 0.77, 0.721, 0.77, 0.82, 0.82, 0.738, 0.787, 0.77, 0.787, 0.754, 0.754, 0.77, 0.787, 0.754, 0.787, 0.836, 0.738, 0.754, 0.77, 0.77, 0.82, 0.787, 0.754, 0.738, 0.754, 0.803, 0.721, 0.738, 0.689, 0.689, 0.721, 0.754, 0.803, 0.836, 0.787, 0.82, 0.738, 0.77, 0.721, 0.721, 0.721, 0.721, 0.836, 0.754, 0.787, 0.738, 0.787, 0.738, 0.803, 0.82, 0.803, 0.754, 0.787, 0.82, 0.77, 0.77, 0.77, 0.754, 0.77, 0.787, 0.77, 0.77, 0.738, 0.803, 0.754, 0.754, 0.77, 0.803, 0.738, 0.836, 0.77, 0.721, 0.738, 0.82, 0.754, 0.754, 0.754, 0.803, 0.787, 0.77, 0.754, 0.77, 0.738, 0.754, 0.77, 0.721, 0.738, 0.721, 0.738, 0.754, 0.738, 0.738, 0.787, 0.836, 0.82, 0.803, 0.738, 0.721, 0.803, 0.787, 0.754, 0.77, 0.787, 0.721, 0.754, 0.754, 0.705, 0.705, 0.787, 0.705, 0.705, 0.754, 0.754, 0.787, 0.82, 0.754, 0.803, 0.787, 0.754, 0.738, 0.754, 0.77, 0.77, 0.803, 0.77, 0.754, 0.738, 0.77, 0.754, 0.77, 0.787, 0.754, 0.705], 'arch1': [0.77, 0.836, 0.754, 0.803, 0.738, 0.803, 0.738, 0.82, 0.705, 0.82, 0.721, 0.705, 0.803, 0.754, 0.754, 0.754, 0.754, 0.77, 0.82, 0.803, 0.787, 0.787, 0.738, 0.689, 0.738, 0.787, 0.738, 0.738, 0.787, 0.852, 0.705, 0.77, 0.82, 0.803, 0.689, 0.787, 0.754, 0.82, 0.77, 0.787, 0.803, 0.82, 0.787, 0.787, 0.738, 0.787, 0.77, 0.77, 0.738, 0.754, 0.754, 0.754, 0.754, 0.77, 0.738, 0.787, 0.754, 0.754, 0.82, 0.836, 0.754, 0.787, 0.738, 0.738, 0.803, 0.705, 0.705, 0.77, 0.787, 0.754, 0.738, 0.803, 0.803, 0.738, 0.738, 0.77, 0.77, 0.787, 0.754, 0.77, 0.738, 0.77, 0.803, 0.721, 0.754, 0.738, 0.754, 0.77, 0.803, 0.82, 0.803, 0.754, 0.721, 0.705, 0.787, 0.77, 0.754, 0.787, 0.787, 0.77, 0.738], 'arch3': [0.754, 0.721, 0.738, 0.754, 0.672, 0.836, 0.754]}\n"
     ]
    }
   ],
   "source": [
    "arches = [\"arch1\", \"arch2\", \"arch3\"]\n",
    "for arch_name in arches:\n",
    "    for arch in net_hyperparams[arch_name]:\n",
    "        clf = MLPClassifier(solver='lbfgs', hidden_layer_sizes=arch, random_state=seed)\n",
    "        clf = clf.fit(x_tr, y_tr)\n",
    "        y_pred = clf.predict(x_te)\n",
    "        net_results[arch_name].append(r_acc(y_te, y_pred))\n",
    "        y_tr_pred = clf.predict(split_x_tr)\n",
    "        net_results[\"tr_{}\".format(arch_name)].append(r_acc(split_y_tr, y_tr_pred))\n",
    "\n",
    "print(net_results[\"arch1\"], net_results[\"arch2\"], net_results[\"arch3\"])"
   ]
  },
  {
   "cell_type": "code",
   "execution_count": 6,
   "metadata": {},
   "outputs": [
    {
     "name": "stdout",
     "output_type": "stream",
     "text": [
      "0.8135288065843621\n",
      "AdaBoosted classifier trained in 0:00:00.053851\n",
      "0.6721311475409836\n"
     ]
    }
   ],
   "source": [
    "# Boosting (Adaboost): https://scikit-learn.org/stable/modules/generated/sklearn.ensemble.AdaBoostClassifier.html\n",
    "from sklearn.ensemble import AdaBoostClassifier\n",
    "clf = AdaBoostClassifier(DecisionTreeClassifier(max_depth=1, random_state=seed), random_state=seed)\n",
    "\n",
    "accuracy = cross_val_score(clf, x_tr, y_tr, scoring='accuracy', cv=kf)\n",
    "print(accuracy.mean()) # Easy graph over number of classes here\n",
    "time_start = datetime.now()\n",
    "clf = clf.fit(x_tr, y_tr)\n",
    "print(\"AdaBoosted classifier trained in {}\".format(datetime.now() - time_start))\n",
    "y_pred = clf.predict(x_te)\n",
    "y_pred = clf.predict(x_te)\n",
    "print(accuracy_score(y_te, y_pred))\n"
   ]
  },
  {
   "cell_type": "code",
   "execution_count": 7,
   "metadata": {},
   "outputs": [],
   "source": [
    "from sklearn.linear_model import SGDClassifier\n",
    "base_classifiers = [DecisionTreeClassifier(max_depth=1, random_state=seed), \n",
    "                    SGDClassifier(loss='log', random_state=seed),\n",
    "                    SGDClassifier(loss='hinge', random_state=seed)]\n",
    "ada_hyperparams = {\"base\": base_classifiers,\n",
    "                   \"n\": np.arange(1, 51),\n",
    "                   \"max_depth\": np.arange(1,5)} # for decision tree\n",
    "ada_results = {}\n",
    "for key in ada_hyperparams:\n",
    "    ada_results[key] = []\n",
    "    ada_results[\"tr_{}\".format(key)] = []"
   ]
  },
  {
   "cell_type": "code",
   "execution_count": 8,
   "metadata": {},
   "outputs": [
    {
     "name": "stdout",
     "output_type": "stream",
     "text": [
      "[0.562, 0.645, 0.739, 0.672, 0.684, 0.747, 0.717, 0.769, 0.721, 0.742]\n"
     ]
    }
   ],
   "source": [
    "clf = AdaBoostClassifier(random_state=seed)\n",
    "for splits in split_presets:\n",
    "    split_x_tr, split_x_te, split_y_tr, split_y_te = splits\n",
    "    clf = clf.fit(split_x_tr, split_y_tr)\n",
    "    y_pred = clf.predict(split_x_te)\n",
    "    ada_results[\"tr_size\"].append(r_acc(split_y_te, y_pred))\n",
    "    y_tr_pred = clf.predict(split_x_tr)\n",
    "    ada_results[\"tr_tr_size\"].append(r_acc(split_y_tr, y_tr_pred))\n",
    "print(ada_results[\"tr_size\"])"
   ]
  },
  {
   "cell_type": "code",
   "execution_count": null,
   "metadata": {},
   "outputs": [],
   "source": [
    "plt.plot(test_ratios, net_results[\"tr_size\"])\n",
    "plt.xlabel(\"Test set size\")\n",
    "plt.savefig(\"ada_tr_size.png\")"
   ]
  },
  {
   "cell_type": "code",
   "execution_count": 11,
   "metadata": {},
   "outputs": [
    {
     "name": "stdout",
     "output_type": "stream",
     "text": [
      "[0.738, 0.754, 0.754]\n"
     ]
    },
    {
     "name": "stderr",
     "output_type": "stream",
     "text": [
      "/home/joel/anaconda2/envs/pyEnv/lib/python3.5/site-packages/sklearn/linear_model/stochastic_gradient.py:128: FutureWarning: max_iter and tol parameters have been added in <class 'sklearn.linear_model.stochastic_gradient.SGDClassifier'> in 0.19. If both are left unset, they default to max_iter=5 and tol=None. If tol is not None, max_iter defaults to max_iter=1000. From 0.21, default max_iter will be 1000, and default tol will be 1e-3.\n",
      "  \"and default tol will be 1e-3.\" % type(self), FutureWarning)\n",
      "/home/joel/anaconda2/envs/pyEnv/lib/python3.5/site-packages/sklearn/linear_model/stochastic_gradient.py:128: FutureWarning: max_iter and tol parameters have been added in <class 'sklearn.linear_model.stochastic_gradient.SGDClassifier'> in 0.19. If both are left unset, they default to max_iter=5 and tol=None. If tol is not None, max_iter defaults to max_iter=1000. From 0.21, default max_iter will be 1000, and default tol will be 1e-3.\n",
      "  \"and default tol will be 1e-3.\" % type(self), FutureWarning)\n",
      "/home/joel/anaconda2/envs/pyEnv/lib/python3.5/site-packages/sklearn/linear_model/stochastic_gradient.py:128: FutureWarning: max_iter and tol parameters have been added in <class 'sklearn.linear_model.stochastic_gradient.SGDClassifier'> in 0.19. If both are left unset, they default to max_iter=5 and tol=None. If tol is not None, max_iter defaults to max_iter=1000. From 0.21, default max_iter will be 1000, and default tol will be 1e-3.\n",
      "  \"and default tol will be 1e-3.\" % type(self), FutureWarning)\n",
      "/home/joel/anaconda2/envs/pyEnv/lib/python3.5/site-packages/sklearn/linear_model/stochastic_gradient.py:128: FutureWarning: max_iter and tol parameters have been added in <class 'sklearn.linear_model.stochastic_gradient.SGDClassifier'> in 0.19. If both are left unset, they default to max_iter=5 and tol=None. If tol is not None, max_iter defaults to max_iter=1000. From 0.21, default max_iter will be 1000, and default tol will be 1e-3.\n",
      "  \"and default tol will be 1e-3.\" % type(self), FutureWarning)\n",
      "/home/joel/anaconda2/envs/pyEnv/lib/python3.5/site-packages/sklearn/linear_model/stochastic_gradient.py:128: FutureWarning: max_iter and tol parameters have been added in <class 'sklearn.linear_model.stochastic_gradient.SGDClassifier'> in 0.19. If both are left unset, they default to max_iter=5 and tol=None. If tol is not None, max_iter defaults to max_iter=1000. From 0.21, default max_iter will be 1000, and default tol will be 1e-3.\n",
      "  \"and default tol will be 1e-3.\" % type(self), FutureWarning)\n",
      "/home/joel/anaconda2/envs/pyEnv/lib/python3.5/site-packages/sklearn/linear_model/stochastic_gradient.py:128: FutureWarning: max_iter and tol parameters have been added in <class 'sklearn.linear_model.stochastic_gradient.SGDClassifier'> in 0.19. If both are left unset, they default to max_iter=5 and tol=None. If tol is not None, max_iter defaults to max_iter=1000. From 0.21, default max_iter will be 1000, and default tol will be 1e-3.\n",
      "  \"and default tol will be 1e-3.\" % type(self), FutureWarning)\n",
      "/home/joel/anaconda2/envs/pyEnv/lib/python3.5/site-packages/sklearn/linear_model/stochastic_gradient.py:128: FutureWarning: max_iter and tol parameters have been added in <class 'sklearn.linear_model.stochastic_gradient.SGDClassifier'> in 0.19. If both are left unset, they default to max_iter=5 and tol=None. If tol is not None, max_iter defaults to max_iter=1000. From 0.21, default max_iter will be 1000, and default tol will be 1e-3.\n",
      "  \"and default tol will be 1e-3.\" % type(self), FutureWarning)\n",
      "/home/joel/anaconda2/envs/pyEnv/lib/python3.5/site-packages/sklearn/linear_model/stochastic_gradient.py:128: FutureWarning: max_iter and tol parameters have been added in <class 'sklearn.linear_model.stochastic_gradient.SGDClassifier'> in 0.19. If both are left unset, they default to max_iter=5 and tol=None. If tol is not None, max_iter defaults to max_iter=1000. From 0.21, default max_iter will be 1000, and default tol will be 1e-3.\n",
      "  \"and default tol will be 1e-3.\" % type(self), FutureWarning)\n",
      "/home/joel/anaconda2/envs/pyEnv/lib/python3.5/site-packages/sklearn/linear_model/stochastic_gradient.py:128: FutureWarning: max_iter and tol parameters have been added in <class 'sklearn.linear_model.stochastic_gradient.SGDClassifier'> in 0.19. If both are left unset, they default to max_iter=5 and tol=None. If tol is not None, max_iter defaults to max_iter=1000. From 0.21, default max_iter will be 1000, and default tol will be 1e-3.\n",
      "  \"and default tol will be 1e-3.\" % type(self), FutureWarning)\n",
      "/home/joel/anaconda2/envs/pyEnv/lib/python3.5/site-packages/sklearn/linear_model/stochastic_gradient.py:128: FutureWarning: max_iter and tol parameters have been added in <class 'sklearn.linear_model.stochastic_gradient.SGDClassifier'> in 0.19. If both are left unset, they default to max_iter=5 and tol=None. If tol is not None, max_iter defaults to max_iter=1000. From 0.21, default max_iter will be 1000, and default tol will be 1e-3.\n",
      "  \"and default tol will be 1e-3.\" % type(self), FutureWarning)\n",
      "/home/joel/anaconda2/envs/pyEnv/lib/python3.5/site-packages/sklearn/linear_model/stochastic_gradient.py:128: FutureWarning: max_iter and tol parameters have been added in <class 'sklearn.linear_model.stochastic_gradient.SGDClassifier'> in 0.19. If both are left unset, they default to max_iter=5 and tol=None. If tol is not None, max_iter defaults to max_iter=1000. From 0.21, default max_iter will be 1000, and default tol will be 1e-3.\n",
      "  \"and default tol will be 1e-3.\" % type(self), FutureWarning)\n",
      "/home/joel/anaconda2/envs/pyEnv/lib/python3.5/site-packages/sklearn/linear_model/stochastic_gradient.py:128: FutureWarning: max_iter and tol parameters have been added in <class 'sklearn.linear_model.stochastic_gradient.SGDClassifier'> in 0.19. If both are left unset, they default to max_iter=5 and tol=None. If tol is not None, max_iter defaults to max_iter=1000. From 0.21, default max_iter will be 1000, and default tol will be 1e-3.\n",
      "  \"and default tol will be 1e-3.\" % type(self), FutureWarning)\n",
      "/home/joel/anaconda2/envs/pyEnv/lib/python3.5/site-packages/sklearn/linear_model/stochastic_gradient.py:128: FutureWarning: max_iter and tol parameters have been added in <class 'sklearn.linear_model.stochastic_gradient.SGDClassifier'> in 0.19. If both are left unset, they default to max_iter=5 and tol=None. If tol is not None, max_iter defaults to max_iter=1000. From 0.21, default max_iter will be 1000, and default tol will be 1e-3.\n",
      "  \"and default tol will be 1e-3.\" % type(self), FutureWarning)\n",
      "/home/joel/anaconda2/envs/pyEnv/lib/python3.5/site-packages/sklearn/linear_model/stochastic_gradient.py:128: FutureWarning: max_iter and tol parameters have been added in <class 'sklearn.linear_model.stochastic_gradient.SGDClassifier'> in 0.19. If both are left unset, they default to max_iter=5 and tol=None. If tol is not None, max_iter defaults to max_iter=1000. From 0.21, default max_iter will be 1000, and default tol will be 1e-3.\n",
      "  \"and default tol will be 1e-3.\" % type(self), FutureWarning)\n",
      "/home/joel/anaconda2/envs/pyEnv/lib/python3.5/site-packages/sklearn/linear_model/stochastic_gradient.py:128: FutureWarning: max_iter and tol parameters have been added in <class 'sklearn.linear_model.stochastic_gradient.SGDClassifier'> in 0.19. If both are left unset, they default to max_iter=5 and tol=None. If tol is not None, max_iter defaults to max_iter=1000. From 0.21, default max_iter will be 1000, and default tol will be 1e-3.\n",
      "  \"and default tol will be 1e-3.\" % type(self), FutureWarning)\n",
      "/home/joel/anaconda2/envs/pyEnv/lib/python3.5/site-packages/sklearn/linear_model/stochastic_gradient.py:128: FutureWarning: max_iter and tol parameters have been added in <class 'sklearn.linear_model.stochastic_gradient.SGDClassifier'> in 0.19. If both are left unset, they default to max_iter=5 and tol=None. If tol is not None, max_iter defaults to max_iter=1000. From 0.21, default max_iter will be 1000, and default tol will be 1e-3.\n",
      "  \"and default tol will be 1e-3.\" % type(self), FutureWarning)\n",
      "/home/joel/anaconda2/envs/pyEnv/lib/python3.5/site-packages/sklearn/linear_model/stochastic_gradient.py:128: FutureWarning: max_iter and tol parameters have been added in <class 'sklearn.linear_model.stochastic_gradient.SGDClassifier'> in 0.19. If both are left unset, they default to max_iter=5 and tol=None. If tol is not None, max_iter defaults to max_iter=1000. From 0.21, default max_iter will be 1000, and default tol will be 1e-3.\n",
      "  \"and default tol will be 1e-3.\" % type(self), FutureWarning)\n",
      "/home/joel/anaconda2/envs/pyEnv/lib/python3.5/site-packages/sklearn/linear_model/stochastic_gradient.py:128: FutureWarning: max_iter and tol parameters have been added in <class 'sklearn.linear_model.stochastic_gradient.SGDClassifier'> in 0.19. If both are left unset, they default to max_iter=5 and tol=None. If tol is not None, max_iter defaults to max_iter=1000. From 0.21, default max_iter will be 1000, and default tol will be 1e-3.\n",
      "  \"and default tol will be 1e-3.\" % type(self), FutureWarning)\n",
      "/home/joel/anaconda2/envs/pyEnv/lib/python3.5/site-packages/sklearn/linear_model/stochastic_gradient.py:128: FutureWarning: max_iter and tol parameters have been added in <class 'sklearn.linear_model.stochastic_gradient.SGDClassifier'> in 0.19. If both are left unset, they default to max_iter=5 and tol=None. If tol is not None, max_iter defaults to max_iter=1000. From 0.21, default max_iter will be 1000, and default tol will be 1e-3.\n",
      "  \"and default tol will be 1e-3.\" % type(self), FutureWarning)\n",
      "/home/joel/anaconda2/envs/pyEnv/lib/python3.5/site-packages/sklearn/linear_model/stochastic_gradient.py:128: FutureWarning: max_iter and tol parameters have been added in <class 'sklearn.linear_model.stochastic_gradient.SGDClassifier'> in 0.19. If both are left unset, they default to max_iter=5 and tol=None. If tol is not None, max_iter defaults to max_iter=1000. From 0.21, default max_iter will be 1000, and default tol will be 1e-3.\n",
      "  \"and default tol will be 1e-3.\" % type(self), FutureWarning)\n",
      "/home/joel/anaconda2/envs/pyEnv/lib/python3.5/site-packages/sklearn/linear_model/stochastic_gradient.py:128: FutureWarning: max_iter and tol parameters have been added in <class 'sklearn.linear_model.stochastic_gradient.SGDClassifier'> in 0.19. If both are left unset, they default to max_iter=5 and tol=None. If tol is not None, max_iter defaults to max_iter=1000. From 0.21, default max_iter will be 1000, and default tol will be 1e-3.\n",
      "  \"and default tol will be 1e-3.\" % type(self), FutureWarning)\n",
      "/home/joel/anaconda2/envs/pyEnv/lib/python3.5/site-packages/sklearn/linear_model/stochastic_gradient.py:128: FutureWarning: max_iter and tol parameters have been added in <class 'sklearn.linear_model.stochastic_gradient.SGDClassifier'> in 0.19. If both are left unset, they default to max_iter=5 and tol=None. If tol is not None, max_iter defaults to max_iter=1000. From 0.21, default max_iter will be 1000, and default tol will be 1e-3.\n",
      "  \"and default tol will be 1e-3.\" % type(self), FutureWarning)\n",
      "/home/joel/anaconda2/envs/pyEnv/lib/python3.5/site-packages/sklearn/linear_model/stochastic_gradient.py:128: FutureWarning: max_iter and tol parameters have been added in <class 'sklearn.linear_model.stochastic_gradient.SGDClassifier'> in 0.19. If both are left unset, they default to max_iter=5 and tol=None. If tol is not None, max_iter defaults to max_iter=1000. From 0.21, default max_iter will be 1000, and default tol will be 1e-3.\n",
      "  \"and default tol will be 1e-3.\" % type(self), FutureWarning)\n",
      "/home/joel/anaconda2/envs/pyEnv/lib/python3.5/site-packages/sklearn/linear_model/stochastic_gradient.py:128: FutureWarning: max_iter and tol parameters have been added in <class 'sklearn.linear_model.stochastic_gradient.SGDClassifier'> in 0.19. If both are left unset, they default to max_iter=5 and tol=None. If tol is not None, max_iter defaults to max_iter=1000. From 0.21, default max_iter will be 1000, and default tol will be 1e-3.\n",
      "  \"and default tol will be 1e-3.\" % type(self), FutureWarning)\n"
     ]
    }
   ],
   "source": [
    "for base in ada_hyperparams[\"base\"]:\n",
    "    clf = AdaBoostClassifier(base, random_state=seed, algorithm='SAMME')\n",
    "    clf = clf.fit(x_tr, y_tr)\n",
    "    y_pred = clf.predict(x_te)\n",
    "    ada_results[\"base\"].append(r_acc(y_te, y_pred))\n",
    "    y_tr_pred = clf.predict(split_x_tr)\n",
    "    ada_results[\"tr_base\"].append(r_acc(split_y_tr, y_tr_pred))\n",
    "print(ada_results[\"base\"])"
   ]
  },
  {
   "cell_type": "code",
   "execution_count": 12,
   "metadata": {},
   "outputs": [
    {
     "name": "stdout",
     "output_type": "stream",
     "text": [
      "[0.705, 0.689, 0.689, 0.689, 0.689, 0.705, 0.705, 0.721, 0.705, 0.689, 0.672, 0.672, 0.672, 0.689, 0.689, 0.689, 0.689, 0.689, 0.689, 0.689, 0.689, 0.689, 0.689, 0.689, 0.672, 0.672, 0.672, 0.672, 0.672, 0.672, 0.672, 0.672, 0.672, 0.672, 0.672, 0.672, 0.672, 0.672, 0.689, 0.689, 0.689, 0.689, 0.705, 0.689, 0.672, 0.705, 0.705, 0.672, 0.672, 0.672]\n"
     ]
    }
   ],
   "source": [
    "for n in ada_hyperparams[\"n\"]:\n",
    "    clf = AdaBoostClassifier(random_state=seed, n_estimators=n)\n",
    "    clf = clf.fit(x_tr, y_tr)\n",
    "    y_pred = clf.predict(x_te)\n",
    "    ada_results[\"n\"].append(r_acc(y_te, y_pred))\n",
    "    y_tr_pred = clf.predict(split_x_tr)\n",
    "    ada_results[\"tr_n\"].append(r_acc(split_y_tr, y_tr_pred))\n",
    "print(ada_results[\"n\"])"
   ]
  },
  {
   "cell_type": "code",
   "execution_count": 13,
   "metadata": {},
   "outputs": [
    {
     "name": "stdout",
     "output_type": "stream",
     "text": [
      "[0.672, 0.639, 0.656, 0.705]\n"
     ]
    }
   ],
   "source": [
    "for depth in ada_hyperparams[\"max_depth\"]:\n",
    "    clf = AdaBoostClassifier(DecisionTreeClassifier(max_depth=depth),random_state=seed)\n",
    "    clf = clf.fit(x_tr, y_tr)\n",
    "    y_pred = clf.predict(x_te)\n",
    "    ada_results[\"max_depth\"].append(r_acc(y_te, y_pred))\n",
    "    y_tr_pred = clf.predict(split_x_tr)\n",
    "    ada_results[\"tr_max_depth\"].append(r_acc(split_y_tr, y_tr_pred))\n",
    "print(ada_results[\"max_depth\"])"
   ]
  },
  {
   "cell_type": "code",
   "execution_count": 67,
   "metadata": {},
   "outputs": [
    {
     "name": "stdout",
     "output_type": "stream",
     "text": [
      "0.8341563786008231\n",
      "SVC trained in 0:00:00.002588\n",
      "0.7377049180327869\n"
     ]
    }
   ],
   "source": [
    "# SVM: https://scikit-learn.org/stable/modules/generated/sklearn.svm.SVC.html\n",
    "from sklearn.svm import SVC\n",
    "clf = SVC(C=1.0,kernel='rbf',random_state=seed)\n",
    "\n",
    "accuracy = cross_val_score(clf, x_tr, y_tr, scoring='accuracy', cv=kf)\n",
    "print(accuracy.mean()) # Easy graph over number of classes here\n",
    "time_start = datetime.now()\n",
    "clf = clf.fit(x_tr, y_tr)\n",
    "print(\"SVC trained in {}\".format(datetime.now() - time_start))\n",
    "y_pred = clf.predict(x_te)\n",
    "y_pred = clf.predict(x_te)\n",
    "print(accuracy_score(y_te, y_pred))"
   ]
  },
  {
   "cell_type": "code",
   "execution_count": 72,
   "metadata": {},
   "outputs": [],
   "source": [
    "svm_hyperparams = {\"C\": np.exp(np.arange(11)-5), # https://scikit-learn.org/stable/auto_examples/svm/plot_rbf_parameters.html\n",
    "                   \"kernel\": [\"linear\", \"poly\", \"sigmoid\", \"rbf\"],\n",
    "                   \"gamma\": np.exp(np.arange(11)-5), # https://scikit-learn.org/stable/auto_examples/svm/plot_rbf_parameters.html\n",
    "                   \"max_iter\": np.arange(100) + 1,\n",
    "                   }\n",
    "svm_results = {}\n",
    "for key in svm_hyperparams:\n",
    "    svm_results[key] = []\n",
    "    svm_results[\"tr_{}\".format(key)] = []"
   ]
  },
  {
   "cell_type": "code",
   "execution_count": 73,
   "metadata": {},
   "outputs": [
    {
     "name": "stdout",
     "output_type": "stream",
     "text": [
      "[0.562, 0.677, 0.717, 0.738, 0.737, 0.78, 0.811, 0.826, 0.794, 0.788]\n"
     ]
    }
   ],
   "source": [
    "clf = SVC()\n",
    "for splits in split_presets:\n",
    "    split_x_tr, split_x_te, split_y_tr, split_y_te = splits\n",
    "    clf = clf.fit(split_x_tr, split_y_tr)\n",
    "    y_pred = clf.predict(split_x_te)\n",
    "    svm_results[\"tr_size\"].append(r_acc(split_y_te, y_pred))\n",
    "    y_tr_pred = clf.predict(split_x_tr)\n",
    "    svm_results[\"tr_tr_size\"].append(r_acc(split_y_tr, y_tr_pred))\n",
    "print(svm_results[\"tr_size\"])"
   ]
  },
  {
   "cell_type": "code",
   "execution_count": null,
   "metadata": {},
   "outputs": [],
   "source": [
    "plt.plot(test_ratios, svm_results[\"tr_size\"])\n",
    "plt.xlabel(\"Test set size\")\n",
    "plt.savefig(\"svm_tr_size.png\")"
   ]
  },
  {
   "cell_type": "code",
   "execution_count": 74,
   "metadata": {},
   "outputs": [
    {
     "name": "stdout",
     "output_type": "stream",
     "text": [
      "[0.59, 0.59, 0.59, 0.59, 0.754, 0.738, 0.721, 0.705, 0.705, 0.705, 0.705]\n"
     ]
    }
   ],
   "source": [
    "for C in svm_hyperparams[\"C\"]:\n",
    "    clf = SVC(C=C)\n",
    "    clf = clf.fit(x_tr, y_tr)\n",
    "    y_pred = clf.predict(x_te)\n",
    "    svm_results[\"C\"].append(r_acc(y_te, y_pred))\n",
    "    y_tr_pred = clf.predict(split_x_tr)\n",
    "    svm_results[\"tr_C\"].append(r_acc(split_y_tr, y_tr_pred))\n",
    "print(svm_results[\"C\"])"
   ]
  },
  {
   "cell_type": "code",
   "execution_count": 75,
   "metadata": {},
   "outputs": [
    {
     "name": "stdout",
     "output_type": "stream",
     "text": [
      "[0.803, 0.689, 0.787, 0.738]\n"
     ]
    }
   ],
   "source": [
    "for ker in svm_hyperparams[\"kernel\"]:\n",
    "    clf = SVC(kernel=ker)\n",
    "    clf = clf.fit(x_tr, y_tr)\n",
    "    y_pred = clf.predict(x_te)\n",
    "    svm_results[\"kernel\"].append(r_acc(y_te, y_pred))\n",
    "    y_tr_pred = clf.predict(split_x_tr)\n",
    "    svm_results[\"tr_kernel\"].append(r_acc(split_y_tr, y_tr_pred))\n",
    "print(svm_results[\"kernel\"])"
   ]
  },
  {
   "cell_type": "code",
   "execution_count": 77,
   "metadata": {},
   "outputs": [
    {
     "name": "stdout",
     "output_type": "stream",
     "text": [
      "[0.77, 0.77, 0.77, 0.721, 0.623, 0.59, 0.59, 0.59, 0.59, 0.59, 0.59]\n"
     ]
    }
   ],
   "source": [
    "for gamma in svm_hyperparams[\"gamma\"]:\n",
    "    clf = SVC(gamma=gamma)\n",
    "    clf = clf.fit(x_tr, y_tr)\n",
    "    y_pred = clf.predict(x_te)\n",
    "    svm_results[\"gamma\"].append(r_acc(y_te, y_pred))\n",
    "    y_tr_pred = clf.predict(split_x_tr)\n",
    "    svm_results[\"tr_kernel\"].append(r_acc(split_y_tr, y_tr_pred))\n",
    "print(svm_results[\"gamma\"])"
   ]
  },
  {
   "cell_type": "code",
   "execution_count": 78,
   "metadata": {},
   "outputs": [
    {
     "name": "stderr",
     "output_type": "stream",
     "text": [
      "/home/joel/anaconda2/envs/pyEnv/lib/python3.5/site-packages/sklearn/svm/base.py:218: ConvergenceWarning: Solver terminated early (max_iter=1).  Consider pre-processing your data with StandardScaler or MinMaxScaler.\n",
      "  % self.max_iter, ConvergenceWarning)\n",
      "/home/joel/anaconda2/envs/pyEnv/lib/python3.5/site-packages/sklearn/svm/base.py:218: ConvergenceWarning: Solver terminated early (max_iter=2).  Consider pre-processing your data with StandardScaler or MinMaxScaler.\n",
      "  % self.max_iter, ConvergenceWarning)\n",
      "/home/joel/anaconda2/envs/pyEnv/lib/python3.5/site-packages/sklearn/svm/base.py:218: ConvergenceWarning: Solver terminated early (max_iter=3).  Consider pre-processing your data with StandardScaler or MinMaxScaler.\n",
      "  % self.max_iter, ConvergenceWarning)\n",
      "/home/joel/anaconda2/envs/pyEnv/lib/python3.5/site-packages/sklearn/svm/base.py:218: ConvergenceWarning: Solver terminated early (max_iter=4).  Consider pre-processing your data with StandardScaler or MinMaxScaler.\n",
      "  % self.max_iter, ConvergenceWarning)\n",
      "/home/joel/anaconda2/envs/pyEnv/lib/python3.5/site-packages/sklearn/svm/base.py:218: ConvergenceWarning: Solver terminated early (max_iter=5).  Consider pre-processing your data with StandardScaler or MinMaxScaler.\n",
      "  % self.max_iter, ConvergenceWarning)\n",
      "/home/joel/anaconda2/envs/pyEnv/lib/python3.5/site-packages/sklearn/svm/base.py:218: ConvergenceWarning: Solver terminated early (max_iter=6).  Consider pre-processing your data with StandardScaler or MinMaxScaler.\n",
      "  % self.max_iter, ConvergenceWarning)\n",
      "/home/joel/anaconda2/envs/pyEnv/lib/python3.5/site-packages/sklearn/svm/base.py:218: ConvergenceWarning: Solver terminated early (max_iter=7).  Consider pre-processing your data with StandardScaler or MinMaxScaler.\n",
      "  % self.max_iter, ConvergenceWarning)\n",
      "/home/joel/anaconda2/envs/pyEnv/lib/python3.5/site-packages/sklearn/svm/base.py:218: ConvergenceWarning: Solver terminated early (max_iter=8).  Consider pre-processing your data with StandardScaler or MinMaxScaler.\n",
      "  % self.max_iter, ConvergenceWarning)\n",
      "/home/joel/anaconda2/envs/pyEnv/lib/python3.5/site-packages/sklearn/svm/base.py:218: ConvergenceWarning: Solver terminated early (max_iter=9).  Consider pre-processing your data with StandardScaler or MinMaxScaler.\n",
      "  % self.max_iter, ConvergenceWarning)\n",
      "/home/joel/anaconda2/envs/pyEnv/lib/python3.5/site-packages/sklearn/svm/base.py:218: ConvergenceWarning: Solver terminated early (max_iter=10).  Consider pre-processing your data with StandardScaler or MinMaxScaler.\n",
      "  % self.max_iter, ConvergenceWarning)\n",
      "/home/joel/anaconda2/envs/pyEnv/lib/python3.5/site-packages/sklearn/svm/base.py:218: ConvergenceWarning: Solver terminated early (max_iter=11).  Consider pre-processing your data with StandardScaler or MinMaxScaler.\n",
      "  % self.max_iter, ConvergenceWarning)\n",
      "/home/joel/anaconda2/envs/pyEnv/lib/python3.5/site-packages/sklearn/svm/base.py:218: ConvergenceWarning: Solver terminated early (max_iter=12).  Consider pre-processing your data with StandardScaler or MinMaxScaler.\n",
      "  % self.max_iter, ConvergenceWarning)\n",
      "/home/joel/anaconda2/envs/pyEnv/lib/python3.5/site-packages/sklearn/svm/base.py:218: ConvergenceWarning: Solver terminated early (max_iter=13).  Consider pre-processing your data with StandardScaler or MinMaxScaler.\n",
      "  % self.max_iter, ConvergenceWarning)\n",
      "/home/joel/anaconda2/envs/pyEnv/lib/python3.5/site-packages/sklearn/svm/base.py:218: ConvergenceWarning: Solver terminated early (max_iter=14).  Consider pre-processing your data with StandardScaler or MinMaxScaler.\n",
      "  % self.max_iter, ConvergenceWarning)\n",
      "/home/joel/anaconda2/envs/pyEnv/lib/python3.5/site-packages/sklearn/svm/base.py:218: ConvergenceWarning: Solver terminated early (max_iter=15).  Consider pre-processing your data with StandardScaler or MinMaxScaler.\n",
      "  % self.max_iter, ConvergenceWarning)\n",
      "/home/joel/anaconda2/envs/pyEnv/lib/python3.5/site-packages/sklearn/svm/base.py:218: ConvergenceWarning: Solver terminated early (max_iter=16).  Consider pre-processing your data with StandardScaler or MinMaxScaler.\n",
      "  % self.max_iter, ConvergenceWarning)\n",
      "/home/joel/anaconda2/envs/pyEnv/lib/python3.5/site-packages/sklearn/svm/base.py:218: ConvergenceWarning: Solver terminated early (max_iter=17).  Consider pre-processing your data with StandardScaler or MinMaxScaler.\n",
      "  % self.max_iter, ConvergenceWarning)\n",
      "/home/joel/anaconda2/envs/pyEnv/lib/python3.5/site-packages/sklearn/svm/base.py:218: ConvergenceWarning: Solver terminated early (max_iter=18).  Consider pre-processing your data with StandardScaler or MinMaxScaler.\n",
      "  % self.max_iter, ConvergenceWarning)\n",
      "/home/joel/anaconda2/envs/pyEnv/lib/python3.5/site-packages/sklearn/svm/base.py:218: ConvergenceWarning: Solver terminated early (max_iter=19).  Consider pre-processing your data with StandardScaler or MinMaxScaler.\n",
      "  % self.max_iter, ConvergenceWarning)\n",
      "/home/joel/anaconda2/envs/pyEnv/lib/python3.5/site-packages/sklearn/svm/base.py:218: ConvergenceWarning: Solver terminated early (max_iter=20).  Consider pre-processing your data with StandardScaler or MinMaxScaler.\n",
      "  % self.max_iter, ConvergenceWarning)\n",
      "/home/joel/anaconda2/envs/pyEnv/lib/python3.5/site-packages/sklearn/svm/base.py:218: ConvergenceWarning: Solver terminated early (max_iter=21).  Consider pre-processing your data with StandardScaler or MinMaxScaler.\n",
      "  % self.max_iter, ConvergenceWarning)\n",
      "/home/joel/anaconda2/envs/pyEnv/lib/python3.5/site-packages/sklearn/svm/base.py:218: ConvergenceWarning: Solver terminated early (max_iter=22).  Consider pre-processing your data with StandardScaler or MinMaxScaler.\n",
      "  % self.max_iter, ConvergenceWarning)\n",
      "/home/joel/anaconda2/envs/pyEnv/lib/python3.5/site-packages/sklearn/svm/base.py:218: ConvergenceWarning: Solver terminated early (max_iter=23).  Consider pre-processing your data with StandardScaler or MinMaxScaler.\n",
      "  % self.max_iter, ConvergenceWarning)\n",
      "/home/joel/anaconda2/envs/pyEnv/lib/python3.5/site-packages/sklearn/svm/base.py:218: ConvergenceWarning: Solver terminated early (max_iter=24).  Consider pre-processing your data with StandardScaler or MinMaxScaler.\n",
      "  % self.max_iter, ConvergenceWarning)\n",
      "/home/joel/anaconda2/envs/pyEnv/lib/python3.5/site-packages/sklearn/svm/base.py:218: ConvergenceWarning: Solver terminated early (max_iter=25).  Consider pre-processing your data with StandardScaler or MinMaxScaler.\n",
      "  % self.max_iter, ConvergenceWarning)\n",
      "/home/joel/anaconda2/envs/pyEnv/lib/python3.5/site-packages/sklearn/svm/base.py:218: ConvergenceWarning: Solver terminated early (max_iter=26).  Consider pre-processing your data with StandardScaler or MinMaxScaler.\n",
      "  % self.max_iter, ConvergenceWarning)\n",
      "/home/joel/anaconda2/envs/pyEnv/lib/python3.5/site-packages/sklearn/svm/base.py:218: ConvergenceWarning: Solver terminated early (max_iter=27).  Consider pre-processing your data with StandardScaler or MinMaxScaler.\n",
      "  % self.max_iter, ConvergenceWarning)\n",
      "/home/joel/anaconda2/envs/pyEnv/lib/python3.5/site-packages/sklearn/svm/base.py:218: ConvergenceWarning: Solver terminated early (max_iter=28).  Consider pre-processing your data with StandardScaler or MinMaxScaler.\n",
      "  % self.max_iter, ConvergenceWarning)\n",
      "/home/joel/anaconda2/envs/pyEnv/lib/python3.5/site-packages/sklearn/svm/base.py:218: ConvergenceWarning: Solver terminated early (max_iter=29).  Consider pre-processing your data with StandardScaler or MinMaxScaler.\n",
      "  % self.max_iter, ConvergenceWarning)\n",
      "/home/joel/anaconda2/envs/pyEnv/lib/python3.5/site-packages/sklearn/svm/base.py:218: ConvergenceWarning: Solver terminated early (max_iter=30).  Consider pre-processing your data with StandardScaler or MinMaxScaler.\n",
      "  % self.max_iter, ConvergenceWarning)\n",
      "/home/joel/anaconda2/envs/pyEnv/lib/python3.5/site-packages/sklearn/svm/base.py:218: ConvergenceWarning: Solver terminated early (max_iter=31).  Consider pre-processing your data with StandardScaler or MinMaxScaler.\n",
      "  % self.max_iter, ConvergenceWarning)\n",
      "/home/joel/anaconda2/envs/pyEnv/lib/python3.5/site-packages/sklearn/svm/base.py:218: ConvergenceWarning: Solver terminated early (max_iter=32).  Consider pre-processing your data with StandardScaler or MinMaxScaler.\n",
      "  % self.max_iter, ConvergenceWarning)\n",
      "/home/joel/anaconda2/envs/pyEnv/lib/python3.5/site-packages/sklearn/svm/base.py:218: ConvergenceWarning: Solver terminated early (max_iter=33).  Consider pre-processing your data with StandardScaler or MinMaxScaler.\n",
      "  % self.max_iter, ConvergenceWarning)\n",
      "/home/joel/anaconda2/envs/pyEnv/lib/python3.5/site-packages/sklearn/svm/base.py:218: ConvergenceWarning: Solver terminated early (max_iter=34).  Consider pre-processing your data with StandardScaler or MinMaxScaler.\n",
      "  % self.max_iter, ConvergenceWarning)\n",
      "/home/joel/anaconda2/envs/pyEnv/lib/python3.5/site-packages/sklearn/svm/base.py:218: ConvergenceWarning: Solver terminated early (max_iter=35).  Consider pre-processing your data with StandardScaler or MinMaxScaler.\n",
      "  % self.max_iter, ConvergenceWarning)\n",
      "/home/joel/anaconda2/envs/pyEnv/lib/python3.5/site-packages/sklearn/svm/base.py:218: ConvergenceWarning: Solver terminated early (max_iter=36).  Consider pre-processing your data with StandardScaler or MinMaxScaler.\n",
      "  % self.max_iter, ConvergenceWarning)\n",
      "/home/joel/anaconda2/envs/pyEnv/lib/python3.5/site-packages/sklearn/svm/base.py:218: ConvergenceWarning: Solver terminated early (max_iter=37).  Consider pre-processing your data with StandardScaler or MinMaxScaler.\n",
      "  % self.max_iter, ConvergenceWarning)\n",
      "/home/joel/anaconda2/envs/pyEnv/lib/python3.5/site-packages/sklearn/svm/base.py:218: ConvergenceWarning: Solver terminated early (max_iter=38).  Consider pre-processing your data with StandardScaler or MinMaxScaler.\n",
      "  % self.max_iter, ConvergenceWarning)\n",
      "/home/joel/anaconda2/envs/pyEnv/lib/python3.5/site-packages/sklearn/svm/base.py:218: ConvergenceWarning: Solver terminated early (max_iter=39).  Consider pre-processing your data with StandardScaler or MinMaxScaler.\n",
      "  % self.max_iter, ConvergenceWarning)\n",
      "/home/joel/anaconda2/envs/pyEnv/lib/python3.5/site-packages/sklearn/svm/base.py:218: ConvergenceWarning: Solver terminated early (max_iter=40).  Consider pre-processing your data with StandardScaler or MinMaxScaler.\n",
      "  % self.max_iter, ConvergenceWarning)\n",
      "/home/joel/anaconda2/envs/pyEnv/lib/python3.5/site-packages/sklearn/svm/base.py:218: ConvergenceWarning: Solver terminated early (max_iter=41).  Consider pre-processing your data with StandardScaler or MinMaxScaler.\n",
      "  % self.max_iter, ConvergenceWarning)\n",
      "/home/joel/anaconda2/envs/pyEnv/lib/python3.5/site-packages/sklearn/svm/base.py:218: ConvergenceWarning: Solver terminated early (max_iter=42).  Consider pre-processing your data with StandardScaler or MinMaxScaler.\n",
      "  % self.max_iter, ConvergenceWarning)\n",
      "/home/joel/anaconda2/envs/pyEnv/lib/python3.5/site-packages/sklearn/svm/base.py:218: ConvergenceWarning: Solver terminated early (max_iter=43).  Consider pre-processing your data with StandardScaler or MinMaxScaler.\n",
      "  % self.max_iter, ConvergenceWarning)\n",
      "/home/joel/anaconda2/envs/pyEnv/lib/python3.5/site-packages/sklearn/svm/base.py:218: ConvergenceWarning: Solver terminated early (max_iter=44).  Consider pre-processing your data with StandardScaler or MinMaxScaler.\n",
      "  % self.max_iter, ConvergenceWarning)\n",
      "/home/joel/anaconda2/envs/pyEnv/lib/python3.5/site-packages/sklearn/svm/base.py:218: ConvergenceWarning: Solver terminated early (max_iter=45).  Consider pre-processing your data with StandardScaler or MinMaxScaler.\n",
      "  % self.max_iter, ConvergenceWarning)\n",
      "/home/joel/anaconda2/envs/pyEnv/lib/python3.5/site-packages/sklearn/svm/base.py:218: ConvergenceWarning: Solver terminated early (max_iter=46).  Consider pre-processing your data with StandardScaler or MinMaxScaler.\n",
      "  % self.max_iter, ConvergenceWarning)\n",
      "/home/joel/anaconda2/envs/pyEnv/lib/python3.5/site-packages/sklearn/svm/base.py:218: ConvergenceWarning: Solver terminated early (max_iter=47).  Consider pre-processing your data with StandardScaler or MinMaxScaler.\n",
      "  % self.max_iter, ConvergenceWarning)\n",
      "/home/joel/anaconda2/envs/pyEnv/lib/python3.5/site-packages/sklearn/svm/base.py:218: ConvergenceWarning: Solver terminated early (max_iter=48).  Consider pre-processing your data with StandardScaler or MinMaxScaler.\n",
      "  % self.max_iter, ConvergenceWarning)\n",
      "/home/joel/anaconda2/envs/pyEnv/lib/python3.5/site-packages/sklearn/svm/base.py:218: ConvergenceWarning: Solver terminated early (max_iter=49).  Consider pre-processing your data with StandardScaler or MinMaxScaler.\n",
      "  % self.max_iter, ConvergenceWarning)\n",
      "/home/joel/anaconda2/envs/pyEnv/lib/python3.5/site-packages/sklearn/svm/base.py:218: ConvergenceWarning: Solver terminated early (max_iter=50).  Consider pre-processing your data with StandardScaler or MinMaxScaler.\n",
      "  % self.max_iter, ConvergenceWarning)\n",
      "/home/joel/anaconda2/envs/pyEnv/lib/python3.5/site-packages/sklearn/svm/base.py:218: ConvergenceWarning: Solver terminated early (max_iter=51).  Consider pre-processing your data with StandardScaler or MinMaxScaler.\n",
      "  % self.max_iter, ConvergenceWarning)\n",
      "/home/joel/anaconda2/envs/pyEnv/lib/python3.5/site-packages/sklearn/svm/base.py:218: ConvergenceWarning: Solver terminated early (max_iter=52).  Consider pre-processing your data with StandardScaler or MinMaxScaler.\n",
      "  % self.max_iter, ConvergenceWarning)\n",
      "/home/joel/anaconda2/envs/pyEnv/lib/python3.5/site-packages/sklearn/svm/base.py:218: ConvergenceWarning: Solver terminated early (max_iter=53).  Consider pre-processing your data with StandardScaler or MinMaxScaler.\n",
      "  % self.max_iter, ConvergenceWarning)\n",
      "/home/joel/anaconda2/envs/pyEnv/lib/python3.5/site-packages/sklearn/svm/base.py:218: ConvergenceWarning: Solver terminated early (max_iter=54).  Consider pre-processing your data with StandardScaler or MinMaxScaler.\n",
      "  % self.max_iter, ConvergenceWarning)\n",
      "/home/joel/anaconda2/envs/pyEnv/lib/python3.5/site-packages/sklearn/svm/base.py:218: ConvergenceWarning: Solver terminated early (max_iter=55).  Consider pre-processing your data with StandardScaler or MinMaxScaler.\n",
      "  % self.max_iter, ConvergenceWarning)\n",
      "/home/joel/anaconda2/envs/pyEnv/lib/python3.5/site-packages/sklearn/svm/base.py:218: ConvergenceWarning: Solver terminated early (max_iter=56).  Consider pre-processing your data with StandardScaler or MinMaxScaler.\n",
      "  % self.max_iter, ConvergenceWarning)\n",
      "/home/joel/anaconda2/envs/pyEnv/lib/python3.5/site-packages/sklearn/svm/base.py:218: ConvergenceWarning: Solver terminated early (max_iter=57).  Consider pre-processing your data with StandardScaler or MinMaxScaler.\n",
      "  % self.max_iter, ConvergenceWarning)\n",
      "/home/joel/anaconda2/envs/pyEnv/lib/python3.5/site-packages/sklearn/svm/base.py:218: ConvergenceWarning: Solver terminated early (max_iter=58).  Consider pre-processing your data with StandardScaler or MinMaxScaler.\n",
      "  % self.max_iter, ConvergenceWarning)\n",
      "/home/joel/anaconda2/envs/pyEnv/lib/python3.5/site-packages/sklearn/svm/base.py:218: ConvergenceWarning: Solver terminated early (max_iter=59).  Consider pre-processing your data with StandardScaler or MinMaxScaler.\n",
      "  % self.max_iter, ConvergenceWarning)\n",
      "/home/joel/anaconda2/envs/pyEnv/lib/python3.5/site-packages/sklearn/svm/base.py:218: ConvergenceWarning: Solver terminated early (max_iter=60).  Consider pre-processing your data with StandardScaler or MinMaxScaler.\n",
      "  % self.max_iter, ConvergenceWarning)\n",
      "/home/joel/anaconda2/envs/pyEnv/lib/python3.5/site-packages/sklearn/svm/base.py:218: ConvergenceWarning: Solver terminated early (max_iter=61).  Consider pre-processing your data with StandardScaler or MinMaxScaler.\n",
      "  % self.max_iter, ConvergenceWarning)\n",
      "/home/joel/anaconda2/envs/pyEnv/lib/python3.5/site-packages/sklearn/svm/base.py:218: ConvergenceWarning: Solver terminated early (max_iter=62).  Consider pre-processing your data with StandardScaler or MinMaxScaler.\n",
      "  % self.max_iter, ConvergenceWarning)\n",
      "/home/joel/anaconda2/envs/pyEnv/lib/python3.5/site-packages/sklearn/svm/base.py:218: ConvergenceWarning: Solver terminated early (max_iter=63).  Consider pre-processing your data with StandardScaler or MinMaxScaler.\n",
      "  % self.max_iter, ConvergenceWarning)\n",
      "/home/joel/anaconda2/envs/pyEnv/lib/python3.5/site-packages/sklearn/svm/base.py:218: ConvergenceWarning: Solver terminated early (max_iter=64).  Consider pre-processing your data with StandardScaler or MinMaxScaler.\n",
      "  % self.max_iter, ConvergenceWarning)\n",
      "/home/joel/anaconda2/envs/pyEnv/lib/python3.5/site-packages/sklearn/svm/base.py:218: ConvergenceWarning: Solver terminated early (max_iter=65).  Consider pre-processing your data with StandardScaler or MinMaxScaler.\n",
      "  % self.max_iter, ConvergenceWarning)\n",
      "/home/joel/anaconda2/envs/pyEnv/lib/python3.5/site-packages/sklearn/svm/base.py:218: ConvergenceWarning: Solver terminated early (max_iter=66).  Consider pre-processing your data with StandardScaler or MinMaxScaler.\n",
      "  % self.max_iter, ConvergenceWarning)\n",
      "/home/joel/anaconda2/envs/pyEnv/lib/python3.5/site-packages/sklearn/svm/base.py:218: ConvergenceWarning: Solver terminated early (max_iter=67).  Consider pre-processing your data with StandardScaler or MinMaxScaler.\n",
      "  % self.max_iter, ConvergenceWarning)\n",
      "/home/joel/anaconda2/envs/pyEnv/lib/python3.5/site-packages/sklearn/svm/base.py:218: ConvergenceWarning: Solver terminated early (max_iter=68).  Consider pre-processing your data with StandardScaler or MinMaxScaler.\n",
      "  % self.max_iter, ConvergenceWarning)\n",
      "/home/joel/anaconda2/envs/pyEnv/lib/python3.5/site-packages/sklearn/svm/base.py:218: ConvergenceWarning: Solver terminated early (max_iter=69).  Consider pre-processing your data with StandardScaler or MinMaxScaler.\n",
      "  % self.max_iter, ConvergenceWarning)\n",
      "/home/joel/anaconda2/envs/pyEnv/lib/python3.5/site-packages/sklearn/svm/base.py:218: ConvergenceWarning: Solver terminated early (max_iter=70).  Consider pre-processing your data with StandardScaler or MinMaxScaler.\n",
      "  % self.max_iter, ConvergenceWarning)\n",
      "/home/joel/anaconda2/envs/pyEnv/lib/python3.5/site-packages/sklearn/svm/base.py:218: ConvergenceWarning: Solver terminated early (max_iter=71).  Consider pre-processing your data with StandardScaler or MinMaxScaler.\n",
      "  % self.max_iter, ConvergenceWarning)\n",
      "/home/joel/anaconda2/envs/pyEnv/lib/python3.5/site-packages/sklearn/svm/base.py:218: ConvergenceWarning: Solver terminated early (max_iter=72).  Consider pre-processing your data with StandardScaler or MinMaxScaler.\n",
      "  % self.max_iter, ConvergenceWarning)\n",
      "/home/joel/anaconda2/envs/pyEnv/lib/python3.5/site-packages/sklearn/svm/base.py:218: ConvergenceWarning: Solver terminated early (max_iter=73).  Consider pre-processing your data with StandardScaler or MinMaxScaler.\n",
      "  % self.max_iter, ConvergenceWarning)\n"
     ]
    },
    {
     "name": "stdout",
     "output_type": "stream",
     "text": [
      "[0.689, 0.59, 0.59, 0.59, 0.672, 0.689, 0.672, 0.689, 0.689, 0.689, 0.721, 0.689, 0.689, 0.672, 0.721, 0.803, 0.787, 0.721, 0.787, 0.77, 0.803, 0.738, 0.738, 0.738, 0.721, 0.787, 0.77, 0.803, 0.77, 0.77, 0.77, 0.738, 0.787, 0.77, 0.754, 0.754, 0.787, 0.803, 0.836, 0.787, 0.754, 0.754, 0.787, 0.787, 0.77, 0.77, 0.77, 0.77, 0.754, 0.754, 0.787, 0.787, 0.77, 0.787, 0.754, 0.754, 0.738, 0.738, 0.738, 0.738, 0.738, 0.738, 0.738, 0.738, 0.738, 0.754, 0.754, 0.754, 0.754, 0.754, 0.754, 0.738, 0.738, 0.738, 0.738, 0.738, 0.738, 0.738, 0.738, 0.738, 0.738, 0.738, 0.738, 0.738, 0.738, 0.738, 0.738, 0.738, 0.738, 0.738, 0.738, 0.738, 0.738, 0.738, 0.738, 0.738, 0.738, 0.738, 0.738, 0.738]\n"
     ]
    },
    {
     "name": "stderr",
     "output_type": "stream",
     "text": [
      "/home/joel/anaconda2/envs/pyEnv/lib/python3.5/site-packages/sklearn/svm/base.py:218: ConvergenceWarning: Solver terminated early (max_iter=74).  Consider pre-processing your data with StandardScaler or MinMaxScaler.\n",
      "  % self.max_iter, ConvergenceWarning)\n",
      "/home/joel/anaconda2/envs/pyEnv/lib/python3.5/site-packages/sklearn/svm/base.py:218: ConvergenceWarning: Solver terminated early (max_iter=75).  Consider pre-processing your data with StandardScaler or MinMaxScaler.\n",
      "  % self.max_iter, ConvergenceWarning)\n",
      "/home/joel/anaconda2/envs/pyEnv/lib/python3.5/site-packages/sklearn/svm/base.py:218: ConvergenceWarning: Solver terminated early (max_iter=76).  Consider pre-processing your data with StandardScaler or MinMaxScaler.\n",
      "  % self.max_iter, ConvergenceWarning)\n",
      "/home/joel/anaconda2/envs/pyEnv/lib/python3.5/site-packages/sklearn/svm/base.py:218: ConvergenceWarning: Solver terminated early (max_iter=77).  Consider pre-processing your data with StandardScaler or MinMaxScaler.\n",
      "  % self.max_iter, ConvergenceWarning)\n",
      "/home/joel/anaconda2/envs/pyEnv/lib/python3.5/site-packages/sklearn/svm/base.py:218: ConvergenceWarning: Solver terminated early (max_iter=78).  Consider pre-processing your data with StandardScaler or MinMaxScaler.\n",
      "  % self.max_iter, ConvergenceWarning)\n",
      "/home/joel/anaconda2/envs/pyEnv/lib/python3.5/site-packages/sklearn/svm/base.py:218: ConvergenceWarning: Solver terminated early (max_iter=79).  Consider pre-processing your data with StandardScaler or MinMaxScaler.\n",
      "  % self.max_iter, ConvergenceWarning)\n",
      "/home/joel/anaconda2/envs/pyEnv/lib/python3.5/site-packages/sklearn/svm/base.py:218: ConvergenceWarning: Solver terminated early (max_iter=80).  Consider pre-processing your data with StandardScaler or MinMaxScaler.\n",
      "  % self.max_iter, ConvergenceWarning)\n",
      "/home/joel/anaconda2/envs/pyEnv/lib/python3.5/site-packages/sklearn/svm/base.py:218: ConvergenceWarning: Solver terminated early (max_iter=81).  Consider pre-processing your data with StandardScaler or MinMaxScaler.\n",
      "  % self.max_iter, ConvergenceWarning)\n",
      "/home/joel/anaconda2/envs/pyEnv/lib/python3.5/site-packages/sklearn/svm/base.py:218: ConvergenceWarning: Solver terminated early (max_iter=82).  Consider pre-processing your data with StandardScaler or MinMaxScaler.\n",
      "  % self.max_iter, ConvergenceWarning)\n",
      "/home/joel/anaconda2/envs/pyEnv/lib/python3.5/site-packages/sklearn/svm/base.py:218: ConvergenceWarning: Solver terminated early (max_iter=83).  Consider pre-processing your data with StandardScaler or MinMaxScaler.\n",
      "  % self.max_iter, ConvergenceWarning)\n",
      "/home/joel/anaconda2/envs/pyEnv/lib/python3.5/site-packages/sklearn/svm/base.py:218: ConvergenceWarning: Solver terminated early (max_iter=84).  Consider pre-processing your data with StandardScaler or MinMaxScaler.\n",
      "  % self.max_iter, ConvergenceWarning)\n",
      "/home/joel/anaconda2/envs/pyEnv/lib/python3.5/site-packages/sklearn/svm/base.py:218: ConvergenceWarning: Solver terminated early (max_iter=85).  Consider pre-processing your data with StandardScaler or MinMaxScaler.\n",
      "  % self.max_iter, ConvergenceWarning)\n",
      "/home/joel/anaconda2/envs/pyEnv/lib/python3.5/site-packages/sklearn/svm/base.py:218: ConvergenceWarning: Solver terminated early (max_iter=86).  Consider pre-processing your data with StandardScaler or MinMaxScaler.\n",
      "  % self.max_iter, ConvergenceWarning)\n",
      "/home/joel/anaconda2/envs/pyEnv/lib/python3.5/site-packages/sklearn/svm/base.py:218: ConvergenceWarning: Solver terminated early (max_iter=87).  Consider pre-processing your data with StandardScaler or MinMaxScaler.\n",
      "  % self.max_iter, ConvergenceWarning)\n",
      "/home/joel/anaconda2/envs/pyEnv/lib/python3.5/site-packages/sklearn/svm/base.py:218: ConvergenceWarning: Solver terminated early (max_iter=88).  Consider pre-processing your data with StandardScaler or MinMaxScaler.\n",
      "  % self.max_iter, ConvergenceWarning)\n",
      "/home/joel/anaconda2/envs/pyEnv/lib/python3.5/site-packages/sklearn/svm/base.py:218: ConvergenceWarning: Solver terminated early (max_iter=89).  Consider pre-processing your data with StandardScaler or MinMaxScaler.\n",
      "  % self.max_iter, ConvergenceWarning)\n",
      "/home/joel/anaconda2/envs/pyEnv/lib/python3.5/site-packages/sklearn/svm/base.py:218: ConvergenceWarning: Solver terminated early (max_iter=90).  Consider pre-processing your data with StandardScaler or MinMaxScaler.\n",
      "  % self.max_iter, ConvergenceWarning)\n",
      "/home/joel/anaconda2/envs/pyEnv/lib/python3.5/site-packages/sklearn/svm/base.py:218: ConvergenceWarning: Solver terminated early (max_iter=91).  Consider pre-processing your data with StandardScaler or MinMaxScaler.\n",
      "  % self.max_iter, ConvergenceWarning)\n",
      "/home/joel/anaconda2/envs/pyEnv/lib/python3.5/site-packages/sklearn/svm/base.py:218: ConvergenceWarning: Solver terminated early (max_iter=92).  Consider pre-processing your data with StandardScaler or MinMaxScaler.\n",
      "  % self.max_iter, ConvergenceWarning)\n",
      "/home/joel/anaconda2/envs/pyEnv/lib/python3.5/site-packages/sklearn/svm/base.py:218: ConvergenceWarning: Solver terminated early (max_iter=93).  Consider pre-processing your data with StandardScaler or MinMaxScaler.\n",
      "  % self.max_iter, ConvergenceWarning)\n",
      "/home/joel/anaconda2/envs/pyEnv/lib/python3.5/site-packages/sklearn/svm/base.py:218: ConvergenceWarning: Solver terminated early (max_iter=94).  Consider pre-processing your data with StandardScaler or MinMaxScaler.\n",
      "  % self.max_iter, ConvergenceWarning)\n",
      "/home/joel/anaconda2/envs/pyEnv/lib/python3.5/site-packages/sklearn/svm/base.py:218: ConvergenceWarning: Solver terminated early (max_iter=95).  Consider pre-processing your data with StandardScaler or MinMaxScaler.\n",
      "  % self.max_iter, ConvergenceWarning)\n",
      "/home/joel/anaconda2/envs/pyEnv/lib/python3.5/site-packages/sklearn/svm/base.py:218: ConvergenceWarning: Solver terminated early (max_iter=96).  Consider pre-processing your data with StandardScaler or MinMaxScaler.\n",
      "  % self.max_iter, ConvergenceWarning)\n",
      "/home/joel/anaconda2/envs/pyEnv/lib/python3.5/site-packages/sklearn/svm/base.py:218: ConvergenceWarning: Solver terminated early (max_iter=97).  Consider pre-processing your data with StandardScaler or MinMaxScaler.\n",
      "  % self.max_iter, ConvergenceWarning)\n",
      "/home/joel/anaconda2/envs/pyEnv/lib/python3.5/site-packages/sklearn/svm/base.py:218: ConvergenceWarning: Solver terminated early (max_iter=98).  Consider pre-processing your data with StandardScaler or MinMaxScaler.\n",
      "  % self.max_iter, ConvergenceWarning)\n",
      "/home/joel/anaconda2/envs/pyEnv/lib/python3.5/site-packages/sklearn/svm/base.py:218: ConvergenceWarning: Solver terminated early (max_iter=99).  Consider pre-processing your data with StandardScaler or MinMaxScaler.\n",
      "  % self.max_iter, ConvergenceWarning)\n",
      "/home/joel/anaconda2/envs/pyEnv/lib/python3.5/site-packages/sklearn/svm/base.py:218: ConvergenceWarning: Solver terminated early (max_iter=100).  Consider pre-processing your data with StandardScaler or MinMaxScaler.\n",
      "  % self.max_iter, ConvergenceWarning)\n"
     ]
    }
   ],
   "source": [
    "\"\"\"This is pretty hard to interpet --> ignore\"\"\"\n",
    "for max_iter in svm_hyperparams[\"max_iter\"]:\n",
    "    clf = SVC(max_iter=max_iter)\n",
    "    clf = clf.fit(x_tr, y_tr)\n",
    "    y_pred = clf.predict(x_te)\n",
    "    svm_results[\"max_iter\"].append(r_acc(y_te, y_pred))\n",
    "    y_tr_pred = clf.predict(split_x_tr)\n",
    "    svm_results[\"tr_max_iter\"].append(r_acc(split_y_tr, y_tr_pred))\n",
    "print(svm_results[\"max_iter\"])"
   ]
  },
  {
   "cell_type": "code",
   "execution_count": 55,
   "metadata": {},
   "outputs": [
    {
     "name": "stdout",
     "output_type": "stream",
     "text": [
      "0.8133230452674898\n",
      "SVC trained in 0:00:00.001325\n",
      "0.7704918032786885\n"
     ]
    }
   ],
   "source": [
    "# KNN: https://scikit-learn.org/stable/modules/generated/sklearn.neighbors.KNeighborsClassifier.html\n",
    "from sklearn.neighbors import KNeighborsClassifier\n",
    "clf = KNeighborsClassifier()\n",
    "\n",
    "accuracy = cross_val_score(clf, x_tr, y_tr, scoring='accuracy', cv=kf)\n",
    "print(accuracy.mean()) # Easy graph over number of classes here\n",
    "time_start = datetime.now()\n",
    "clf = clf.fit(x_tr, y_tr)\n",
    "print(\"KNN trained in {}\".format(datetime.now() - time_start))\n",
    "y_pred = clf.predict(x_te)\n",
    "y_pred = clf.predict(x_te)\n",
    "print(accuracy_score(y_te, y_pred))"
   ]
  },
  {
   "cell_type": "code",
   "execution_count": 58,
   "metadata": {},
   "outputs": [],
   "source": [
    "# KNN Hyperparams\n",
    "knn_hyperparams = {\"k\": np.arange(10) + 1,\n",
    "                   \"weighting\": ['uniform', 'distance'],\n",
    "                   \"p\": np.arange(10) + 1}\n",
    "# Base params: relu, max_iter: 200 (==> convergence), lbfgs (good for smaller datasets), standard alpha\n",
    "knn_results = {}\n",
    "for key in knn_hyperparams:\n",
    "    knn_results[key] = []\n",
    "    knn_results[\"tr_{}\".format(key)] = []"
   ]
  },
  {
   "cell_type": "code",
   "execution_count": 59,
   "metadata": {},
   "outputs": [
    {
     "name": "stdout",
     "output_type": "stream",
     "text": [
      "[0.75, 0.774, 0.761, 0.77, 0.776, 0.769, 0.802, 0.826, 0.794, 0.788]\n"
     ]
    }
   ],
   "source": [
    "clf = KNeighborsClassifier()\n",
    "for splits in split_presets:\n",
    "    split_x_tr, split_x_te, split_y_tr, split_y_te = splits\n",
    "    clf = clf.fit(split_x_tr, split_y_tr)\n",
    "    y_pred = clf.predict(split_x_te)\n",
    "    knn_results[\"tr_size\"].append(r_acc(split_y_te, y_pred))\n",
    "    y_tr_pred = clf.predict(split_x_tr)\n",
    "    knn_results[\"tr_tr_size\"].append(r_acc(split_y_tr, y_tr_pred))\n",
    "print(knn_results[\"tr_size\"])"
   ]
  },
  {
   "cell_type": "code",
   "execution_count": 61,
   "metadata": {},
   "outputs": [
    {
     "name": "stdout",
     "output_type": "stream",
     "text": [
      "[0.705, 0.689, 0.738, 0.672, 0.77, 0.672, 0.721, 0.689, 0.738, 0.705]\n"
     ]
    }
   ],
   "source": [
    "for k in knn_hyperparams[\"k\"]:\n",
    "    clf = KNeighborsClassifier(n_neighbors=k)\n",
    "    clf = clf.fit(x_tr, y_tr)\n",
    "    y_pred = clf.predict(x_te)\n",
    "    knn_results[\"k\"].append(r_acc(y_te, y_pred))\n",
    "    y_tr_pred = clf.predict(split_x_tr)\n",
    "    knn_results[\"tr_k\"].append(r_acc(split_y_tr, y_tr_pred))\n",
    "print(knn_results[\"k\"])"
   ]
  },
  {
   "cell_type": "code",
   "execution_count": 63,
   "metadata": {},
   "outputs": [
    {
     "name": "stdout",
     "output_type": "stream",
     "text": [
      "[0.77, 0.77]\n"
     ]
    }
   ],
   "source": [
    "for weighting in knn_hyperparams[\"weighting\"]:\n",
    "    clf = KNeighborsClassifier(weights=weighting)\n",
    "    clf = clf.fit(x_tr, y_tr)\n",
    "    y_pred = clf.predict(x_te)\n",
    "    knn_results[\"weighting\"].append(r_acc(y_te, y_pred))\n",
    "    y_tr_pred = clf.predict(split_x_tr)\n",
    "    knn_results[\"tr_weighting\"].append(r_acc(split_y_tr, y_tr_pred))\n",
    "print(knn_results[\"weighting\"]) # Presumably due to dimensionality -> space too sparse"
   ]
  },
  {
   "cell_type": "code",
   "execution_count": 62,
   "metadata": {},
   "outputs": [
    {
     "name": "stdout",
     "output_type": "stream",
     "text": [
      "[0.721, 0.77, 0.77, 0.754, 0.754, 0.77, 0.77, 0.787, 0.787, 0.787]\n"
     ]
    }
   ],
   "source": [
    "for p in knn_hyperparams[\"p\"]:\n",
    "    clf = KNeighborsClassifier(p=p)\n",
    "    clf = clf.fit(x_tr, y_tr)\n",
    "    y_pred = clf.predict(x_te)\n",
    "    knn_results[\"p\"].append(r_acc(y_te, y_pred))\n",
    "    y_tr_pred = clf.predict(split_x_tr)\n",
    "    knn_results[\"tr_p\"].append(r_acc(split_y_tr, y_tr_pred))\n",
    "print(knn_results[\"p\"])"
   ]
  },
  {
   "cell_type": "code",
   "execution_count": null,
   "metadata": {},
   "outputs": [],
   "source": []
  }
 ],
 "metadata": {
  "kernelspec": {
   "display_name": "Python 3",
   "language": "python",
   "name": "python3"
  },
  "language_info": {
   "codemirror_mode": {
    "name": "ipython",
    "version": 3
   },
   "file_extension": ".py",
   "mimetype": "text/x-python",
   "name": "python",
   "nbconvert_exporter": "python",
   "pygments_lexer": "ipython3",
   "version": "3.5.5"
  }
 },
 "nbformat": 4,
 "nbformat_minor": 2
}
