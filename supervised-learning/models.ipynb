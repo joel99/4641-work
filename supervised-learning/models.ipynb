{
 "cells": [
  {
   "cell_type": "code",
   "execution_count": 50,
   "metadata": {},
   "outputs": [],
   "source": [
    "%matplotlib inline\n",
    "from load_data import load_abalone, load_heart_disease\n",
    "from datetime import datetime\n",
    "from sklearn.model_selection import cross_val_score, KFold, train_test_split\n",
    "from sklearn.metrics import accuracy_score, confusion_matrix\n",
    "import numpy as np\n",
    "import matplotlib.pyplot as plt\n",
    "\n",
    "\n",
    "seed = 1\n",
    "np.random.seed(seed)\n",
    "test_ratios = np.arange(10) / 20 + 0.05 # from 0.05 to .5 \n",
    "test_ratio = .2\n",
    "\n",
    "x, y = load_heart_disease()\n",
    "x_tr, x_te, y_tr, y_te = train_test_split(x, y, test_size=test_ratio, random_state=seed)\n",
    "split_presets = [train_test_split(x, y, test_size=ratio, random_state=seed) for ratio in test_ratios]\n",
    "# Other visualization notes: confusion matrix\n",
    "# 60 20 20 best split\n",
    "# Consider oversampling/undersampling to balance bias: https://www.datascience.com/blog/imbalanced-data\n",
    "def r_acc(y_te, y_pred):\n",
    "    return round(accuracy_score(y_te, y_pred), 3)"
   ]
  },
  {
   "cell_type": "code",
   "execution_count": 3,
   "metadata": {},
   "outputs": [
    {
     "name": "stdout",
     "output_type": "stream",
     "text": [
      "Train KFold k=3\n"
     ]
    }
   ],
   "source": [
    "# Hyperparameters\n",
    "validation_splits = 3\n",
    "kf = KFold(n_splits=validation_splits)\n",
    "print(\"Train KFold k={}\".format(validation_splits))"
   ]
  },
  {
   "cell_type": "code",
   "execution_count": 79,
   "metadata": {},
   "outputs": [
    {
     "name": "stdout",
     "output_type": "stream",
     "text": [
      "0.7509259259259259\n",
      "Decision tree trained in 0:00:00.001575\n",
      "0.6557377049180327\n"
     ]
    }
   ],
   "source": [
    "# Decision Tree: https://scikit-learn.org/stable/modules/tree.html\n",
    "# Pruning: https://stackoverflow.com/questions/49428469/pruning-decision-trees\n",
    "from sklearn.tree import DecisionTreeClassifier\n",
    "clf = DecisionTreeClassifier(random_state=seed, max_depth=7)\n",
    "accuracy = cross_val_score(clf, x_tr, y_tr, scoring='accuracy', cv=kf)\n",
    "print(accuracy.mean()) # Easy graph over number of classes here\n",
    "time_start = datetime.now()\n",
    "clf = clf.fit(x_tr, y_tr)\n",
    "print(\"Decision tree trained in {}\".format(datetime.now() - time_start))\n",
    "y_pred = clf.predict(x_te)\n",
    "print(accuracy_score(y_te, y_pred))"
   ]
  },
  {
   "cell_type": "code",
   "execution_count": 8,
   "metadata": {},
   "outputs": [],
   "source": [
    "# TODO: vary DT over hyperparams: train_set size (dubious), pruning hyperparams, GINI/info gain,\n",
    "# https://scikit-learn.org/stable/modules/generated/sklearn.tree.DecisionTreeClassifier.html#sklearn.tree.DecisionTreeClassifier\n"
   ]
  },
  {
   "cell_type": "code",
   "execution_count": 10,
   "metadata": {},
   "outputs": [
    {
     "ename": "AttributeError",
     "evalue": "'str' object has no attribute 'render'",
     "output_type": "error",
     "traceback": [
      "\u001b[0;31m---------------------------------------------------------------------------\u001b[0m",
      "\u001b[0;31mAttributeError\u001b[0m                            Traceback (most recent call last)",
      "\u001b[0;32m<ipython-input-10-f31450c5075d>\u001b[0m in \u001b[0;36m<module>\u001b[0;34m()\u001b[0m\n\u001b[1;32m      2\u001b[0m \u001b[0mdot_data\u001b[0m \u001b[0;34m=\u001b[0m \u001b[0mtree\u001b[0m\u001b[0;34m.\u001b[0m\u001b[0mexport_graphviz\u001b[0m\u001b[0;34m(\u001b[0m\u001b[0mclf\u001b[0m\u001b[0;34m,\u001b[0m \u001b[0mout_file\u001b[0m\u001b[0;34m=\u001b[0m\u001b[0;32mNone\u001b[0m\u001b[0;34m)\u001b[0m\u001b[0;34m\u001b[0m\u001b[0m\n\u001b[1;32m      3\u001b[0m \u001b[0mgraph\u001b[0m \u001b[0;34m=\u001b[0m \u001b[0mgraphviz\u001b[0m\u001b[0;34m.\u001b[0m\u001b[0mSource\u001b[0m\u001b[0;34m(\u001b[0m\u001b[0mdot_data\u001b[0m\u001b[0;34m)\u001b[0m\u001b[0;34m.\u001b[0m\u001b[0mview\u001b[0m\u001b[0;34m(\u001b[0m\u001b[0;34m)\u001b[0m\u001b[0;34m\u001b[0m\u001b[0m\n\u001b[0;32m----> 4\u001b[0;31m \u001b[0mgraph\u001b[0m\u001b[0;34m.\u001b[0m\u001b[0mrender\u001b[0m\u001b[0;34m(\u001b[0m\u001b[0;34m\"Abalone\"\u001b[0m\u001b[0;34m)\u001b[0m\u001b[0;34m\u001b[0m\u001b[0m\n\u001b[0m",
      "\u001b[0;31mAttributeError\u001b[0m: 'str' object has no attribute 'render'"
     ]
    }
   ],
   "source": [
    "import graphviz \n",
    "dot_data = tree.export_graphviz(clf, out_file=None) \n",
    "graph = graphviz.Source(dot_data) \n",
    "graph.render(\"abalone.pdf\") \n",
    "graph.view()"
   ]
  },
  {
   "cell_type": "code",
   "execution_count": 15,
   "metadata": {},
   "outputs": [
    {
     "name": "stdout",
     "output_type": "stream",
     "text": [
      "0.7635288065843623\n",
      "Neural net trained in 0:00:00.057156\n",
      "0.8360655737704918\n"
     ]
    }
   ],
   "source": [
    "# Neural Net: https://scikit-learn.org/stable/modules/neural_networks_supervised.html\n",
    "# Sample sanity run\n",
    "from sklearn.neural_network import MLPClassifier\n",
    "clf = MLPClassifier(solver='lbfgs', alpha=1e-3,\n",
    "                     hidden_layer_sizes=(10, 10), random_state=seed)\n",
    "accuracy = cross_val_score(clf, x_tr, y_tr, scoring='accuracy', cv=kf)\n",
    "print(accuracy.mean()) # Easy graph over number of classes here\n",
    "time_start = datetime.now()\n",
    "clf = clf.fit(x_tr, y_tr)\n",
    "print(\"Neural net trained in {}\".format(datetime.now() - time_start))\n",
    "y_pred = clf.predict(x_te)\n",
    "print(accuracy_score(y_te, y_pred))"
   ]
  },
  {
   "cell_type": "code",
   "execution_count": 42,
   "metadata": {},
   "outputs": [],
   "source": [
    "# Neural net hyperparams\n",
    "from sklearn.utils.extmath import cartesian\n",
    "net_hyperparams = {\"activation\": ['identity','relu', 'logistic', 'tanh'],\n",
    "               \"epochs\": np.arange(200) + 1, # iterations - when testing iterations set tol to 1e-8 or something\n",
    "               \"arch1\": [()] + [(i) for i in (np.arange(100) + 1)],\n",
    "               \"arch2\": cartesian((np.arange(1, 21), np.arange(1, 21))), # 2d plane search - reshape 20x20x2 for graph\n",
    "               \"arch3\": [[10] * i for i in range(3, 10)], # Deeper architectures with 10 per layer\n",
    "               \"alpha\": (np.arange(100) + 1) * 1e-5} # 1e-5 -> 1e-3\n",
    "# Base params: relu, max_iter: 200 (==> convergence), lbfgs (good for smaller datasets), standard alpha\n",
    "net_results = {}"
   ]
  },
  {
   "cell_type": "code",
   "execution_count": 53,
   "metadata": {},
   "outputs": [
    {
     "name": "stdout",
     "output_type": "stream",
     "text": [
      "\n",
      "[0.5, 0.548, 0.739, 0.787, 0.763, 0.802, 0.783, 0.785, 0.772, 0.781]\n"
     ]
    }
   ],
   "source": [
    "net_results[\"tr_size\"] = []\n",
    "clf = MLPClassifier(solver='lbfgs', hidden_layer_sizes=(10, 10), random_state=seed)\n",
    "print()\n",
    "for splits in split_presets:\n",
    "    split_x_tr, split_x_te, split_y_tr, split_y_te = splits\n",
    "    clf = clf.fit(split_x_tr, split_y_tr)\n",
    "    y_pred = clf.predict(split_x_te)\n",
    "    net_results[\"tr_size\"].append(r_acc(split_y_te, y_pred))\n",
    "print(net_results[\"tr_size\"])"
   ]
  },
  {
   "cell_type": "code",
   "execution_count": null,
   "metadata": {},
   "outputs": [],
   "source": [
    "net_results[\"activation\"] = []\n",
    "for act in net_hyperparams[\"activation\"]:\n",
    "    clf = MLPClassifier(solver='lbfgs', hidden_layer_sizes=(10, 10), activation=act, random_state=seed)\n",
    "    clf = clf.fit(x_tr, y_tr)\n",
    "    y_pred = clf.predict(x_te)\n",
    "    net_results[\"activation\"].append(r_acc(y_te, y_pred))\n",
    "print(net_results[\"activation\"])"
   ]
  },
  {
   "cell_type": "code",
   "execution_count": 27,
   "metadata": {},
   "outputs": [
    {
     "name": "stdout",
     "output_type": "stream",
     "text": [
      "{'epochs': [0.59, 0.623, 0.754, 0.77, 0.77, 0.787, 0.82, 0.82, 0.82, 0.803, 0.803, 0.787, 0.77, 0.754, 0.787, 0.787, 0.787, 0.787, 0.787, 0.803, 0.803, 0.803, 0.803, 0.803, 0.803, 0.82, 0.803, 0.803, 0.803, 0.787, 0.803, 0.803, 0.803, 0.803, 0.803, 0.803, 0.803, 0.803, 0.787, 0.77, 0.803, 0.787, 0.787, 0.787, 0.787, 0.77, 0.754, 0.754, 0.77, 0.787, 0.787, 0.787, 0.787, 0.787, 0.787, 0.787, 0.787, 0.787, 0.787, 0.787, 0.787, 0.787, 0.787, 0.787, 0.787, 0.787, 0.787, 0.787, 0.787, 0.787, 0.787, 0.787, 0.787, 0.787, 0.787, 0.787, 0.787, 0.787, 0.787, 0.787, 0.787, 0.787, 0.787, 0.787, 0.787, 0.787, 0.787, 0.787, 0.787, 0.787, 0.787, 0.787, 0.787, 0.787, 0.77, 0.77, 0.787, 0.787, 0.787, 0.787, 0.787, 0.787, 0.787, 0.787, 0.787, 0.787, 0.787, 0.787, 0.787, 0.787, 0.787, 0.787, 0.787, 0.787, 0.787, 0.787, 0.787, 0.787, 0.787, 0.787, 0.787, 0.787, 0.787, 0.787, 0.787, 0.787, 0.787, 0.787, 0.787, 0.787, 0.803, 0.803, 0.803, 0.803, 0.803, 0.803, 0.803, 0.803, 0.803, 0.803, 0.803, 0.803, 0.803, 0.803, 0.803, 0.803, 0.803, 0.803, 0.803, 0.803, 0.803, 0.803, 0.803, 0.803, 0.803, 0.803, 0.803, 0.803, 0.803, 0.803, 0.803, 0.803, 0.803, 0.803, 0.803, 0.803, 0.803, 0.803, 0.803, 0.803, 0.803, 0.803, 0.803, 0.803, 0.803, 0.803, 0.803, 0.803, 0.803, 0.803, 0.803, 0.803, 0.803, 0.803, 0.803, 0.803, 0.803, 0.803, 0.803, 0.803, 0.803, 0.803, 0.803, 0.803, 0.803, 0.803, 0.803, 0.803, 0.803, 0.803], 'activation': [0.7704918032786885, 0.7868852459016393, 0.8032786885245902, 0.7049180327868853], 'epochs_time': array([  1.659,   1.883,   2.208,   2.573,   2.964,   3.348,   3.731,\n",
      "         4.082,   4.453,   4.796,   5.285,   5.857,   5.972,   6.41 ,\n",
      "         7.13 ,   7.489,   7.544,   8.128,   8.311,   8.632,   9.351,\n",
      "         9.511,   9.758,  10.137,  10.619,  11.084,  11.542,  12.142,\n",
      "        12.192,  12.428,  12.752,  13.123,  14.086,  15.267,  15.136,\n",
      "        15.112,  15.463,  16.031,  22.063,  19.43 ,  18.125,  17.903,\n",
      "        18.268,  19.713,  19.851,  19.426,  19.947,  20.528,  21.406,\n",
      "        21.037,  21.471,  25.285,  22.81 ,  29.54 ,  30.538,  34.582,\n",
      "        35.211,  34.242,  32.953,  41.257,  39.764,  42.565,  40.251,\n",
      "        42.511,  40.248,  36.114,  27.509,  33.289,  34.034,  33.105,\n",
      "        33.042,  33.097,  36.763,  33.741,  33.098,  33.159,  33.109,\n",
      "        36.596,  33.478,  36.606,  35.52 ,  33.266,  33.11 ,  33.265,\n",
      "        33.123,  33.114,  34.296,  34.567,  34.644,  35.233,  39.203,\n",
      "        38.906,  37.609,  37.579,  38.209,  38.504,  39.703,  39.944,\n",
      "        39.791,  44.276,  40.574,  41.555,  44.237,  41.568,  41.168,\n",
      "        41.381,  40.352,  40.524,  40.763,  41.463,  41.99 ,  42.494,\n",
      "        42.35 ,  43.152,  44.119,  45.82 ,  44.056,  44.598,  44.823,\n",
      "        45.235,  46.016,  46.023,  49.103,  50.208,  47.131,  48.298,\n",
      "        49.467,  48.17 ,  49.262,  49.24 ,  50.288,  50.323,  50.115,\n",
      "        51.028,  50.736,  51.188,  51.617,  51.913,  52.679,  52.526,\n",
      "        52.933,  57.642,  57.385,  54.378,  54.669,  55.753,  54.913,\n",
      "        56.514,  56.153,  56.504,  56.479,  57.05 ,  57.688,  58.464,\n",
      "        59.188,  58.198,  58.891,  80.918,  66.063,  65.29 ,  60.113,\n",
      "        61.013,  61.991,  61.427,  61.986,  64.976,  62.681,  63.258,\n",
      "        63.732,  64.135,  63.967,  68.514,  64.665,  68.203,  69.768,\n",
      "        66.148,  66.304,  91.387,  87.331,  81.146,  71.159,  71.976,\n",
      "        68.698,  69.059,  79.205,  81.764,  80.431,  73.034,  70.75 ,\n",
      "        71.337,  71.616,  72.259, 103.609,  93.666,  86.045,  85.23 ,\n",
      "        74.086,  73.82 ,  74.135,  76.779])}\n"
     ]
    }
   ],
   "source": [
    "results[\"epochs\"] = [] # also include time\n",
    "results[\"epochs_time\"] = []\n",
    "for ep in net_hyperparams[\"epochs\"]:\n",
    "    clf = MLPClassifier(solver='lbfgs', hidden_layer_sizes=(10, 10), max_iter=ep, tol=1e-10, random_state=seed)\n",
    "    time_start = datetime.now()\n",
    "    clf = clf.fit(x_tr, y_tr)\n",
    "    time_elapsed = (datetime.now() - time_start).microseconds\n",
    "    y_pred = clf.predict(x_te)    \n",
    "    net_results[\"epochs\"].append(r_acc(y_te, y_pred))\n",
    "    net_results[\"epochs_time\"].append(round(time_elapsed, 3))\n",
    "net_results[\"epochs_time\"] = np.asarray(net_results[\"epochs_time\"]) * 1e-3 # Microseconds -> ms\n",
    "print(net_results[\"epochs\"])\n",
    "print(net_results[\"epochs_time\"])"
   ]
  },
  {
   "cell_type": "code",
   "execution_count": 31,
   "metadata": {},
   "outputs": [
    {
     "name": "stdout",
     "output_type": "stream",
     "text": [
      "{'alpha': [0.7868852459016393, 0.7868852459016393, 0.7704918032786885, 0.8032786885245902, 0.8032786885245902, 0.8032786885245902, 0.8032786885245902, 0.8032786885245902, 0.7868852459016393, 0.7868852459016393, 0.8032786885245902, 0.8032786885245902, 0.819672131147541, 0.819672131147541, 0.7868852459016393, 0.819672131147541, 0.7868852459016393, 0.7868852459016393, 0.7868852459016393, 0.7704918032786885, 0.7868852459016393, 0.7868852459016393, 0.7868852459016393, 0.7868852459016393, 0.7868852459016393, 0.7868852459016393, 0.8032786885245902, 0.7868852459016393, 0.8032786885245902, 0.8032786885245902, 0.819672131147541, 0.8032786885245902, 0.8032786885245902, 0.819672131147541, 0.819672131147541, 0.819672131147541, 0.8360655737704918, 0.819672131147541, 0.8360655737704918, 0.819672131147541, 0.8360655737704918, 0.819672131147541, 0.819672131147541, 0.819672131147541, 0.819672131147541, 0.819672131147541, 0.819672131147541, 0.819672131147541, 0.8360655737704918, 0.819672131147541, 0.819672131147541, 0.819672131147541, 0.819672131147541, 0.819672131147541, 0.8360655737704918, 0.8032786885245902, 0.819672131147541, 0.819672131147541, 0.819672131147541, 0.8524590163934426, 0.819672131147541, 0.819672131147541, 0.819672131147541, 0.8524590163934426, 0.8360655737704918, 0.8524590163934426, 0.8524590163934426, 0.8360655737704918, 0.8524590163934426, 0.819672131147541, 0.8360655737704918, 0.8360655737704918, 0.819672131147541, 0.8032786885245902, 0.7868852459016393, 0.819672131147541, 0.8032786885245902, 0.8032786885245902, 0.819672131147541, 0.8032786885245902, 0.8524590163934426, 0.819672131147541, 0.819672131147541, 0.8032786885245902, 0.8524590163934426, 0.8360655737704918, 0.7868852459016393, 0.8360655737704918, 0.8032786885245902, 0.819672131147541, 0.819672131147541, 0.8032786885245902, 0.8032786885245902, 0.8360655737704918, 0.8360655737704918, 0.819672131147541, 0.819672131147541, 0.8360655737704918, 0.8032786885245902, 0.8360655737704918]}\n"
     ]
    }
   ],
   "source": [
    "net_results[\"alpha\"] = []\n",
    "for a in net_hyperparams[\"alpha\"]:\n",
    "    clf = MLPClassifier(solver='lbfgs', hidden_layer_sizes=(10, 10), alpha=a, random_state=seed)\n",
    "    clf = clf.fit(x_tr, y_tr)\n",
    "    y_pred = clf.predict(x_te)\n",
    "    net_results[\"alpha\"].append(r_acc(y_te, y_pred))\n",
    "print(net_results[\"alpha\"])"
   ]
  },
  {
   "cell_type": "code",
   "execution_count": 48,
   "metadata": {},
   "outputs": [
    {
     "name": "stdout",
     "output_type": "stream",
     "text": [
      "{'arch2': [0.82, 0.82, 0.836, 0.869, 0.803, 0.82, 0.836, 0.852, 0.82, 0.836, 0.836, 0.836, 0.852, 0.836, 0.803, 0.869, 0.82, 0.836, 0.82, 0.852, 0.787, 0.787, 0.82, 0.803, 0.803, 0.852, 0.82, 0.803, 0.836, 0.803, 0.82, 0.787, 0.787, 0.754, 0.787, 0.803, 0.82, 0.82, 0.787, 0.82, 0.59, 0.82, 0.82, 0.82, 0.82, 0.787, 0.803, 0.803, 0.738, 0.77, 0.738, 0.738, 0.754, 0.77, 0.803, 0.721, 0.82, 0.787, 0.738, 0.754, 0.721, 0.77, 0.803, 0.77, 0.787, 0.787, 0.77, 0.787, 0.787, 0.689, 0.754, 0.672, 0.705, 0.787, 0.689, 0.803, 0.738, 0.836, 0.738, 0.738, 0.59, 0.77, 0.738, 0.738, 0.754, 0.77, 0.721, 0.721, 0.82, 0.803, 0.836, 0.721, 0.787, 0.77, 0.738, 0.82, 0.82, 0.77, 0.754, 0.738, 0.59, 0.836, 0.754, 0.754, 0.787, 0.754, 0.721, 0.754, 0.705, 0.721, 0.705, 0.672, 0.836, 0.754, 0.754, 0.82, 0.803, 0.77, 0.738, 0.77, 0.787, 0.754, 0.672, 0.787, 0.82, 0.787, 0.705, 0.803, 0.672, 0.754, 0.77, 0.82, 0.738, 0.672, 0.787, 0.77, 0.787, 0.738, 0.787, 0.738, 0.803, 0.754, 0.738, 0.787, 0.754, 0.738, 0.836, 0.672, 0.672, 0.738, 0.721, 0.787, 0.787, 0.721, 0.803, 0.787, 0.77, 0.787, 0.721, 0.738, 0.754, 0.82, 0.803, 0.721, 0.77, 0.77, 0.77, 0.721, 0.738, 0.787, 0.754, 0.721, 0.738, 0.754, 0.803, 0.82, 0.721, 0.754, 0.738, 0.754, 0.59, 0.738, 0.738, 0.787, 0.803, 0.738, 0.787, 0.77, 0.82, 0.787, 0.803, 0.705, 0.754, 0.721, 0.672, 0.77, 0.754, 0.689, 0.754, 0.77, 0.836, 0.836, 0.82, 0.77, 0.77, 0.754, 0.787, 0.836, 0.738, 0.721, 0.738, 0.787, 0.787, 0.803, 0.738, 0.803, 0.803, 0.689, 0.787, 0.689, 0.738, 0.77, 0.738, 0.803, 0.738, 0.77, 0.738, 0.77, 0.705, 0.787, 0.754, 0.787, 0.705, 0.754, 0.787, 0.77, 0.852, 0.738, 0.721, 0.77, 0.82, 0.754, 0.836, 0.77, 0.787, 0.721, 0.77, 0.721, 0.705, 0.82, 0.754, 0.77, 0.721, 0.787, 0.738, 0.787, 0.787, 0.738, 0.738, 0.77, 0.754, 0.787, 0.836, 0.82, 0.754, 0.787, 0.803, 0.77, 0.721, 0.77, 0.82, 0.82, 0.738, 0.787, 0.77, 0.787, 0.754, 0.754, 0.77, 0.787, 0.754, 0.787, 0.836, 0.738, 0.754, 0.77, 0.77, 0.82, 0.787, 0.754, 0.738, 0.754, 0.803, 0.721, 0.738, 0.689, 0.689, 0.721, 0.754, 0.803, 0.836, 0.787, 0.82, 0.738, 0.77, 0.721, 0.721, 0.721, 0.721, 0.836, 0.754, 0.787, 0.738, 0.787, 0.738, 0.803, 0.82, 0.803, 0.754, 0.787, 0.82, 0.77, 0.77, 0.77, 0.754, 0.77, 0.787, 0.77, 0.77, 0.738, 0.803, 0.754, 0.754, 0.77, 0.803, 0.738, 0.836, 0.77, 0.721, 0.738, 0.82, 0.754, 0.754, 0.754, 0.803, 0.787, 0.77, 0.754, 0.77, 0.738, 0.754, 0.77, 0.721, 0.738, 0.721, 0.738, 0.754, 0.738, 0.738, 0.787, 0.836, 0.82, 0.803, 0.738, 0.721, 0.803, 0.787, 0.754, 0.77, 0.787, 0.721, 0.754, 0.754, 0.705, 0.705, 0.787, 0.705, 0.705, 0.754, 0.754, 0.787, 0.82, 0.754, 0.803, 0.787, 0.754, 0.738, 0.754, 0.77, 0.77, 0.803, 0.77, 0.754, 0.738, 0.77, 0.754, 0.77, 0.787, 0.754, 0.705], 'arch1': [0.77, 0.836, 0.754, 0.803, 0.738, 0.803, 0.738, 0.82, 0.705, 0.82, 0.721, 0.705, 0.803, 0.754, 0.754, 0.754, 0.754, 0.77, 0.82, 0.803, 0.787, 0.787, 0.738, 0.689, 0.738, 0.787, 0.738, 0.738, 0.787, 0.852, 0.705, 0.77, 0.82, 0.803, 0.689, 0.787, 0.754, 0.82, 0.77, 0.787, 0.803, 0.82, 0.787, 0.787, 0.738, 0.787, 0.77, 0.77, 0.738, 0.754, 0.754, 0.754, 0.754, 0.77, 0.738, 0.787, 0.754, 0.754, 0.82, 0.836, 0.754, 0.787, 0.738, 0.738, 0.803, 0.705, 0.705, 0.77, 0.787, 0.754, 0.738, 0.803, 0.803, 0.738, 0.738, 0.77, 0.77, 0.787, 0.754, 0.77, 0.738, 0.77, 0.803, 0.721, 0.754, 0.738, 0.754, 0.77, 0.803, 0.82, 0.803, 0.754, 0.721, 0.705, 0.787, 0.77, 0.754, 0.787, 0.787, 0.77, 0.738], 'arch3': [0.754, 0.721, 0.738, 0.754, 0.672, 0.836, 0.754]}\n"
     ]
    }
   ],
   "source": [
    "arches = [\"arch1\", \"arch2\", \"arch3\"]\n",
    "for arch_name in arches:\n",
    "    net_results[arch_name] = []\n",
    "    for arch in net_hyperparams[arch_name]:\n",
    "        clf = MLPClassifier(solver='lbfgs', hidden_layer_sizes=arch, random_state=seed)\n",
    "        clf = clf.fit(x_tr, y_tr)\n",
    "        y_pred = clf.predict(x_te)\n",
    "        net_results[arch_name].append(r_acc(y_te, y_pred))\n",
    "print(net_results[\"arch1\"], net_results[\"arch2\"], net_results[\"arch3\"])"
   ]
  },
  {
   "cell_type": "code",
   "execution_count": 7,
   "metadata": {},
   "outputs": [
    {
     "name": "stderr",
     "output_type": "stream",
     "text": [
      "/home/joel/anaconda2/envs/pyEnv/lib/python3.5/site-packages/sklearn/ensemble/weight_boosting.py:29: DeprecationWarning: numpy.core.umath_tests is an internal NumPy module and should not be imported. It will be removed in a future NumPy release.\n",
      "  from numpy.core.umath_tests import inner1d\n"
     ]
    },
    {
     "name": "stdout",
     "output_type": "stream",
     "text": [
      "0.8135288065843621\n",
      "AdaBoosted classifier trained in 0:00:00.061199\n",
      "0.6721311475409836\n"
     ]
    }
   ],
   "source": [
    "# Boosting (Adaboost): https://scikit-learn.org/stable/modules/generated/sklearn.ensemble.AdaBoostClassifier.html\n",
    "from sklearn.ensemble import AdaBoostClassifier\n",
    "clf = AdaBoostClassifier(tree.DecisionTreeClassifier(max_depth=1, random_state=seed), random_state=seed)\n",
    "\n",
    "accuracy = cross_val_score(clf, x_tr, y_tr, scoring='accuracy', cv=kf)\n",
    "print(accuracy.mean()) # Easy graph over number of classes here\n",
    "time_start = datetime.now()\n",
    "clf = clf.fit(x_tr, y_tr)\n",
    "print(\"AdaBoosted classifier trained in {}\".format(datetime.now() - time_start))\n",
    "y_pred = clf.predict(x_te)\n",
    "y_pred = clf.predict(x_te)\n",
    "print(accuracy_score(y_te, y_pred))\n"
   ]
  },
  {
   "cell_type": "code",
   "execution_count": null,
   "metadata": {},
   "outputs": [],
   "source": [
    "from sklearn.linear_model import SGDClassifier\n",
    "base_classifiers = [DecisionTreeClassifier(max_depth=1, random_state=seed), \n",
    "                    SGDClassifier(loss='log', random_state=seed),\n",
    "                    SGDClassifier(loss='hinge', random_state=seed)]\n",
    "ada_hyperparams = {\"base\": base_classifiers,\n",
    "                   \"n\": np.arange(1, 51),\n",
    "                   \"max_depth\": np.arange(1,5)} # for decision tree\n",
    "ada_results = {}"
   ]
  },
  {
   "cell_type": "code",
   "execution_count": 8,
   "metadata": {},
   "outputs": [],
   "source": [
    "# TODO: vary over training size, base estimator (in trees, max_depth), n_estimators (boosting iterations)\n",
    "ada_results[\"tr_size\"] = []\n",
    "clf = AdaBoostClassifier(random_state=seed)\n",
    "for splits in split_presets:\n",
    "    split_x_tr, split_x_te, split_y_tr, split_y_te = splits\n",
    "    clf = clf.fit(split_x_tr, split_y_tr)\n",
    "    y_pred = clf.predict(split_x_te)\n",
    "    ada_results[\"tr_size\"].append(r_acc(split_y_te, y_pred))\n",
    "print(ada_results[\"tr_size\"])"
   ]
  },
  {
   "cell_type": "code",
   "execution_count": 67,
   "metadata": {},
   "outputs": [
    {
     "name": "stdout",
     "output_type": "stream",
     "text": [
      "0.8341563786008231\n",
      "SVC trained in 0:00:00.002588\n",
      "0.7377049180327869\n"
     ]
    }
   ],
   "source": [
    "# SVM: https://scikit-learn.org/stable/modules/generated/sklearn.svm.SVC.html\n",
    "from sklearn.svm import SVC\n",
    "clf = SVC(C=1.0,kernel='rbf',random_state=seed)\n",
    "\n",
    "accuracy = cross_val_score(clf, x_tr, y_tr, scoring='accuracy', cv=kf)\n",
    "print(accuracy.mean()) # Easy graph over number of classes here\n",
    "time_start = datetime.now()\n",
    "clf = clf.fit(x_tr, y_tr)\n",
    "print(\"SVC trained in {}\".format(datetime.now() - time_start))\n",
    "y_pred = clf.predict(x_te)\n",
    "y_pred = clf.predict(x_te)\n",
    "print(accuracy_score(y_te, y_pred))"
   ]
  },
  {
   "cell_type": "code",
   "execution_count": 72,
   "metadata": {},
   "outputs": [],
   "source": [
    "svm_hyperparams = {\"C\": np.exp(np.arange(11)-5), # https://scikit-learn.org/stable/auto_examples/svm/plot_rbf_parameters.html\n",
    "                   \"kernel\": [\"linear\", \"poly\", \"sigmoid\", \"rbf\"],\n",
    "                   \"gamma\": np.exp(np.arange(11)-5), # https://scikit-learn.org/stable/auto_examples/svm/plot_rbf_parameters.html\n",
    "                   \"max_iter\": np.arange(100) + 1,\n",
    "                   }\n",
    "svm_results = {}"
   ]
  },
  {
   "cell_type": "code",
   "execution_count": 73,
   "metadata": {},
   "outputs": [
    {
     "name": "stdout",
     "output_type": "stream",
     "text": [
      "[0.562, 0.677, 0.717, 0.738, 0.737, 0.78, 0.811, 0.826, 0.794, 0.788]\n"
     ]
    }
   ],
   "source": [
    "svm_results[\"tr_size\"] = []\n",
    "clf = SVC()\n",
    "for splits in split_presets:\n",
    "    split_x_tr, split_x_te, split_y_tr, split_y_te = splits\n",
    "    clf = clf.fit(split_x_tr, split_y_tr)\n",
    "    y_pred = clf.predict(split_x_te)\n",
    "    svm_results[\"tr_size\"].append(r_acc(split_y_te, y_pred))\n",
    "print(svm_results[\"tr_size\"])"
   ]
  },
  {
   "cell_type": "code",
   "execution_count": 74,
   "metadata": {},
   "outputs": [
    {
     "name": "stdout",
     "output_type": "stream",
     "text": [
      "[0.59, 0.59, 0.59, 0.59, 0.754, 0.738, 0.721, 0.705, 0.705, 0.705, 0.705]\n"
     ]
    }
   ],
   "source": [
    "svm_results[\"C\"] = []\n",
    "for C in svm_hyperparams[\"C\"]:\n",
    "    clf = SVC(C=C)\n",
    "    clf = clf.fit(x_tr, y_tr)\n",
    "    y_pred = clf.predict(x_te)\n",
    "    svm_results[\"C\"].append(r_acc(y_te, y_pred))\n",
    "print(svm_results[\"C\"])"
   ]
  },
  {
   "cell_type": "code",
   "execution_count": 75,
   "metadata": {},
   "outputs": [
    {
     "name": "stdout",
     "output_type": "stream",
     "text": [
      "[0.803, 0.689, 0.787, 0.738]\n"
     ]
    }
   ],
   "source": [
    "svm_results[\"kernel\"] = []\n",
    "for ker in svm_hyperparams[\"kernel\"]:\n",
    "    clf = SVC(kernel=ker)\n",
    "    clf = clf.fit(x_tr, y_tr)\n",
    "    y_pred = clf.predict(x_te)\n",
    "    svm_results[\"kernel\"].append(r_acc(y_te, y_pred))\n",
    "print(svm_results[\"kernel\"])"
   ]
  },
  {
   "cell_type": "code",
   "execution_count": 77,
   "metadata": {},
   "outputs": [
    {
     "name": "stdout",
     "output_type": "stream",
     "text": [
      "[0.77, 0.77, 0.77, 0.721, 0.623, 0.59, 0.59, 0.59, 0.59, 0.59, 0.59]\n"
     ]
    }
   ],
   "source": [
    "svm_results[\"gamma\"] = []\n",
    "for gamma in svm_hyperparams[\"gamma\"]:\n",
    "    clf = SVC(gamma=gamma)\n",
    "    clf = clf.fit(x_tr, y_tr)\n",
    "    y_pred = clf.predict(x_te)\n",
    "    svm_results[\"gamma\"].append(r_acc(y_te, y_pred))\n",
    "print(svm_results[\"gamma\"])"
   ]
  },
  {
   "cell_type": "code",
   "execution_count": 78,
   "metadata": {},
   "outputs": [
    {
     "name": "stderr",
     "output_type": "stream",
     "text": [
      "/home/joel/anaconda2/envs/pyEnv/lib/python3.5/site-packages/sklearn/svm/base.py:218: ConvergenceWarning: Solver terminated early (max_iter=1).  Consider pre-processing your data with StandardScaler or MinMaxScaler.\n",
      "  % self.max_iter, ConvergenceWarning)\n",
      "/home/joel/anaconda2/envs/pyEnv/lib/python3.5/site-packages/sklearn/svm/base.py:218: ConvergenceWarning: Solver terminated early (max_iter=2).  Consider pre-processing your data with StandardScaler or MinMaxScaler.\n",
      "  % self.max_iter, ConvergenceWarning)\n",
      "/home/joel/anaconda2/envs/pyEnv/lib/python3.5/site-packages/sklearn/svm/base.py:218: ConvergenceWarning: Solver terminated early (max_iter=3).  Consider pre-processing your data with StandardScaler or MinMaxScaler.\n",
      "  % self.max_iter, ConvergenceWarning)\n",
      "/home/joel/anaconda2/envs/pyEnv/lib/python3.5/site-packages/sklearn/svm/base.py:218: ConvergenceWarning: Solver terminated early (max_iter=4).  Consider pre-processing your data with StandardScaler or MinMaxScaler.\n",
      "  % self.max_iter, ConvergenceWarning)\n",
      "/home/joel/anaconda2/envs/pyEnv/lib/python3.5/site-packages/sklearn/svm/base.py:218: ConvergenceWarning: Solver terminated early (max_iter=5).  Consider pre-processing your data with StandardScaler or MinMaxScaler.\n",
      "  % self.max_iter, ConvergenceWarning)\n",
      "/home/joel/anaconda2/envs/pyEnv/lib/python3.5/site-packages/sklearn/svm/base.py:218: ConvergenceWarning: Solver terminated early (max_iter=6).  Consider pre-processing your data with StandardScaler or MinMaxScaler.\n",
      "  % self.max_iter, ConvergenceWarning)\n",
      "/home/joel/anaconda2/envs/pyEnv/lib/python3.5/site-packages/sklearn/svm/base.py:218: ConvergenceWarning: Solver terminated early (max_iter=7).  Consider pre-processing your data with StandardScaler or MinMaxScaler.\n",
      "  % self.max_iter, ConvergenceWarning)\n",
      "/home/joel/anaconda2/envs/pyEnv/lib/python3.5/site-packages/sklearn/svm/base.py:218: ConvergenceWarning: Solver terminated early (max_iter=8).  Consider pre-processing your data with StandardScaler or MinMaxScaler.\n",
      "  % self.max_iter, ConvergenceWarning)\n",
      "/home/joel/anaconda2/envs/pyEnv/lib/python3.5/site-packages/sklearn/svm/base.py:218: ConvergenceWarning: Solver terminated early (max_iter=9).  Consider pre-processing your data with StandardScaler or MinMaxScaler.\n",
      "  % self.max_iter, ConvergenceWarning)\n",
      "/home/joel/anaconda2/envs/pyEnv/lib/python3.5/site-packages/sklearn/svm/base.py:218: ConvergenceWarning: Solver terminated early (max_iter=10).  Consider pre-processing your data with StandardScaler or MinMaxScaler.\n",
      "  % self.max_iter, ConvergenceWarning)\n",
      "/home/joel/anaconda2/envs/pyEnv/lib/python3.5/site-packages/sklearn/svm/base.py:218: ConvergenceWarning: Solver terminated early (max_iter=11).  Consider pre-processing your data with StandardScaler or MinMaxScaler.\n",
      "  % self.max_iter, ConvergenceWarning)\n",
      "/home/joel/anaconda2/envs/pyEnv/lib/python3.5/site-packages/sklearn/svm/base.py:218: ConvergenceWarning: Solver terminated early (max_iter=12).  Consider pre-processing your data with StandardScaler or MinMaxScaler.\n",
      "  % self.max_iter, ConvergenceWarning)\n",
      "/home/joel/anaconda2/envs/pyEnv/lib/python3.5/site-packages/sklearn/svm/base.py:218: ConvergenceWarning: Solver terminated early (max_iter=13).  Consider pre-processing your data with StandardScaler or MinMaxScaler.\n",
      "  % self.max_iter, ConvergenceWarning)\n",
      "/home/joel/anaconda2/envs/pyEnv/lib/python3.5/site-packages/sklearn/svm/base.py:218: ConvergenceWarning: Solver terminated early (max_iter=14).  Consider pre-processing your data with StandardScaler or MinMaxScaler.\n",
      "  % self.max_iter, ConvergenceWarning)\n",
      "/home/joel/anaconda2/envs/pyEnv/lib/python3.5/site-packages/sklearn/svm/base.py:218: ConvergenceWarning: Solver terminated early (max_iter=15).  Consider pre-processing your data with StandardScaler or MinMaxScaler.\n",
      "  % self.max_iter, ConvergenceWarning)\n",
      "/home/joel/anaconda2/envs/pyEnv/lib/python3.5/site-packages/sklearn/svm/base.py:218: ConvergenceWarning: Solver terminated early (max_iter=16).  Consider pre-processing your data with StandardScaler or MinMaxScaler.\n",
      "  % self.max_iter, ConvergenceWarning)\n",
      "/home/joel/anaconda2/envs/pyEnv/lib/python3.5/site-packages/sklearn/svm/base.py:218: ConvergenceWarning: Solver terminated early (max_iter=17).  Consider pre-processing your data with StandardScaler or MinMaxScaler.\n",
      "  % self.max_iter, ConvergenceWarning)\n",
      "/home/joel/anaconda2/envs/pyEnv/lib/python3.5/site-packages/sklearn/svm/base.py:218: ConvergenceWarning: Solver terminated early (max_iter=18).  Consider pre-processing your data with StandardScaler or MinMaxScaler.\n",
      "  % self.max_iter, ConvergenceWarning)\n",
      "/home/joel/anaconda2/envs/pyEnv/lib/python3.5/site-packages/sklearn/svm/base.py:218: ConvergenceWarning: Solver terminated early (max_iter=19).  Consider pre-processing your data with StandardScaler or MinMaxScaler.\n",
      "  % self.max_iter, ConvergenceWarning)\n",
      "/home/joel/anaconda2/envs/pyEnv/lib/python3.5/site-packages/sklearn/svm/base.py:218: ConvergenceWarning: Solver terminated early (max_iter=20).  Consider pre-processing your data with StandardScaler or MinMaxScaler.\n",
      "  % self.max_iter, ConvergenceWarning)\n",
      "/home/joel/anaconda2/envs/pyEnv/lib/python3.5/site-packages/sklearn/svm/base.py:218: ConvergenceWarning: Solver terminated early (max_iter=21).  Consider pre-processing your data with StandardScaler or MinMaxScaler.\n",
      "  % self.max_iter, ConvergenceWarning)\n",
      "/home/joel/anaconda2/envs/pyEnv/lib/python3.5/site-packages/sklearn/svm/base.py:218: ConvergenceWarning: Solver terminated early (max_iter=22).  Consider pre-processing your data with StandardScaler or MinMaxScaler.\n",
      "  % self.max_iter, ConvergenceWarning)\n",
      "/home/joel/anaconda2/envs/pyEnv/lib/python3.5/site-packages/sklearn/svm/base.py:218: ConvergenceWarning: Solver terminated early (max_iter=23).  Consider pre-processing your data with StandardScaler or MinMaxScaler.\n",
      "  % self.max_iter, ConvergenceWarning)\n",
      "/home/joel/anaconda2/envs/pyEnv/lib/python3.5/site-packages/sklearn/svm/base.py:218: ConvergenceWarning: Solver terminated early (max_iter=24).  Consider pre-processing your data with StandardScaler or MinMaxScaler.\n",
      "  % self.max_iter, ConvergenceWarning)\n",
      "/home/joel/anaconda2/envs/pyEnv/lib/python3.5/site-packages/sklearn/svm/base.py:218: ConvergenceWarning: Solver terminated early (max_iter=25).  Consider pre-processing your data with StandardScaler or MinMaxScaler.\n",
      "  % self.max_iter, ConvergenceWarning)\n",
      "/home/joel/anaconda2/envs/pyEnv/lib/python3.5/site-packages/sklearn/svm/base.py:218: ConvergenceWarning: Solver terminated early (max_iter=26).  Consider pre-processing your data with StandardScaler or MinMaxScaler.\n",
      "  % self.max_iter, ConvergenceWarning)\n",
      "/home/joel/anaconda2/envs/pyEnv/lib/python3.5/site-packages/sklearn/svm/base.py:218: ConvergenceWarning: Solver terminated early (max_iter=27).  Consider pre-processing your data with StandardScaler or MinMaxScaler.\n",
      "  % self.max_iter, ConvergenceWarning)\n",
      "/home/joel/anaconda2/envs/pyEnv/lib/python3.5/site-packages/sklearn/svm/base.py:218: ConvergenceWarning: Solver terminated early (max_iter=28).  Consider pre-processing your data with StandardScaler or MinMaxScaler.\n",
      "  % self.max_iter, ConvergenceWarning)\n",
      "/home/joel/anaconda2/envs/pyEnv/lib/python3.5/site-packages/sklearn/svm/base.py:218: ConvergenceWarning: Solver terminated early (max_iter=29).  Consider pre-processing your data with StandardScaler or MinMaxScaler.\n",
      "  % self.max_iter, ConvergenceWarning)\n",
      "/home/joel/anaconda2/envs/pyEnv/lib/python3.5/site-packages/sklearn/svm/base.py:218: ConvergenceWarning: Solver terminated early (max_iter=30).  Consider pre-processing your data with StandardScaler or MinMaxScaler.\n",
      "  % self.max_iter, ConvergenceWarning)\n",
      "/home/joel/anaconda2/envs/pyEnv/lib/python3.5/site-packages/sklearn/svm/base.py:218: ConvergenceWarning: Solver terminated early (max_iter=31).  Consider pre-processing your data with StandardScaler or MinMaxScaler.\n",
      "  % self.max_iter, ConvergenceWarning)\n",
      "/home/joel/anaconda2/envs/pyEnv/lib/python3.5/site-packages/sklearn/svm/base.py:218: ConvergenceWarning: Solver terminated early (max_iter=32).  Consider pre-processing your data with StandardScaler or MinMaxScaler.\n",
      "  % self.max_iter, ConvergenceWarning)\n",
      "/home/joel/anaconda2/envs/pyEnv/lib/python3.5/site-packages/sklearn/svm/base.py:218: ConvergenceWarning: Solver terminated early (max_iter=33).  Consider pre-processing your data with StandardScaler or MinMaxScaler.\n",
      "  % self.max_iter, ConvergenceWarning)\n",
      "/home/joel/anaconda2/envs/pyEnv/lib/python3.5/site-packages/sklearn/svm/base.py:218: ConvergenceWarning: Solver terminated early (max_iter=34).  Consider pre-processing your data with StandardScaler or MinMaxScaler.\n",
      "  % self.max_iter, ConvergenceWarning)\n",
      "/home/joel/anaconda2/envs/pyEnv/lib/python3.5/site-packages/sklearn/svm/base.py:218: ConvergenceWarning: Solver terminated early (max_iter=35).  Consider pre-processing your data with StandardScaler or MinMaxScaler.\n",
      "  % self.max_iter, ConvergenceWarning)\n",
      "/home/joel/anaconda2/envs/pyEnv/lib/python3.5/site-packages/sklearn/svm/base.py:218: ConvergenceWarning: Solver terminated early (max_iter=36).  Consider pre-processing your data with StandardScaler or MinMaxScaler.\n",
      "  % self.max_iter, ConvergenceWarning)\n",
      "/home/joel/anaconda2/envs/pyEnv/lib/python3.5/site-packages/sklearn/svm/base.py:218: ConvergenceWarning: Solver terminated early (max_iter=37).  Consider pre-processing your data with StandardScaler or MinMaxScaler.\n",
      "  % self.max_iter, ConvergenceWarning)\n",
      "/home/joel/anaconda2/envs/pyEnv/lib/python3.5/site-packages/sklearn/svm/base.py:218: ConvergenceWarning: Solver terminated early (max_iter=38).  Consider pre-processing your data with StandardScaler or MinMaxScaler.\n",
      "  % self.max_iter, ConvergenceWarning)\n",
      "/home/joel/anaconda2/envs/pyEnv/lib/python3.5/site-packages/sklearn/svm/base.py:218: ConvergenceWarning: Solver terminated early (max_iter=39).  Consider pre-processing your data with StandardScaler or MinMaxScaler.\n",
      "  % self.max_iter, ConvergenceWarning)\n",
      "/home/joel/anaconda2/envs/pyEnv/lib/python3.5/site-packages/sklearn/svm/base.py:218: ConvergenceWarning: Solver terminated early (max_iter=40).  Consider pre-processing your data with StandardScaler or MinMaxScaler.\n",
      "  % self.max_iter, ConvergenceWarning)\n",
      "/home/joel/anaconda2/envs/pyEnv/lib/python3.5/site-packages/sklearn/svm/base.py:218: ConvergenceWarning: Solver terminated early (max_iter=41).  Consider pre-processing your data with StandardScaler or MinMaxScaler.\n",
      "  % self.max_iter, ConvergenceWarning)\n",
      "/home/joel/anaconda2/envs/pyEnv/lib/python3.5/site-packages/sklearn/svm/base.py:218: ConvergenceWarning: Solver terminated early (max_iter=42).  Consider pre-processing your data with StandardScaler or MinMaxScaler.\n",
      "  % self.max_iter, ConvergenceWarning)\n",
      "/home/joel/anaconda2/envs/pyEnv/lib/python3.5/site-packages/sklearn/svm/base.py:218: ConvergenceWarning: Solver terminated early (max_iter=43).  Consider pre-processing your data with StandardScaler or MinMaxScaler.\n",
      "  % self.max_iter, ConvergenceWarning)\n",
      "/home/joel/anaconda2/envs/pyEnv/lib/python3.5/site-packages/sklearn/svm/base.py:218: ConvergenceWarning: Solver terminated early (max_iter=44).  Consider pre-processing your data with StandardScaler or MinMaxScaler.\n",
      "  % self.max_iter, ConvergenceWarning)\n",
      "/home/joel/anaconda2/envs/pyEnv/lib/python3.5/site-packages/sklearn/svm/base.py:218: ConvergenceWarning: Solver terminated early (max_iter=45).  Consider pre-processing your data with StandardScaler or MinMaxScaler.\n",
      "  % self.max_iter, ConvergenceWarning)\n",
      "/home/joel/anaconda2/envs/pyEnv/lib/python3.5/site-packages/sklearn/svm/base.py:218: ConvergenceWarning: Solver terminated early (max_iter=46).  Consider pre-processing your data with StandardScaler or MinMaxScaler.\n",
      "  % self.max_iter, ConvergenceWarning)\n",
      "/home/joel/anaconda2/envs/pyEnv/lib/python3.5/site-packages/sklearn/svm/base.py:218: ConvergenceWarning: Solver terminated early (max_iter=47).  Consider pre-processing your data with StandardScaler or MinMaxScaler.\n",
      "  % self.max_iter, ConvergenceWarning)\n",
      "/home/joel/anaconda2/envs/pyEnv/lib/python3.5/site-packages/sklearn/svm/base.py:218: ConvergenceWarning: Solver terminated early (max_iter=48).  Consider pre-processing your data with StandardScaler or MinMaxScaler.\n",
      "  % self.max_iter, ConvergenceWarning)\n",
      "/home/joel/anaconda2/envs/pyEnv/lib/python3.5/site-packages/sklearn/svm/base.py:218: ConvergenceWarning: Solver terminated early (max_iter=49).  Consider pre-processing your data with StandardScaler or MinMaxScaler.\n",
      "  % self.max_iter, ConvergenceWarning)\n",
      "/home/joel/anaconda2/envs/pyEnv/lib/python3.5/site-packages/sklearn/svm/base.py:218: ConvergenceWarning: Solver terminated early (max_iter=50).  Consider pre-processing your data with StandardScaler or MinMaxScaler.\n",
      "  % self.max_iter, ConvergenceWarning)\n",
      "/home/joel/anaconda2/envs/pyEnv/lib/python3.5/site-packages/sklearn/svm/base.py:218: ConvergenceWarning: Solver terminated early (max_iter=51).  Consider pre-processing your data with StandardScaler or MinMaxScaler.\n",
      "  % self.max_iter, ConvergenceWarning)\n",
      "/home/joel/anaconda2/envs/pyEnv/lib/python3.5/site-packages/sklearn/svm/base.py:218: ConvergenceWarning: Solver terminated early (max_iter=52).  Consider pre-processing your data with StandardScaler or MinMaxScaler.\n",
      "  % self.max_iter, ConvergenceWarning)\n",
      "/home/joel/anaconda2/envs/pyEnv/lib/python3.5/site-packages/sklearn/svm/base.py:218: ConvergenceWarning: Solver terminated early (max_iter=53).  Consider pre-processing your data with StandardScaler or MinMaxScaler.\n",
      "  % self.max_iter, ConvergenceWarning)\n",
      "/home/joel/anaconda2/envs/pyEnv/lib/python3.5/site-packages/sklearn/svm/base.py:218: ConvergenceWarning: Solver terminated early (max_iter=54).  Consider pre-processing your data with StandardScaler or MinMaxScaler.\n",
      "  % self.max_iter, ConvergenceWarning)\n",
      "/home/joel/anaconda2/envs/pyEnv/lib/python3.5/site-packages/sklearn/svm/base.py:218: ConvergenceWarning: Solver terminated early (max_iter=55).  Consider pre-processing your data with StandardScaler or MinMaxScaler.\n",
      "  % self.max_iter, ConvergenceWarning)\n",
      "/home/joel/anaconda2/envs/pyEnv/lib/python3.5/site-packages/sklearn/svm/base.py:218: ConvergenceWarning: Solver terminated early (max_iter=56).  Consider pre-processing your data with StandardScaler or MinMaxScaler.\n",
      "  % self.max_iter, ConvergenceWarning)\n",
      "/home/joel/anaconda2/envs/pyEnv/lib/python3.5/site-packages/sklearn/svm/base.py:218: ConvergenceWarning: Solver terminated early (max_iter=57).  Consider pre-processing your data with StandardScaler or MinMaxScaler.\n",
      "  % self.max_iter, ConvergenceWarning)\n",
      "/home/joel/anaconda2/envs/pyEnv/lib/python3.5/site-packages/sklearn/svm/base.py:218: ConvergenceWarning: Solver terminated early (max_iter=58).  Consider pre-processing your data with StandardScaler or MinMaxScaler.\n",
      "  % self.max_iter, ConvergenceWarning)\n",
      "/home/joel/anaconda2/envs/pyEnv/lib/python3.5/site-packages/sklearn/svm/base.py:218: ConvergenceWarning: Solver terminated early (max_iter=59).  Consider pre-processing your data with StandardScaler or MinMaxScaler.\n",
      "  % self.max_iter, ConvergenceWarning)\n",
      "/home/joel/anaconda2/envs/pyEnv/lib/python3.5/site-packages/sklearn/svm/base.py:218: ConvergenceWarning: Solver terminated early (max_iter=60).  Consider pre-processing your data with StandardScaler or MinMaxScaler.\n",
      "  % self.max_iter, ConvergenceWarning)\n",
      "/home/joel/anaconda2/envs/pyEnv/lib/python3.5/site-packages/sklearn/svm/base.py:218: ConvergenceWarning: Solver terminated early (max_iter=61).  Consider pre-processing your data with StandardScaler or MinMaxScaler.\n",
      "  % self.max_iter, ConvergenceWarning)\n",
      "/home/joel/anaconda2/envs/pyEnv/lib/python3.5/site-packages/sklearn/svm/base.py:218: ConvergenceWarning: Solver terminated early (max_iter=62).  Consider pre-processing your data with StandardScaler or MinMaxScaler.\n",
      "  % self.max_iter, ConvergenceWarning)\n",
      "/home/joel/anaconda2/envs/pyEnv/lib/python3.5/site-packages/sklearn/svm/base.py:218: ConvergenceWarning: Solver terminated early (max_iter=63).  Consider pre-processing your data with StandardScaler or MinMaxScaler.\n",
      "  % self.max_iter, ConvergenceWarning)\n",
      "/home/joel/anaconda2/envs/pyEnv/lib/python3.5/site-packages/sklearn/svm/base.py:218: ConvergenceWarning: Solver terminated early (max_iter=64).  Consider pre-processing your data with StandardScaler or MinMaxScaler.\n",
      "  % self.max_iter, ConvergenceWarning)\n",
      "/home/joel/anaconda2/envs/pyEnv/lib/python3.5/site-packages/sklearn/svm/base.py:218: ConvergenceWarning: Solver terminated early (max_iter=65).  Consider pre-processing your data with StandardScaler or MinMaxScaler.\n",
      "  % self.max_iter, ConvergenceWarning)\n",
      "/home/joel/anaconda2/envs/pyEnv/lib/python3.5/site-packages/sklearn/svm/base.py:218: ConvergenceWarning: Solver terminated early (max_iter=66).  Consider pre-processing your data with StandardScaler or MinMaxScaler.\n",
      "  % self.max_iter, ConvergenceWarning)\n",
      "/home/joel/anaconda2/envs/pyEnv/lib/python3.5/site-packages/sklearn/svm/base.py:218: ConvergenceWarning: Solver terminated early (max_iter=67).  Consider pre-processing your data with StandardScaler or MinMaxScaler.\n",
      "  % self.max_iter, ConvergenceWarning)\n",
      "/home/joel/anaconda2/envs/pyEnv/lib/python3.5/site-packages/sklearn/svm/base.py:218: ConvergenceWarning: Solver terminated early (max_iter=68).  Consider pre-processing your data with StandardScaler or MinMaxScaler.\n",
      "  % self.max_iter, ConvergenceWarning)\n",
      "/home/joel/anaconda2/envs/pyEnv/lib/python3.5/site-packages/sklearn/svm/base.py:218: ConvergenceWarning: Solver terminated early (max_iter=69).  Consider pre-processing your data with StandardScaler or MinMaxScaler.\n",
      "  % self.max_iter, ConvergenceWarning)\n",
      "/home/joel/anaconda2/envs/pyEnv/lib/python3.5/site-packages/sklearn/svm/base.py:218: ConvergenceWarning: Solver terminated early (max_iter=70).  Consider pre-processing your data with StandardScaler or MinMaxScaler.\n",
      "  % self.max_iter, ConvergenceWarning)\n",
      "/home/joel/anaconda2/envs/pyEnv/lib/python3.5/site-packages/sklearn/svm/base.py:218: ConvergenceWarning: Solver terminated early (max_iter=71).  Consider pre-processing your data with StandardScaler or MinMaxScaler.\n",
      "  % self.max_iter, ConvergenceWarning)\n",
      "/home/joel/anaconda2/envs/pyEnv/lib/python3.5/site-packages/sklearn/svm/base.py:218: ConvergenceWarning: Solver terminated early (max_iter=72).  Consider pre-processing your data with StandardScaler or MinMaxScaler.\n",
      "  % self.max_iter, ConvergenceWarning)\n",
      "/home/joel/anaconda2/envs/pyEnv/lib/python3.5/site-packages/sklearn/svm/base.py:218: ConvergenceWarning: Solver terminated early (max_iter=73).  Consider pre-processing your data with StandardScaler or MinMaxScaler.\n",
      "  % self.max_iter, ConvergenceWarning)\n"
     ]
    },
    {
     "name": "stdout",
     "output_type": "stream",
     "text": [
      "[0.689, 0.59, 0.59, 0.59, 0.672, 0.689, 0.672, 0.689, 0.689, 0.689, 0.721, 0.689, 0.689, 0.672, 0.721, 0.803, 0.787, 0.721, 0.787, 0.77, 0.803, 0.738, 0.738, 0.738, 0.721, 0.787, 0.77, 0.803, 0.77, 0.77, 0.77, 0.738, 0.787, 0.77, 0.754, 0.754, 0.787, 0.803, 0.836, 0.787, 0.754, 0.754, 0.787, 0.787, 0.77, 0.77, 0.77, 0.77, 0.754, 0.754, 0.787, 0.787, 0.77, 0.787, 0.754, 0.754, 0.738, 0.738, 0.738, 0.738, 0.738, 0.738, 0.738, 0.738, 0.738, 0.754, 0.754, 0.754, 0.754, 0.754, 0.754, 0.738, 0.738, 0.738, 0.738, 0.738, 0.738, 0.738, 0.738, 0.738, 0.738, 0.738, 0.738, 0.738, 0.738, 0.738, 0.738, 0.738, 0.738, 0.738, 0.738, 0.738, 0.738, 0.738, 0.738, 0.738, 0.738, 0.738, 0.738, 0.738]\n"
     ]
    },
    {
     "name": "stderr",
     "output_type": "stream",
     "text": [
      "/home/joel/anaconda2/envs/pyEnv/lib/python3.5/site-packages/sklearn/svm/base.py:218: ConvergenceWarning: Solver terminated early (max_iter=74).  Consider pre-processing your data with StandardScaler or MinMaxScaler.\n",
      "  % self.max_iter, ConvergenceWarning)\n",
      "/home/joel/anaconda2/envs/pyEnv/lib/python3.5/site-packages/sklearn/svm/base.py:218: ConvergenceWarning: Solver terminated early (max_iter=75).  Consider pre-processing your data with StandardScaler or MinMaxScaler.\n",
      "  % self.max_iter, ConvergenceWarning)\n",
      "/home/joel/anaconda2/envs/pyEnv/lib/python3.5/site-packages/sklearn/svm/base.py:218: ConvergenceWarning: Solver terminated early (max_iter=76).  Consider pre-processing your data with StandardScaler or MinMaxScaler.\n",
      "  % self.max_iter, ConvergenceWarning)\n",
      "/home/joel/anaconda2/envs/pyEnv/lib/python3.5/site-packages/sklearn/svm/base.py:218: ConvergenceWarning: Solver terminated early (max_iter=77).  Consider pre-processing your data with StandardScaler or MinMaxScaler.\n",
      "  % self.max_iter, ConvergenceWarning)\n",
      "/home/joel/anaconda2/envs/pyEnv/lib/python3.5/site-packages/sklearn/svm/base.py:218: ConvergenceWarning: Solver terminated early (max_iter=78).  Consider pre-processing your data with StandardScaler or MinMaxScaler.\n",
      "  % self.max_iter, ConvergenceWarning)\n",
      "/home/joel/anaconda2/envs/pyEnv/lib/python3.5/site-packages/sklearn/svm/base.py:218: ConvergenceWarning: Solver terminated early (max_iter=79).  Consider pre-processing your data with StandardScaler or MinMaxScaler.\n",
      "  % self.max_iter, ConvergenceWarning)\n",
      "/home/joel/anaconda2/envs/pyEnv/lib/python3.5/site-packages/sklearn/svm/base.py:218: ConvergenceWarning: Solver terminated early (max_iter=80).  Consider pre-processing your data with StandardScaler or MinMaxScaler.\n",
      "  % self.max_iter, ConvergenceWarning)\n",
      "/home/joel/anaconda2/envs/pyEnv/lib/python3.5/site-packages/sklearn/svm/base.py:218: ConvergenceWarning: Solver terminated early (max_iter=81).  Consider pre-processing your data with StandardScaler or MinMaxScaler.\n",
      "  % self.max_iter, ConvergenceWarning)\n",
      "/home/joel/anaconda2/envs/pyEnv/lib/python3.5/site-packages/sklearn/svm/base.py:218: ConvergenceWarning: Solver terminated early (max_iter=82).  Consider pre-processing your data with StandardScaler or MinMaxScaler.\n",
      "  % self.max_iter, ConvergenceWarning)\n",
      "/home/joel/anaconda2/envs/pyEnv/lib/python3.5/site-packages/sklearn/svm/base.py:218: ConvergenceWarning: Solver terminated early (max_iter=83).  Consider pre-processing your data with StandardScaler or MinMaxScaler.\n",
      "  % self.max_iter, ConvergenceWarning)\n",
      "/home/joel/anaconda2/envs/pyEnv/lib/python3.5/site-packages/sklearn/svm/base.py:218: ConvergenceWarning: Solver terminated early (max_iter=84).  Consider pre-processing your data with StandardScaler or MinMaxScaler.\n",
      "  % self.max_iter, ConvergenceWarning)\n",
      "/home/joel/anaconda2/envs/pyEnv/lib/python3.5/site-packages/sklearn/svm/base.py:218: ConvergenceWarning: Solver terminated early (max_iter=85).  Consider pre-processing your data with StandardScaler or MinMaxScaler.\n",
      "  % self.max_iter, ConvergenceWarning)\n",
      "/home/joel/anaconda2/envs/pyEnv/lib/python3.5/site-packages/sklearn/svm/base.py:218: ConvergenceWarning: Solver terminated early (max_iter=86).  Consider pre-processing your data with StandardScaler or MinMaxScaler.\n",
      "  % self.max_iter, ConvergenceWarning)\n",
      "/home/joel/anaconda2/envs/pyEnv/lib/python3.5/site-packages/sklearn/svm/base.py:218: ConvergenceWarning: Solver terminated early (max_iter=87).  Consider pre-processing your data with StandardScaler or MinMaxScaler.\n",
      "  % self.max_iter, ConvergenceWarning)\n",
      "/home/joel/anaconda2/envs/pyEnv/lib/python3.5/site-packages/sklearn/svm/base.py:218: ConvergenceWarning: Solver terminated early (max_iter=88).  Consider pre-processing your data with StandardScaler or MinMaxScaler.\n",
      "  % self.max_iter, ConvergenceWarning)\n",
      "/home/joel/anaconda2/envs/pyEnv/lib/python3.5/site-packages/sklearn/svm/base.py:218: ConvergenceWarning: Solver terminated early (max_iter=89).  Consider pre-processing your data with StandardScaler or MinMaxScaler.\n",
      "  % self.max_iter, ConvergenceWarning)\n",
      "/home/joel/anaconda2/envs/pyEnv/lib/python3.5/site-packages/sklearn/svm/base.py:218: ConvergenceWarning: Solver terminated early (max_iter=90).  Consider pre-processing your data with StandardScaler or MinMaxScaler.\n",
      "  % self.max_iter, ConvergenceWarning)\n",
      "/home/joel/anaconda2/envs/pyEnv/lib/python3.5/site-packages/sklearn/svm/base.py:218: ConvergenceWarning: Solver terminated early (max_iter=91).  Consider pre-processing your data with StandardScaler or MinMaxScaler.\n",
      "  % self.max_iter, ConvergenceWarning)\n",
      "/home/joel/anaconda2/envs/pyEnv/lib/python3.5/site-packages/sklearn/svm/base.py:218: ConvergenceWarning: Solver terminated early (max_iter=92).  Consider pre-processing your data with StandardScaler or MinMaxScaler.\n",
      "  % self.max_iter, ConvergenceWarning)\n",
      "/home/joel/anaconda2/envs/pyEnv/lib/python3.5/site-packages/sklearn/svm/base.py:218: ConvergenceWarning: Solver terminated early (max_iter=93).  Consider pre-processing your data with StandardScaler or MinMaxScaler.\n",
      "  % self.max_iter, ConvergenceWarning)\n",
      "/home/joel/anaconda2/envs/pyEnv/lib/python3.5/site-packages/sklearn/svm/base.py:218: ConvergenceWarning: Solver terminated early (max_iter=94).  Consider pre-processing your data with StandardScaler or MinMaxScaler.\n",
      "  % self.max_iter, ConvergenceWarning)\n",
      "/home/joel/anaconda2/envs/pyEnv/lib/python3.5/site-packages/sklearn/svm/base.py:218: ConvergenceWarning: Solver terminated early (max_iter=95).  Consider pre-processing your data with StandardScaler or MinMaxScaler.\n",
      "  % self.max_iter, ConvergenceWarning)\n",
      "/home/joel/anaconda2/envs/pyEnv/lib/python3.5/site-packages/sklearn/svm/base.py:218: ConvergenceWarning: Solver terminated early (max_iter=96).  Consider pre-processing your data with StandardScaler or MinMaxScaler.\n",
      "  % self.max_iter, ConvergenceWarning)\n",
      "/home/joel/anaconda2/envs/pyEnv/lib/python3.5/site-packages/sklearn/svm/base.py:218: ConvergenceWarning: Solver terminated early (max_iter=97).  Consider pre-processing your data with StandardScaler or MinMaxScaler.\n",
      "  % self.max_iter, ConvergenceWarning)\n",
      "/home/joel/anaconda2/envs/pyEnv/lib/python3.5/site-packages/sklearn/svm/base.py:218: ConvergenceWarning: Solver terminated early (max_iter=98).  Consider pre-processing your data with StandardScaler or MinMaxScaler.\n",
      "  % self.max_iter, ConvergenceWarning)\n",
      "/home/joel/anaconda2/envs/pyEnv/lib/python3.5/site-packages/sklearn/svm/base.py:218: ConvergenceWarning: Solver terminated early (max_iter=99).  Consider pre-processing your data with StandardScaler or MinMaxScaler.\n",
      "  % self.max_iter, ConvergenceWarning)\n",
      "/home/joel/anaconda2/envs/pyEnv/lib/python3.5/site-packages/sklearn/svm/base.py:218: ConvergenceWarning: Solver terminated early (max_iter=100).  Consider pre-processing your data with StandardScaler or MinMaxScaler.\n",
      "  % self.max_iter, ConvergenceWarning)\n"
     ]
    }
   ],
   "source": [
    "\"\"\"This is pretty hard to interpet --> ignore\"\"\"\n",
    "svm_results[\"max_iter\"] = []\n",
    "for max_iter in svm_hyperparams[\"max_iter\"]:\n",
    "    clf = SVC(max_iter=max_iter)\n",
    "    clf = clf.fit(x_tr, y_tr)\n",
    "    y_pred = clf.predict(x_te)\n",
    "    svm_results[\"max_iter\"].append(r_acc(y_te, y_pred))\n",
    "print(svm_results[\"max_iter\"])"
   ]
  },
  {
   "cell_type": "code",
   "execution_count": 55,
   "metadata": {},
   "outputs": [
    {
     "name": "stdout",
     "output_type": "stream",
     "text": [
      "0.8133230452674898\n",
      "SVC trained in 0:00:00.001325\n",
      "0.7704918032786885\n"
     ]
    }
   ],
   "source": [
    "# KNN: https://scikit-learn.org/stable/modules/generated/sklearn.neighbors.KNeighborsClassifier.html\n",
    "from sklearn.neighbors import KNeighborsClassifier\n",
    "clf = KNeighborsClassifier()\n",
    "\n",
    "accuracy = cross_val_score(clf, x_tr, y_tr, scoring='accuracy', cv=kf)\n",
    "print(accuracy.mean()) # Easy graph over number of classes here\n",
    "time_start = datetime.now()\n",
    "clf = clf.fit(x_tr, y_tr)\n",
    "print(\"KNN trained in {}\".format(datetime.now() - time_start))\n",
    "y_pred = clf.predict(x_te)\n",
    "y_pred = clf.predict(x_te)\n",
    "print(accuracy_score(y_te, y_pred))"
   ]
  },
  {
   "cell_type": "code",
   "execution_count": 58,
   "metadata": {},
   "outputs": [],
   "source": [
    "# KNN Hyperparams\n",
    "knn_hyperparams = {\"k\": np.arange(10) + 1,\n",
    "                   \"weighting\": ['uniform', 'distance'],\n",
    "                   \"p\": np.arange(10) + 1}\n",
    "# Base params: relu, max_iter: 200 (==> convergence), lbfgs (good for smaller datasets), standard alpha\n",
    "knn_results = {}"
   ]
  },
  {
   "cell_type": "code",
   "execution_count": 59,
   "metadata": {},
   "outputs": [
    {
     "name": "stdout",
     "output_type": "stream",
     "text": [
      "[0.75, 0.774, 0.761, 0.77, 0.776, 0.769, 0.802, 0.826, 0.794, 0.788]\n"
     ]
    }
   ],
   "source": [
    "knn_results[\"tr_size\"] = []\n",
    "clf = KNeighborsClassifier()\n",
    "for splits in split_presets:\n",
    "    split_x_tr, split_x_te, split_y_tr, split_y_te = splits\n",
    "    clf = clf.fit(split_x_tr, split_y_tr)\n",
    "    y_pred = clf.predict(split_x_te)\n",
    "    knn_results[\"tr_size\"].append(r_acc(split_y_te, y_pred))\n",
    "print(knn_results[\"tr_size\"])"
   ]
  },
  {
   "cell_type": "code",
   "execution_count": 61,
   "metadata": {},
   "outputs": [
    {
     "name": "stdout",
     "output_type": "stream",
     "text": [
      "[0.705, 0.689, 0.738, 0.672, 0.77, 0.672, 0.721, 0.689, 0.738, 0.705]\n"
     ]
    }
   ],
   "source": [
    "knn_results[\"k\"] = []\n",
    "for k in knn_hyperparams[\"k\"]:\n",
    "    clf = KNeighborsClassifier(n_neighbors=k)\n",
    "    clf = clf.fit(x_tr, y_tr)\n",
    "    y_pred = clf.predict(x_te)\n",
    "    knn_results[\"k\"].append(r_acc(y_te, y_pred))\n",
    "print(knn_results[\"k\"])"
   ]
  },
  {
   "cell_type": "code",
   "execution_count": 63,
   "metadata": {},
   "outputs": [
    {
     "name": "stdout",
     "output_type": "stream",
     "text": [
      "[0.77, 0.77]\n"
     ]
    }
   ],
   "source": [
    "knn_results[\"weighting\"] = []\n",
    "for weighting in knn_hyperparams[\"weighting\"]:\n",
    "    clf = KNeighborsClassifier(weights=weighting)\n",
    "    clf = clf.fit(x_tr, y_tr)\n",
    "    y_pred = clf.predict(x_te)\n",
    "    knn_results[\"weighting\"].append(r_acc(y_te, y_pred))\n",
    "print(knn_results[\"weighting\"]) # Presumably due to dimensionality -> space too sparse"
   ]
  },
  {
   "cell_type": "code",
   "execution_count": 62,
   "metadata": {},
   "outputs": [
    {
     "name": "stdout",
     "output_type": "stream",
     "text": [
      "[0.721, 0.77, 0.77, 0.754, 0.754, 0.77, 0.77, 0.787, 0.787, 0.787]\n"
     ]
    }
   ],
   "source": [
    "knn_results[\"p\"] = []\n",
    "for p in knn_hyperparams[\"p\"]:\n",
    "    clf = KNeighborsClassifier(p=p)\n",
    "    clf = clf.fit(x_tr, y_tr)\n",
    "    y_pred = clf.predict(x_te)\n",
    "    knn_results[\"p\"].append(r_acc(y_te, y_pred))\n",
    "print(knn_results[\"p\"])"
   ]
  },
  {
   "cell_type": "code",
   "execution_count": null,
   "metadata": {},
   "outputs": [],
   "source": []
  }
 ],
 "metadata": {
  "kernelspec": {
   "display_name": "Python 3",
   "language": "python",
   "name": "python3"
  },
  "language_info": {
   "codemirror_mode": {
    "name": "ipython",
    "version": 3
   },
   "file_extension": ".py",
   "mimetype": "text/x-python",
   "name": "python",
   "nbconvert_exporter": "python",
   "pygments_lexer": "ipython3",
   "version": "3.5.5"
  }
 },
 "nbformat": 4,
 "nbformat_minor": 2
}
