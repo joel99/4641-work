{
 "cells": [
  {
   "cell_type": "code",
   "execution_count": 1,
   "metadata": {},
   "outputs": [
    {
     "name": "stdout",
     "output_type": "stream",
     "text": [
      "mkdir: cannot create directory ‘figures’: File exists\r\n"
     ]
    }
   ],
   "source": [
    "%matplotlib inline\n",
    "%mkdir figures\n",
    "%load_ext autoreload\n",
    "%autoreload 2\n",
    "# GA champ - due to ability to retain good results and not be affected as much by random steps\n",
    "import importlib\n",
    "import mlrose\n",
    "import numpy as np\n",
    "from datetime import datetime\n",
    "import matplotlib.pyplot as plt\n",
    "import pickle\n",
    "prob_name = \"kcolor\"\n",
    "np.random.seed(1)"
   ]
  },
  {
   "cell_type": "code",
   "execution_count": 13,
   "metadata": {},
   "outputs": [
    {
     "name": "stdout",
     "output_type": "stream",
     "text": [
      "5\n",
      "Fitness eval time approximately: 0:00:00.000203\n"
     ]
    }
   ],
   "source": [
    "kcolor_edges = 500\n",
    "kcolor_nodes = 50\n",
    "from networkx import nx\n",
    "G = nx.gnm_random_graph(kcolor_nodes, kcolor_edges)\n",
    "edge_list = G.edges()\n",
    "degrees = G.degree().values()\n",
    "max_deg = max(degrees)\n",
    "k = int(max_deg/5)\n",
    "print(k)\n",
    "trials = 100\n",
    "\n",
    "# Note - max_fitness = # edges = 300\n",
    "fitness = mlrose.MaxKColor(edge_list)\n",
    "\n",
    "# Generates many invalid inputs\n",
    "state = np.random.randint(0, max_deg, (trials, kcolor_nodes))\n",
    "# Clock evaluation of the fitness to assess 'cost' of fitness function - for loop used because mlrose doesn't appropriately \n",
    "time_start = datetime.now()\n",
    "for trial in range(trials):\n",
    "    fitness.evaluate(state[trial])\n",
    "print(\"Fitness eval time approximately: {}\".format((datetime.now() - time_start)/trials))"
   ]
  },
  {
   "cell_type": "code",
   "execution_count": 14,
   "metadata": {},
   "outputs": [],
   "source": [
    "problem = mlrose.DiscreteOpt(length=kcolor_nodes, fitness_fn=fitness, maximize=True, max_val=k) # Note values are count\n",
    "# max_val is exclusive\n"
   ]
  },
  {
   "cell_type": "code",
   "execution_count": 15,
   "metadata": {},
   "outputs": [],
   "source": [
    "# Wrapper for analysis, returns average time over trials and average best fitness\n",
    "def algo_wrap(algo, trials=100, name=\"\", verbose=False, **kwargs):\n",
    "    if algo == None:\n",
    "        raise Exception(\"Need an input algo\")\n",
    "    time_start = datetime.now()\n",
    "    best_state, best_fitness  = zip(*[algo(problem, **kwargs) \\\n",
    "                                     for i in range(trials)])\n",
    "    average_time = ((datetime.now() - time_start)/trials).microseconds\n",
    "    average_best_fitness = sum(best_fitness) / trials\n",
    "    if verbose:\n",
    "        print(\"{} time approximately: {}\".format(name, average_time))\n",
    "        print(\"{} Example Best State: {}\".format(name, best_state[0]))\n",
    "        print(\"{} Average Best Fitness: {}\".format(name, average_best_fitness))\n",
    "    return average_time, average_best_fitness\n",
    "\n",
    "# Wrapper for looping over hyperparams - returns dictionary of times/fitnesses per hyperparam - presume default hyperparams elsewhere\n",
    "def eval_wrap(algo, default_params, hyperparams, verbose=False, trials=100):\n",
    "    ret = {}\n",
    "    for p in hyperparams:\n",
    "        ret[p] = []\n",
    "        input_params = default_params\n",
    "        ret[p].append(np.empty_like(hyperparams[p])) # time\n",
    "        ret[p].append(np.empty_like(hyperparams[p])) # fitness\n",
    "        for i, setting in enumerate(hyperparams[p]):\n",
    "            print(setting, p)\n",
    "            input_params[p] = setting\n",
    "            ret[p][0][i], ret[p][1][i] = algo_wrap(algo, verbose=verbose, trials=trials, **input_params)\n",
    "    return ret\n",
    "\n",
    "# Save figures, then plot them - names required for bar graphs\n",
    "def plot_all(problem_name, algo_name, hyperparams, names, stats):\n",
    "    for i, param in enumerate(stats):\n",
    "        plt.clf()\n",
    "        plt.xlabel(param)\n",
    "        plt.ylabel(u'Time (\\u03bcs)')\n",
    "        if param in names: # check if we provided custom names (probably bar) type of example hyperparam bar graph\n",
    "            ind = np.arange(len(hyperparams[param]))\n",
    "            plt.xticks(ind, names[param])\n",
    "            plt.bar(ind, stats[param][0])\n",
    "        else:\n",
    "            plt.plot(hyperparams[param], stats[param][0])\n",
    "        plt.title(\"{} {} Time v {}\".format(problem_name, algo_name, param))\n",
    "        plt.savefig(\"figures/{}_{}_{}_time.png\".format(problem_name, algo_name, param))\n",
    "        plt.clf()\n",
    "        if param in names: # check type of example hyperparam bar graph\n",
    "            ind = np.arange(len(hyperparams[param]))\n",
    "            plt.xticks(ind, names[param])\n",
    "            plt.bar(ind, stats[param][1])\n",
    "        else:\n",
    "            plt.plot(hyperparams[param], stats[param][1])\n",
    "        plt.xlabel(param)\n",
    "        plt.ylabel(\"Fitness\")\n",
    "        plt.title(\"{} {} Fitness v {}\".format(problem_name, algo_name, param))\n",
    "        plt.savefig(\"figures/{}_{}_{}_fitness.png\".format(problem_name, algo_name, param))\n",
    "    # Now for the sake of the notebook, plot in subplots\n",
    "    plt.clf()\n",
    "    fig, axes = plt.subplots(len(stats.keys()), 2, figsize=(12,8))\n",
    "    plt.tight_layout(h_pad=5, w_pad=2)\n",
    "    fig.suptitle(\"{} {}\".format(problem_name, algo_name))\n",
    "    fig.subplots_adjust(top=0.88)\n",
    "    for i, param in enumerate(stats):\n",
    "        axes[i,0].set_xlabel(param)\n",
    "        axes[i,1].set_xlabel(param)\n",
    "        axes[i,0].set_ylabel(u'Time (\\u03bcs)')\n",
    "        axes[i,1].set_ylabel('Fitness')\n",
    "        axes[i,0].set_title(\"Time v {}\".format(param))\n",
    "        axes[i,1].set_title(\"Fitness v {}\".format(param))\n",
    "        if param in names: # check type of example hyperparam bar graph\n",
    "            ind = np.arange(len(hyperparams[param]))\n",
    "            axes[i,0].bar(ind, stats[param][0])\n",
    "            # No labels here, this is too annoying\n",
    "        else:\n",
    "            axes[i,0].plot(hyperparams[param], stats[param][0])\n",
    "        if param in names: # check type of example hyperparam bar graph\n",
    "            ind = np.arange(len(hyperparams[param]))\n",
    "            axes[i,1].bar(ind, stats[param][1])\n",
    "        else:\n",
    "            axes[i,1].plot(hyperparams[param], stats[param][1])"
   ]
  },
  {
   "cell_type": "code",
   "execution_count": 16,
   "metadata": {},
   "outputs": [],
   "source": [
    "# Randomized Hill Climbing\n",
    "max_attempt_range = range(3,33, 3)\n",
    "max_iter_range = range(20, 1020, 40)\n",
    "restarts = range(0, 5, 1) # we expect no change because there are no local maxima\n",
    "default_params = {'max_attempts': 10, 'max_iters': 1000}\n",
    "hyperparams = {'max_attempts': max_attempt_range, 'max_iters': max_iter_range, 'restarts': restarts}"
   ]
  },
  {
   "cell_type": "code",
   "execution_count": 17,
   "metadata": {},
   "outputs": [
    {
     "name": "stdout",
     "output_type": "stream",
     "text": [
      "3 max_attempts\n",
      "6 max_attempts\n",
      "9 max_attempts\n",
      "12 max_attempts\n",
      "15 max_attempts\n",
      "18 max_attempts\n",
      "21 max_attempts\n",
      "24 max_attempts\n",
      "27 max_attempts\n",
      "30 max_attempts\n",
      "20 max_iters\n",
      "60 max_iters\n",
      "100 max_iters\n",
      "140 max_iters\n",
      "180 max_iters\n",
      "220 max_iters\n",
      "260 max_iters\n",
      "300 max_iters\n",
      "340 max_iters\n",
      "380 max_iters\n",
      "420 max_iters\n",
      "460 max_iters\n",
      "500 max_iters\n",
      "540 max_iters\n",
      "580 max_iters\n",
      "620 max_iters\n",
      "660 max_iters\n",
      "700 max_iters\n",
      "740 max_iters\n",
      "780 max_iters\n",
      "820 max_iters\n",
      "860 max_iters\n",
      "900 max_iters\n",
      "940 max_iters\n",
      "980 max_iters\n",
      "0 restarts\n",
      "1 restarts\n",
      "2 restarts\n",
      "3 restarts\n",
      "4 restarts\n"
     ]
    }
   ],
   "source": [
    "load_rhc = False\n",
    "algo_name = \"rhc\"\n",
    "fn = '{}_{}_stats.pickle'.format(prob_name, algo_name)\n",
    "\n",
    "rhc_ret = None\n",
    "if load_rhc:\n",
    "    with open(fn) as f:\n",
    "        rhc_ret = pickle.load(f)\n",
    "else: \n",
    "    rhc_ret = eval_wrap(mlrose.random_hill_climb, default_params, hyperparams, trials=10)\n",
    "    with open('{}_{}_stats.pickle'.format(prob_name, algo_name), 'wb') as handle:\n",
    "        pickle.dump(rhc_ret, handle)"
   ]
  },
  {
   "cell_type": "code",
   "execution_count": 18,
   "metadata": {},
   "outputs": [
    {
     "data": {
      "text/plain": [
       "<matplotlib.figure.Figure at 0x7f3c71741c50>"
      ]
     },
     "metadata": {},
     "output_type": "display_data"
    },
    {
     "data": {
      "image/png": "[encoded data removed]",
      "text/plain": [
       "<matplotlib.figure.Figure at 0x7f3c6d68bba8>"
      ]
     },
     "metadata": {},
     "output_type": "display_data"
    }
   ],
   "source": [
    "plot_all(prob_name, \"RHC\", hyperparams, {}, rhc_ret)"
   ]
  },
  {
   "cell_type": "code",
   "execution_count": 8,
   "metadata": {},
   "outputs": [],
   "source": [
    "# Simulated Annealing\n",
    "schedules = [mlrose.ExpDecay(), mlrose.GeomDecay(), mlrose.ArithDecay()]\n",
    "names = {\"schedule\": [\"exp\", \"geom\", \"arith\"]}\n",
    "max_attempt_range = range(3,33, 3)\n",
    "max_iter_range = range(20, 1020, 40)\n",
    "default_params = {'max_attempts': 10, 'max_iters': 1000, 'schedule': schedules[1]}\n",
    "hyperparams = {'max_attempts': max_attempt_range, 'max_iters': max_iter_range, 'schedule': schedules}"
   ]
  },
  {
   "cell_type": "code",
   "execution_count": 9,
   "metadata": {},
   "outputs": [
    {
     "name": "stdout",
     "output_type": "stream",
     "text": [
      "3 max_attempts\n",
      "6 max_attempts\n"
     ]
    },
    {
     "ename": "KeyboardInterrupt",
     "evalue": "",
     "output_type": "error",
     "traceback": [
      "\u001b[0;31m------------------------------------------------------------------------\u001b[0m",
      "\u001b[0;31mKeyboardInterrupt\u001b[0m                      Traceback (most recent call last)",
      "\u001b[0;32m<ipython-input-9-c6a2fcdc8946>\u001b[0m in \u001b[0;36m<module>\u001b[0;34m()\u001b[0m\n\u001b[1;32m      8\u001b[0m         \u001b[0msa_ret\u001b[0m \u001b[0;34m=\u001b[0m \u001b[0mpickle\u001b[0m\u001b[0;34m.\u001b[0m\u001b[0mload\u001b[0m\u001b[0;34m(\u001b[0m\u001b[0mf\u001b[0m\u001b[0;34m)\u001b[0m\u001b[0;34m\u001b[0m\u001b[0m\n\u001b[1;32m      9\u001b[0m \u001b[0;32melse\u001b[0m\u001b[0;34m:\u001b[0m\u001b[0;34m\u001b[0m\u001b[0m\n\u001b[0;32m---> 10\u001b[0;31m     \u001b[0msa_ret\u001b[0m \u001b[0;34m=\u001b[0m \u001b[0meval_wrap\u001b[0m\u001b[0;34m(\u001b[0m\u001b[0mmlrose\u001b[0m\u001b[0;34m.\u001b[0m\u001b[0msimulated_annealing\u001b[0m\u001b[0;34m,\u001b[0m \u001b[0mdefault_params\u001b[0m\u001b[0;34m,\u001b[0m \u001b[0mhyperparams\u001b[0m\u001b[0;34m)\u001b[0m\u001b[0;34m\u001b[0m\u001b[0m\n\u001b[0m\u001b[1;32m     11\u001b[0m     \u001b[0;32mwith\u001b[0m \u001b[0mopen\u001b[0m\u001b[0;34m(\u001b[0m\u001b[0;34m'{}_{}_stats.pickle'\u001b[0m\u001b[0;34m.\u001b[0m\u001b[0mformat\u001b[0m\u001b[0;34m(\u001b[0m\u001b[0mprob_name\u001b[0m\u001b[0;34m,\u001b[0m \u001b[0malgo_name\u001b[0m\u001b[0;34m)\u001b[0m\u001b[0;34m,\u001b[0m \u001b[0;34m'wb'\u001b[0m\u001b[0;34m)\u001b[0m \u001b[0;32mas\u001b[0m \u001b[0mhandle\u001b[0m\u001b[0;34m:\u001b[0m\u001b[0;34m\u001b[0m\u001b[0m\n\u001b[1;32m     12\u001b[0m         \u001b[0mpickle\u001b[0m\u001b[0;34m.\u001b[0m\u001b[0mdump\u001b[0m\u001b[0;34m(\u001b[0m\u001b[0msa_ret\u001b[0m\u001b[0;34m,\u001b[0m \u001b[0mhandle\u001b[0m\u001b[0;34m)\u001b[0m\u001b[0;34m\u001b[0m\u001b[0m\n",
      "\u001b[0;32m<ipython-input-4-4a795c596697>\u001b[0m in \u001b[0;36meval_wrap\u001b[0;34m(algo, default_params, hyperparams, verbose, trials)\u001b[0m\n\u001b[1;32m     24\u001b[0m             \u001b[0mprint\u001b[0m\u001b[0;34m(\u001b[0m\u001b[0msetting\u001b[0m\u001b[0;34m,\u001b[0m \u001b[0mp\u001b[0m\u001b[0;34m)\u001b[0m\u001b[0;34m\u001b[0m\u001b[0m\n\u001b[1;32m     25\u001b[0m             \u001b[0minput_params\u001b[0m\u001b[0;34m[\u001b[0m\u001b[0mp\u001b[0m\u001b[0;34m]\u001b[0m \u001b[0;34m=\u001b[0m \u001b[0msetting\u001b[0m\u001b[0;34m\u001b[0m\u001b[0m\n\u001b[0;32m---> 26\u001b[0;31m             \u001b[0mret\u001b[0m\u001b[0;34m[\u001b[0m\u001b[0mp\u001b[0m\u001b[0;34m]\u001b[0m\u001b[0;34m[\u001b[0m\u001b[0;36m0\u001b[0m\u001b[0;34m]\u001b[0m\u001b[0;34m[\u001b[0m\u001b[0mi\u001b[0m\u001b[0;34m]\u001b[0m\u001b[0;34m,\u001b[0m \u001b[0mret\u001b[0m\u001b[0;34m[\u001b[0m\u001b[0mp\u001b[0m\u001b[0;34m]\u001b[0m\u001b[0;34m[\u001b[0m\u001b[0;36m1\u001b[0m\u001b[0;34m]\u001b[0m\u001b[0;34m[\u001b[0m\u001b[0mi\u001b[0m\u001b[0;34m]\u001b[0m \u001b[0;34m=\u001b[0m \u001b[0malgo_wrap\u001b[0m\u001b[0;34m(\u001b[0m\u001b[0malgo\u001b[0m\u001b[0;34m,\u001b[0m \u001b[0mverbose\u001b[0m\u001b[0;34m=\u001b[0m\u001b[0mverbose\u001b[0m\u001b[0;34m,\u001b[0m \u001b[0mtrials\u001b[0m\u001b[0;34m=\u001b[0m\u001b[0mtrials\u001b[0m\u001b[0;34m,\u001b[0m \u001b[0;34m**\u001b[0m\u001b[0minput_params\u001b[0m\u001b[0;34m)\u001b[0m\u001b[0;34m\u001b[0m\u001b[0m\n\u001b[0m\u001b[1;32m     27\u001b[0m     \u001b[0;32mreturn\u001b[0m \u001b[0mret\u001b[0m\u001b[0;34m\u001b[0m\u001b[0m\n\u001b[1;32m     28\u001b[0m \u001b[0;34m\u001b[0m\u001b[0m\n",
      "\u001b[0;32m<ipython-input-4-4a795c596697>\u001b[0m in \u001b[0;36malgo_wrap\u001b[0;34m(algo, trials, name, verbose, **kwargs)\u001b[0m\n\u001b[1;32m      4\u001b[0m         \u001b[0;32mraise\u001b[0m \u001b[0mException\u001b[0m\u001b[0;34m(\u001b[0m\u001b[0;34m\"Need an input algo\"\u001b[0m\u001b[0;34m)\u001b[0m\u001b[0;34m\u001b[0m\u001b[0m\n\u001b[1;32m      5\u001b[0m     \u001b[0mtime_start\u001b[0m \u001b[0;34m=\u001b[0m \u001b[0mdatetime\u001b[0m\u001b[0;34m.\u001b[0m\u001b[0mnow\u001b[0m\u001b[0;34m(\u001b[0m\u001b[0;34m)\u001b[0m\u001b[0;34m\u001b[0m\u001b[0m\n\u001b[0;32m----> 6\u001b[0;31m     \u001b[0mbest_state\u001b[0m\u001b[0;34m,\u001b[0m \u001b[0mbest_fitness\u001b[0m  \u001b[0;34m=\u001b[0m \u001b[0mzip\u001b[0m\u001b[0;34m(\u001b[0m\u001b[0;34m*\u001b[0m\u001b[0;34m[\u001b[0m\u001b[0malgo\u001b[0m\u001b[0;34m(\u001b[0m\u001b[0mproblem\u001b[0m\u001b[0;34m,\u001b[0m \u001b[0;34m**\u001b[0m\u001b[0mkwargs\u001b[0m\u001b[0;34m)\u001b[0m                                      \u001b[0;32mfor\u001b[0m \u001b[0mi\u001b[0m \u001b[0;32min\u001b[0m \u001b[0mrange\u001b[0m\u001b[0;34m(\u001b[0m\u001b[0mtrials\u001b[0m\u001b[0;34m)\u001b[0m\u001b[0;34m]\u001b[0m\u001b[0;34m)\u001b[0m\u001b[0;34m\u001b[0m\u001b[0m\n\u001b[0m\u001b[1;32m      7\u001b[0m     \u001b[0maverage_time\u001b[0m \u001b[0;34m=\u001b[0m \u001b[0;34m(\u001b[0m\u001b[0;34m(\u001b[0m\u001b[0mdatetime\u001b[0m\u001b[0;34m.\u001b[0m\u001b[0mnow\u001b[0m\u001b[0;34m(\u001b[0m\u001b[0;34m)\u001b[0m \u001b[0;34m-\u001b[0m \u001b[0mtime_start\u001b[0m\u001b[0;34m)\u001b[0m\u001b[0;34m/\u001b[0m\u001b[0mtrials\u001b[0m\u001b[0;34m)\u001b[0m\u001b[0;34m.\u001b[0m\u001b[0mmicroseconds\u001b[0m\u001b[0;34m\u001b[0m\u001b[0m\n\u001b[1;32m      8\u001b[0m     \u001b[0maverage_best_fitness\u001b[0m \u001b[0;34m=\u001b[0m \u001b[0msum\u001b[0m\u001b[0;34m(\u001b[0m\u001b[0mbest_fitness\u001b[0m\u001b[0;34m)\u001b[0m \u001b[0;34m/\u001b[0m \u001b[0mtrials\u001b[0m\u001b[0;34m\u001b[0m\u001b[0m\n",
      "\u001b[0;32m<ipython-input-4-4a795c596697>\u001b[0m in \u001b[0;36m<listcomp>\u001b[0;34m(.0)\u001b[0m\n\u001b[1;32m      4\u001b[0m         \u001b[0;32mraise\u001b[0m \u001b[0mException\u001b[0m\u001b[0;34m(\u001b[0m\u001b[0;34m\"Need an input algo\"\u001b[0m\u001b[0;34m)\u001b[0m\u001b[0;34m\u001b[0m\u001b[0m\n\u001b[1;32m      5\u001b[0m     \u001b[0mtime_start\u001b[0m \u001b[0;34m=\u001b[0m \u001b[0mdatetime\u001b[0m\u001b[0;34m.\u001b[0m\u001b[0mnow\u001b[0m\u001b[0;34m(\u001b[0m\u001b[0;34m)\u001b[0m\u001b[0;34m\u001b[0m\u001b[0m\n\u001b[0;32m----> 6\u001b[0;31m     \u001b[0mbest_state\u001b[0m\u001b[0;34m,\u001b[0m \u001b[0mbest_fitness\u001b[0m  \u001b[0;34m=\u001b[0m \u001b[0mzip\u001b[0m\u001b[0;34m(\u001b[0m\u001b[0;34m*\u001b[0m\u001b[0;34m[\u001b[0m\u001b[0malgo\u001b[0m\u001b[0;34m(\u001b[0m\u001b[0mproblem\u001b[0m\u001b[0;34m,\u001b[0m \u001b[0;34m**\u001b[0m\u001b[0mkwargs\u001b[0m\u001b[0;34m)\u001b[0m                                      \u001b[0;32mfor\u001b[0m \u001b[0mi\u001b[0m \u001b[0;32min\u001b[0m \u001b[0mrange\u001b[0m\u001b[0;34m(\u001b[0m\u001b[0mtrials\u001b[0m\u001b[0;34m)\u001b[0m\u001b[0;34m]\u001b[0m\u001b[0;34m)\u001b[0m\u001b[0;34m\u001b[0m\u001b[0m\n\u001b[0m\u001b[1;32m      7\u001b[0m     \u001b[0maverage_time\u001b[0m \u001b[0;34m=\u001b[0m \u001b[0;34m(\u001b[0m\u001b[0;34m(\u001b[0m\u001b[0mdatetime\u001b[0m\u001b[0;34m.\u001b[0m\u001b[0mnow\u001b[0m\u001b[0;34m(\u001b[0m\u001b[0;34m)\u001b[0m \u001b[0;34m-\u001b[0m \u001b[0mtime_start\u001b[0m\u001b[0;34m)\u001b[0m\u001b[0;34m/\u001b[0m\u001b[0mtrials\u001b[0m\u001b[0;34m)\u001b[0m\u001b[0;34m.\u001b[0m\u001b[0mmicroseconds\u001b[0m\u001b[0;34m\u001b[0m\u001b[0m\n\u001b[1;32m      8\u001b[0m     \u001b[0maverage_best_fitness\u001b[0m \u001b[0;34m=\u001b[0m \u001b[0msum\u001b[0m\u001b[0;34m(\u001b[0m\u001b[0mbest_fitness\u001b[0m\u001b[0;34m)\u001b[0m \u001b[0;34m/\u001b[0m \u001b[0mtrials\u001b[0m\u001b[0;34m\u001b[0m\u001b[0m\n",
      "\u001b[0;32m~/anaconda2/envs/pyEnv/lib/python3.5/site-packages/mlrose/algorithms.py\u001b[0m in \u001b[0;36msimulated_annealing\u001b[0;34m(problem, schedule, max_attempts, max_iters, init_state)\u001b[0m\n\u001b[1;32m    243\u001b[0m             \u001b[0;31m# than prob, move to that state and reset attempts counter\u001b[0m\u001b[0;34m\u001b[0m\u001b[0;34m\u001b[0m\u001b[0m\n\u001b[1;32m    244\u001b[0m             \u001b[0;32mif\u001b[0m \u001b[0;34m(\u001b[0m\u001b[0mdelta_e\u001b[0m \u001b[0;34m>\u001b[0m \u001b[0;36m0\u001b[0m\u001b[0;34m)\u001b[0m \u001b[0;32mor\u001b[0m \u001b[0;34m(\u001b[0m\u001b[0mnp\u001b[0m\u001b[0;34m.\u001b[0m\u001b[0mrandom\u001b[0m\u001b[0;34m.\u001b[0m\u001b[0muniform\u001b[0m\u001b[0;34m(\u001b[0m\u001b[0;34m)\u001b[0m \u001b[0;34m<\u001b[0m \u001b[0mprob\u001b[0m\u001b[0;34m)\u001b[0m\u001b[0;34m:\u001b[0m\u001b[0;34m\u001b[0m\u001b[0m\n\u001b[0;32m--> 245\u001b[0;31m                 \u001b[0mproblem\u001b[0m\u001b[0;34m.\u001b[0m\u001b[0mset_state\u001b[0m\u001b[0;34m(\u001b[0m\u001b[0mnext_state\u001b[0m\u001b[0;34m)\u001b[0m\u001b[0;34m\u001b[0m\u001b[0m\n\u001b[0m\u001b[1;32m    246\u001b[0m                 \u001b[0mattempts\u001b[0m \u001b[0;34m=\u001b[0m \u001b[0;36m0\u001b[0m\u001b[0;34m\u001b[0m\u001b[0m\n\u001b[1;32m    247\u001b[0m \u001b[0;34m\u001b[0m\u001b[0m\n",
      "\u001b[0;32m~/anaconda2/envs/pyEnv/lib/python3.5/site-packages/mlrose/opt_probs.py\u001b[0m in \u001b[0;36mset_state\u001b[0;34m(self, new_state)\u001b[0m\n\u001b[1;32m    219\u001b[0m \u001b[0;34m\u001b[0m\u001b[0m\n\u001b[1;32m    220\u001b[0m         \u001b[0mself\u001b[0m\u001b[0;34m.\u001b[0m\u001b[0mstate\u001b[0m \u001b[0;34m=\u001b[0m \u001b[0mnew_state\u001b[0m\u001b[0;34m\u001b[0m\u001b[0m\n\u001b[0;32m--> 221\u001b[0;31m         \u001b[0mself\u001b[0m\u001b[0;34m.\u001b[0m\u001b[0mfitness\u001b[0m \u001b[0;34m=\u001b[0m \u001b[0mself\u001b[0m\u001b[0;34m.\u001b[0m\u001b[0meval_fitness\u001b[0m\u001b[0;34m(\u001b[0m\u001b[0mself\u001b[0m\u001b[0;34m.\u001b[0m\u001b[0mstate\u001b[0m\u001b[0;34m)\u001b[0m\u001b[0;34m\u001b[0m\u001b[0m\n\u001b[0m\u001b[1;32m    222\u001b[0m \u001b[0;34m\u001b[0m\u001b[0m\n\u001b[1;32m    223\u001b[0m \u001b[0;34m\u001b[0m\u001b[0m\n",
      "\u001b[0;32m~/anaconda2/envs/pyEnv/lib/python3.5/site-packages/mlrose/opt_probs.py\u001b[0m in \u001b[0;36meval_fitness\u001b[0;34m(self, state)\u001b[0m\n\u001b[1;32m     93\u001b[0m             \u001b[0;32mraise\u001b[0m \u001b[0mException\u001b[0m\u001b[0;34m(\u001b[0m\u001b[0;34m\"state length must match problem length\"\u001b[0m\u001b[0;34m)\u001b[0m\u001b[0;34m\u001b[0m\u001b[0m\n\u001b[1;32m     94\u001b[0m \u001b[0;34m\u001b[0m\u001b[0m\n\u001b[0;32m---> 95\u001b[0;31m         \u001b[0mfitness\u001b[0m \u001b[0;34m=\u001b[0m \u001b[0mself\u001b[0m\u001b[0;34m.\u001b[0m\u001b[0mmaximize\u001b[0m\u001b[0;34m*\u001b[0m\u001b[0mself\u001b[0m\u001b[0;34m.\u001b[0m\u001b[0mfitness_fn\u001b[0m\u001b[0;34m.\u001b[0m\u001b[0mevaluate\u001b[0m\u001b[0;34m(\u001b[0m\u001b[0mstate\u001b[0m\u001b[0;34m)\u001b[0m\u001b[0;34m\u001b[0m\u001b[0m\n\u001b[0m\u001b[1;32m     96\u001b[0m \u001b[0;34m\u001b[0m\u001b[0m\n\u001b[1;32m     97\u001b[0m         \u001b[0;32mreturn\u001b[0m \u001b[0mfitness\u001b[0m\u001b[0;34m\u001b[0m\u001b[0m\n",
      "\u001b[0;32m~/anaconda2/envs/pyEnv/lib/python3.5/site-packages/mlrose/fitness.py\u001b[0m in \u001b[0;36mevaluate\u001b[0;34m(self, state)\u001b[0m\n\u001b[1;32m    927\u001b[0m         \u001b[0;32mfor\u001b[0m \u001b[0mi\u001b[0m \u001b[0;32min\u001b[0m \u001b[0mrange\u001b[0m\u001b[0;34m(\u001b[0m\u001b[0mlen\u001b[0m\u001b[0;34m(\u001b[0m\u001b[0mself\u001b[0m\u001b[0;34m.\u001b[0m\u001b[0medges\u001b[0m\u001b[0;34m)\u001b[0m\u001b[0;34m)\u001b[0m\u001b[0;34m:\u001b[0m\u001b[0;34m\u001b[0m\u001b[0m\n\u001b[1;32m    928\u001b[0m             \u001b[0;31m# Check for adjacent nodes NOT of the same color\u001b[0m\u001b[0;34m\u001b[0m\u001b[0;34m\u001b[0m\u001b[0m\n\u001b[0;32m--> 929\u001b[0;31m             \u001b[0;32mif\u001b[0m \u001b[0mstate\u001b[0m\u001b[0;34m[\u001b[0m\u001b[0mself\u001b[0m\u001b[0;34m.\u001b[0m\u001b[0medges\u001b[0m\u001b[0;34m[\u001b[0m\u001b[0mi\u001b[0m\u001b[0;34m]\u001b[0m\u001b[0;34m[\u001b[0m\u001b[0;36m0\u001b[0m\u001b[0;34m]\u001b[0m\u001b[0;34m]\u001b[0m \u001b[0;34m!=\u001b[0m \u001b[0mstate\u001b[0m\u001b[0;34m[\u001b[0m\u001b[0mself\u001b[0m\u001b[0;34m.\u001b[0m\u001b[0medges\u001b[0m\u001b[0;34m[\u001b[0m\u001b[0mi\u001b[0m\u001b[0;34m]\u001b[0m\u001b[0;34m[\u001b[0m\u001b[0;36m1\u001b[0m\u001b[0;34m]\u001b[0m\u001b[0;34m]\u001b[0m\u001b[0;34m:\u001b[0m\u001b[0;34m\u001b[0m\u001b[0m\n\u001b[0m\u001b[1;32m    930\u001b[0m                 \u001b[0mfitness\u001b[0m \u001b[0;34m+=\u001b[0m \u001b[0;36m1\u001b[0m\u001b[0;34m\u001b[0m\u001b[0m\n\u001b[1;32m    931\u001b[0m \u001b[0;34m\u001b[0m\u001b[0m\n",
      "\u001b[0;31mKeyboardInterrupt\u001b[0m: "
     ]
    }
   ],
   "source": [
    "load_sa = False\n",
    "algo_name = \"sa\"\n",
    "fn = '{}_{}_stats.pickle'.format(prob_name, algo_name)\n",
    "\n",
    "sa_ret = None\n",
    "if load_sa:\n",
    "    with open(fn) as f:\n",
    "        sa_ret = pickle.load(f)\n",
    "else: \n",
    "    sa_ret = eval_wrap(mlrose.simulated_annealing, default_params, hyperparams)    \n",
    "    with open('{}_{}_stats.pickle'.format(prob_name, algo_name), 'wb') as handle:\n",
    "        pickle.dump(sa_ret, handle)"
   ]
  },
  {
   "cell_type": "code",
   "execution_count": null,
   "metadata": {},
   "outputs": [],
   "source": [
    "plot_all(prob_name, \"SA\", hyperparams, names, sa_ret)"
   ]
  },
  {
   "cell_type": "code",
   "execution_count": null,
   "metadata": {},
   "outputs": [],
   "source": [
    "from deap import base, creator, tools, algorithms\n",
    "creator.create(\"FitnessMax\", base.Fitness, weights=(1.0,))\n",
    "creator.create(\"Individual\", list, fitness=creator.FitnessMax)"
   ]
  },
  {
   "cell_type": "code",
   "execution_count": null,
   "metadata": {},
   "outputs": [],
   "source": [
    "toolbox = base.Toolbox()\n",
    "toolbox.register(\"attr_bool\", np.random.randint, 0, 2)\n",
    "toolbox.register(\"individual\", tools.initRepeat, creator.Individual, toolbox.attr_bool, n=kcolor_nodes)\n",
    "toolbox.register(\"population\", tools.initRepeat, list, toolbox.individual)"
   ]
  },
  {
   "cell_type": "code",
   "execution_count": null,
   "metadata": {},
   "outputs": [],
   "source": [
    "def evaluate(state): # Pulled from mlrose\n",
    "    fitness = 0\n",
    "\n",
    "    for i in range(len(edge_list)):\n",
    "        # Check for adjacent nodes NOT of the same color\n",
    "        if state[edge_list[i][0]] != state[edge_list[i][1]]:\n",
    "            fitness += 1\n",
    "\n",
    "    return fitness,\n",
    "toolbox.register(\"evaluate\", evaluate)\n",
    "toolbox.register(\"mate\", tools.cxTwoPoint)\n",
    "toolbox.register(\"mutate\", tools.mutFlipBit, indpb=0.10)\n",
    "toolbox.register(\"select\", tools.selTournament, tournsize=3)\n",
    "\n",
    "# plot_all(\"one_max\", \"GA\", hyperparams, names, ga_ret)"
   ]
  },
  {
   "cell_type": "code",
   "execution_count": null,
   "metadata": {},
   "outputs": [],
   "source": [
    "pop = toolbox.population(n=100)\n",
    "# hof = tools.HallOfFame(1)\n",
    "stats = tools.Statistics(lambda ind: ind.fitness.values)\n",
    "stats.register(\"avg\", np.mean)\n",
    "stats.register(\"min\", np.min)\n",
    "stats.register(\"max\", np.max)\n",
    "\n",
    "pop, logbook = algorithms.eaSimple(pop, toolbox, cxpb=0.5, mutpb=0.2, ngen=100, stats=stats, verbose=False)\n",
    "avg_, max_ = logbook.select(\"avg\", \"max\")\n",
    "print(avg_[-1], max_[-1])"
   ]
  },
  {
   "cell_type": "code",
   "execution_count": null,
   "metadata": {},
   "outputs": [],
   "source": [
    "# Yep, we're still copy-pasting\n",
    "# Wrapper for analysis, returns average time over trials and average best fitness\n",
    "# Not super generic, we're still getting two stats\n",
    "def algo_wrap_generic(algo, stats_fn, trials=100, name=\"\", **kwargs):\n",
    "    if algo == None:\n",
    "        raise Exception(\"Need an input algo\")\n",
    "    time_start = datetime.now()\n",
    "    avg_, max_  = zip(*[stats_fn(algo(**kwargs)) \\\n",
    "                                     for i in range(trials)])\n",
    "    avg_avg = sum(avg_) / trials\n",
    "    avg_max = sum(max_) / trials\n",
    "    return avg_avg, avg_max\n",
    "\n",
    "# Wrapper for looping over hyperparams - returns dictionary of times/fitnesses per hyperparam - presume default hyperparams elsewhere\n",
    "def eval_wrap_generic(algo, stats_fn, default_params, hyperparams, verbose=False, trials=100):\n",
    "    ret = {}\n",
    "    for p in hyperparams:\n",
    "        ret[p] = []\n",
    "        input_params = default_params\n",
    "        ret[p].append(np.empty_like(hyperparams[p])) \n",
    "        ret[p].append(np.empty_like(hyperparams[p]))\n",
    "        for i, setting in enumerate(hyperparams[p]):\n",
    "            print(setting, p)\n",
    "            input_params[p] = setting\n",
    "            ret[p][0][i], ret[p][1][i] = algo_wrap_generic(algo, stats_fn, trials=trials, **input_params)\n",
    "    return ret\n",
    "\n",
    "# Save figures, then plot them - names required for bar graphs\n",
    "def plot_genetic(problem_name, algo_name, hyperparams, names, stats):\n",
    "    for i, param in enumerate(stats):\n",
    "        plt.clf()\n",
    "        plt.xlabel(param)\n",
    "        plt.ylabel('')\n",
    "        plt.plot(hyperparams[param], stats[param][0], linestyle='--', color='cornflowerblue', label='average')\n",
    "        plt.plot(hyperparams[param], stats[param][1], linestyle='-', color='cornflowerblue', label='best')\n",
    "        plt.legend()\n",
    "        plt.title(\"{} {} Fitness v {}\".format(problem_name, algo_name, param))\n",
    "        plt.savefig(\"figures/{}_{}_{}_time.png\".format(problem_name, algo_name, param))\n",
    "        plt.clf()\n",
    "    # Now for the sake of the notebook, plot in subplots\n",
    "    plt.clf()\n",
    "    fig, axes = plt.subplots(len(stats.keys()), figsize=(12,8))\n",
    "    plt.tight_layout(h_pad=5)\n",
    "    fig.suptitle(\"{} {}\".format(problem_name, algo_name))\n",
    "    fig.subplots_adjust(top=0.88)\n",
    "    for i, param in enumerate(stats):\n",
    "        axes[i].set_xlabel(param)\n",
    "        axes[i].set_ylabel('Fitness')\n",
    "        axes[i].set_title(\"Fitness v {}\".format(param))\n",
    "        axes[i].plot(hyperparams[param], stats[param][0], linestyle='--', color='cornflowerblue', label='average')\n",
    "        axes[i].plot(hyperparams[param], stats[param][1], linestyle='-', color='cornflowerblue', label='best')"
   ]
  },
  {
   "cell_type": "code",
   "execution_count": null,
   "metadata": {},
   "outputs": [],
   "source": [
    "# Genetic Algorithms - the mlrose implementation is not sufficiently sophisticated to yield meaningful results\n",
    "mutation_rates = np.arange(0, .99, .05)\n",
    "gen_range = range(3, 153, 3)\n",
    "population_range = range(25, 525, 25)\n",
    "default_params = {'pop_size': 100, 'mutpb': 0.2, 'ngen': 100, 'cxpb': 0.5, 'verbose': False, 'stats': stats}\n",
    "hyperparams = {'pop_size': population_range, 'mutpb': mutation_rates, 'ngen': gen_range}"
   ]
  },
  {
   "cell_type": "code",
   "execution_count": null,
   "metadata": {},
   "outputs": [],
   "source": [
    "def ea_wrap(**kwargs):\n",
    "    pop = toolbox.population(n=kwargs[\"pop_size\"])\n",
    "    del kwargs[\"pop_size\"]\n",
    "    return algorithms.eaSimple(pop, toolbox, **kwargs)\n",
    "\n",
    "load_ga = False\n",
    "algo_name = \"ga\"\n",
    "def ga_stats(ea_ret):\n",
    "    pop, logbook = ea_ret\n",
    "    avg_, max_ = logbook.select(\"avg\", \"max\")\n",
    "    return avg_[-1], max_[-1]\n",
    "\n",
    "fn = '{}_{}_stats.pickle'.format(prob_name, algo_name)\n",
    "ga_ret = None\n",
    "if load_ga:\n",
    "    with open(fn) as f:\n",
    "        ga_ret = pickle.load(f)\n",
    "else: \n",
    "    ga_ret = eval_wrap_generic(ea_wrap, ga_stats, default_params, hyperparams, trials=1)    \n",
    "    with open('{}_{}_stats.pickle'.format(prob_name, algo_name), 'wb') as handle:\n",
    "        pickle.dump(ga_ret, handle)\n"
   ]
  },
  {
   "cell_type": "code",
   "execution_count": null,
   "metadata": {},
   "outputs": [],
   "source": [
    "plot_genetic(prob_name, \"GA\", hyperparams, {}, ga_ret)"
   ]
  },
  {
   "cell_type": "code",
   "execution_count": 19,
   "metadata": {},
   "outputs": [],
   "source": [
    "# MIMIC - this is very slow...\n",
    "population_range = range(25, 125, 25)\n",
    "keep_pct_range = np.arange(0.1, .91, .1)\n",
    "max_attempt_range = range(3, 25, 3)\n",
    "max_iter_range = range(120, 180, 20)\n",
    "default_params = {'pop_size': 100, 'max_attempts': 5, 'keep_pct': 0.4, 'max_iters': 100}\n",
    "# hyperparams = {'pop_size': population_range, 'max_attempts': max_attempt_range, 'keep_pct': keep_pct_range, 'max_iters': max_iter_range}\n",
    "hyperparams = {'max_iters': max_iter_range}"
   ]
  },
  {
   "cell_type": "code",
   "execution_count": 20,
   "metadata": {},
   "outputs": [
    {
     "name": "stdout",
     "output_type": "stream",
     "text": [
      "120 max_iters\n",
      "140 max_iters\n",
      "160 max_iters\n"
     ]
    }
   ],
   "source": [
    "load_mimic = False\n",
    "algo_name = \"mimic\"\n",
    "\n",
    "fn = '{}_{}_stats.pickle'.format(prob_name, algo_name)\n",
    "mimic_ret = None\n",
    "if load_mimic:\n",
    "    with open(fn, 'rb') as f:\n",
    "        mimic_ret = pickle.load(f)\n",
    "else: \n",
    "    mimic_ret = eval_wrap(mlrose.mimic, default_params, hyperparams, trials=1)    \n",
    "    with open('{}_{}_stats.pickle'.format(prob_name, algo_name), 'wb') as handle:\n",
    "        pickle.dump(mimic_ret, handle)"
   ]
  },
  {
   "cell_type": "code",
   "execution_count": 22,
   "metadata": {},
   "outputs": [
    {
     "name": "stdout",
     "output_type": "stream",
     "text": [
      "{'max_iters': [array([737354,  87796, 607529]), array([439, 425, 443])]}\n"
     ]
    }
   ],
   "source": [
    "print(mimic_ret)"
   ]
  },
  {
   "cell_type": "code",
   "execution_count": 21,
   "metadata": {},
   "outputs": [
    {
     "ename": "IndexError",
     "evalue": "too many indices for array",
     "output_type": "error",
     "traceback": [
      "\u001b[0;31m------------------------------------------------------------------------\u001b[0m",
      "\u001b[0;31mIndexError\u001b[0m                             Traceback (most recent call last)",
      "\u001b[0;32m<ipython-input-21-d2aa204d6158>\u001b[0m in \u001b[0;36m<module>\u001b[0;34m()\u001b[0m\n\u001b[0;32m----> 1\u001b[0;31m \u001b[0mplot_all\u001b[0m\u001b[0;34m(\u001b[0m\u001b[0mprob_name\u001b[0m\u001b[0;34m,\u001b[0m \u001b[0;34m\"MIMIC\"\u001b[0m\u001b[0;34m,\u001b[0m \u001b[0mhyperparams\u001b[0m\u001b[0;34m,\u001b[0m \u001b[0;34m{\u001b[0m\u001b[0;34m}\u001b[0m\u001b[0;34m,\u001b[0m \u001b[0mmimic_ret\u001b[0m\u001b[0;34m)\u001b[0m\u001b[0;34m\u001b[0m\u001b[0m\n\u001b[0m",
      "\u001b[0;32m<ipython-input-15-4a795c596697>\u001b[0m in \u001b[0;36mplot_all\u001b[0;34m(problem_name, algo_name, hyperparams, names, stats)\u001b[0m\n\u001b[1;32m     59\u001b[0m     \u001b[0mfig\u001b[0m\u001b[0;34m.\u001b[0m\u001b[0msubplots_adjust\u001b[0m\u001b[0;34m(\u001b[0m\u001b[0mtop\u001b[0m\u001b[0;34m=\u001b[0m\u001b[0;36m0.88\u001b[0m\u001b[0;34m)\u001b[0m\u001b[0;34m\u001b[0m\u001b[0m\n\u001b[1;32m     60\u001b[0m     \u001b[0;32mfor\u001b[0m \u001b[0mi\u001b[0m\u001b[0;34m,\u001b[0m \u001b[0mparam\u001b[0m \u001b[0;32min\u001b[0m \u001b[0menumerate\u001b[0m\u001b[0;34m(\u001b[0m\u001b[0mstats\u001b[0m\u001b[0;34m)\u001b[0m\u001b[0;34m:\u001b[0m\u001b[0;34m\u001b[0m\u001b[0m\n\u001b[0;32m---> 61\u001b[0;31m         \u001b[0maxes\u001b[0m\u001b[0;34m[\u001b[0m\u001b[0mi\u001b[0m\u001b[0;34m,\u001b[0m\u001b[0;36m0\u001b[0m\u001b[0;34m]\u001b[0m\u001b[0;34m.\u001b[0m\u001b[0mset_xlabel\u001b[0m\u001b[0;34m(\u001b[0m\u001b[0mparam\u001b[0m\u001b[0;34m)\u001b[0m\u001b[0;34m\u001b[0m\u001b[0m\n\u001b[0m\u001b[1;32m     62\u001b[0m         \u001b[0maxes\u001b[0m\u001b[0;34m[\u001b[0m\u001b[0mi\u001b[0m\u001b[0;34m,\u001b[0m\u001b[0;36m1\u001b[0m\u001b[0;34m]\u001b[0m\u001b[0;34m.\u001b[0m\u001b[0mset_xlabel\u001b[0m\u001b[0;34m(\u001b[0m\u001b[0mparam\u001b[0m\u001b[0;34m)\u001b[0m\u001b[0;34m\u001b[0m\u001b[0m\n\u001b[1;32m     63\u001b[0m         \u001b[0maxes\u001b[0m\u001b[0;34m[\u001b[0m\u001b[0mi\u001b[0m\u001b[0;34m,\u001b[0m\u001b[0;36m0\u001b[0m\u001b[0;34m]\u001b[0m\u001b[0;34m.\u001b[0m\u001b[0mset_ylabel\u001b[0m\u001b[0;34m(\u001b[0m\u001b[0;34mu'Time (\\u03bcs)'\u001b[0m\u001b[0;34m)\u001b[0m\u001b[0;34m\u001b[0m\u001b[0m\n",
      "\u001b[0;31mIndexError\u001b[0m: too many indices for array"
     ]
    },
    {
     "data": {
      "text/plain": [
       "<matplotlib.figure.Figure at 0x7f3c6d6cce80>"
      ]
     },
     "metadata": {},
     "output_type": "display_data"
    },
    {
     "data": {
      "image/png": "[encoded data removed]",
      "text/plain": [
       "<matplotlib.figure.Figure at 0x7f3c6f6cd3c8>"
      ]
     },
     "metadata": {},
     "output_type": "display_data"
    }
   ],
   "source": [
    "plot_all(prob_name, \"MIMIC\", hyperparams, {}, mimic_ret)"
   ]
  },
  {
   "cell_type": "code",
   "execution_count": null,
   "metadata": {},
   "outputs": [],
   "source": []
  }
 ],
 "metadata": {
  "kernelspec": {
   "display_name": "Python 3",
   "language": "python",
   "name": "python3"
  },
  "language_info": {
   "codemirror_mode": {
    "name": "ipython",
    "version": 3
   },
   "file_extension": ".py",
   "mimetype": "text/x-python",
   "name": "python",
   "nbconvert_exporter": "python",
   "pygments_lexer": "ipython3",
   "version": "3.5.5"
  }
 },
 "nbformat": 4,
 "nbformat_minor": 2
}
